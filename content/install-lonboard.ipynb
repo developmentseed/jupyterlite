{
  "cells": [
    {
      "cell_type": "code",
      "execution_count": 4,
      "metadata": {
        "trusted": true
      },
      "outputs": [],
      "source": [
        "import micropip\n",
        "\n",
        "packages = (\n",
        "    \"arro3_core-0.2.1-cp38-abi3-pyodide_2024_0_wasm32.whl\",\n",
        "    \"arro3_io-0.2.1-cp38-abi3-pyodide_2024_0_wasm32.whl\",\n",
        "    \"arro3_compute-0.2.1-cp38-abi3-pyodide_2024_0_wasm32.whl\",\n",
        ")\n",
        "\n",
        "for package in packages:\n",
        "    await micropip.install(f\"https://files.sunu.in/{package}\")"
      ]
    },
    {
      "cell_type": "code",
      "execution_count": 5,
      "metadata": {
        "trusted": true
      },
      "outputs": [
        {
          "data": {
            "text/plain": [
              "arro3.core.Array<Int64>"
            ]
          },
          "execution_count": 5,
          "metadata": {},
          "output_type": "execute_result"
        }
      ],
      "source": [
        "from arro3.core import Array, DataType\n",
        "\n",
        "Array([1, 2, 3,], DataType.int64())"
      ]
    },
    {
      "cell_type": "code",
      "execution_count": 7,
      "metadata": {
        "trusted": true
      },
      "outputs": [],
      "source": [
        "await micropip.install(f\"https://files.sunu.in/lonboard-0.9.3-py3-none-any.whl\")"
      ]
    },
    {
      "cell_type": "code",
      "execution_count": null,
      "metadata": {
        "trusted": true
      },
      "outputs": [],
      "source": [
        "import lonboard  # doesn't work; hangs forever with the following error in the JS console: Uncaught (in promise) CppException osgeo::proj::io::NoSuchAuthorityCodeException: crs not found"
      ]
    },
    {
      "cell_type": "code",
      "execution_count": null,
      "metadata": {
        "trusted": true
      },
      "outputs": [],
      "source": []
    }
  ],
  "metadata": {
    "kernelspec": {
      "display_name": "Python (Pyodide)",
      "language": "python",
      "name": "python"
    },
    "language_info": {
      "codemirror_mode": {
        "name": "python",
        "version": 3
      },
      "file_extension": ".py",
      "mimetype": "text/x-python",
      "name": "python",
      "nbconvert_exporter": "python",
      "pygments_lexer": "ipython3",
      "version": "3.8"
    }
  },
  "nbformat": 4,
  "nbformat_minor": 4
}
