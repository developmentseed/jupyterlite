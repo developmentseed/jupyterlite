{
  "metadata": {
    "kernelspec": {
      "name": "python",
      "display_name": "Python (Pyodide)",
      "language": "python"
    },
    "language_info": {
      "codemirror_mode": {
        "name": "python",
        "version": 3
      },
      "file_extension": ".py",
      "mimetype": "text/x-python",
      "name": "python",
      "nbconvert_exporter": "python",
      "pygments_lexer": "ipython3",
      "version": "3.8"
    }
  },
  "nbformat_minor": 4,
  "nbformat": 4,
  "cells": [
    {
      "cell_type": "code",
      "source": "import numpy",
      "metadata": {
        "trusted": true
      },
      "outputs": [],
      "execution_count": 1
    },
    {
      "cell_type": "code",
      "source": "import micropip\n\npackages = (\n    \"arro3_core-0.2.1-cp38-abi3-pyodide_2024_0_wasm32.whl\",\n    \"arro3_io-0.2.1-cp38-abi3-pyodide_2024_0_wasm32.whl\",\n    \"arro3_compute-0.2.1-cp38-abi3-pyodide_2024_0_wasm32.whl\",\n    \"matplotlib-3.10.0.dev585+g6166e5b990-cp312-cp312-pyodide_2024_0_wasm32.whl\",\n)\n\nfor package in packages:\n    await micropip.install(f\"https://files.sunu.in/{package}\")",
      "metadata": {
        "trusted": true
      },
      "outputs": [],
      "execution_count": 4
    },
    {
      "cell_type": "code",
      "source": "from arro3.core import Array, DataType\n\nArray([1, 2, 3,], DataType.int64())",
      "metadata": {
        "trusted": true
      },
      "outputs": [
        {
          "execution_count": 5,
          "output_type": "execute_result",
          "data": {
            "text/plain": "arro3.core.Array<Int64>"
          },
          "metadata": {}
        }
      ],
      "execution_count": 5
    },
    {
      "cell_type": "code",
      "source": "import matplotlib",
      "metadata": {
        "trusted": true
      },
      "outputs": [],
      "execution_count": 6
    },
    {
      "cell_type": "code",
      "source": "await micropip.install(f\"https://files.sunu.in/lonboard-0.9.3-py3-none-any.whl\")",
      "metadata": {
        "trusted": true
      },
      "outputs": [],
      "execution_count": 7
    },
    {
      "cell_type": "code",
      "source": "import lonboard",
      "metadata": {
        "trusted": true
      },
      "outputs": [],
      "execution_count": null
    },
    {
      "cell_type": "code",
      "source": "",
      "metadata": {
        "trusted": true
      },
      "outputs": [],
      "execution_count": 2
    },
    {
      "cell_type": "code",
      "source": "",
      "metadata": {
        "trusted": true
      },
      "outputs": [],
      "execution_count": null
    }
  ]
}