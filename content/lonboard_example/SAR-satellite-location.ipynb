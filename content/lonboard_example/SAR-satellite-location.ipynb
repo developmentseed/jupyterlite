{
  "cells": [
    {
      "cell_type": "markdown",
      "metadata": {},
      "source": [
        "# Synthetic Aperature Radar (SAR) Satellite Location Demo"
      ]
    },
    {
      "cell_type": "markdown",
      "metadata": {},
      "source": [
        "## Summary\n",
        "\n",
        "This notebook visualizes select SAR satellite orbit paths over Myanmar and Thailand from when the code is run until 48h later, to aid in humanitarian response to the region.\n",
        "\n",
        "**It does not guarantee a SAR image has been taken. Nor does it incldue all SAR satellites. It can be used to determine where images are likely to be captured, and by whom.**\n",
        "\n",
        "Please click on `Run` in the menu bar, followed by `Run All Cells`. You'll see an `*` next to the cells that are currently or waiting to be run, and a number once the cell has run. If you see a blank bracket `[ ]`, please re-run all cells again. \n",
        "\n",
        "If the last cell doesn't show a map, please re-run that cell by selecting it and then pressing `shift + enter`\n",
        "\n",
        "Cells have been hidden to focus on the output. Please click on any section or cell to expand it."
      ]
    },
    {
      "cell_type": "markdown",
      "metadata": {
        "jp-MarkdownHeadingCollapsed": true
      },
      "source": [
        "## Background"
      ]
    },
    {
      "cell_type": "markdown",
      "metadata": {},
      "source": [
        "Timeliness is an important aspect for countless uses of Earth Observation (EO) data. Humanitarians and emergency response organizations, for example, benefit from imagery immediately before or after an emergency.\n",
        "\n",
        "Knowing when an image was captured of an area of interested, or when it will be captured next, can help humanitarians emergency response organizations better understand where aid is most needed.\n",
        "\n",
        "This notebook demonstrates how the location of synthetic aperature radar (SAR) EO satellites can be computed in an area of interest."
      ]
    },
    {
      "cell_type": "markdown",
      "metadata": {
        "jp-MarkdownHeadingCollapsed": true
      },
      "source": [
        "## Load Libraries and Data"
      ]
    },
    {
      "cell_type": "markdown",
      "metadata": {},
      "source": [
        "We'll use the [sgp4](https://pypi.org/project/sgp4/) and [skyfield](https://rhodesmill.org/skyfield/) libraries, which help us calculate the position of satellites using complex orbital physics. Shapely will help us with some of the geometry creation and calculations, and Lonboard will be used to visualize the results."
      ]
    },
    {
      "cell_type": "code",
      "execution_count": 53,
      "metadata": {
        "trusted": true
      },
      "outputs": [],
      "source": [
        "import micropip\n",
        "await micropip.install(\"https://ds-wheels.s3.amazonaws.com/sgp4-2.23-cp312-cp312-pyodide_2024_0_wasm32.whl\")\n",
        "\n",
        "%pip install pyodide-unix-timezones"
      ]
    },
    {
      "cell_type": "code",
      "execution_count": 54,
      "metadata": {
        "trusted": true
      },
      "outputs": [],
      "source": [
        "deps = [\n",
        "    \"https://ds-wheels.s3.amazonaws.com/pyarrow-17.0.0-cp312-cp312-pyodide_2024_0_wasm32.whl\",\n",
        "    \"https://ds-wheels.s3.amazonaws.com/arro3_core-0.3.0-cp312-cp312-emscripten_3_1_58_wasm32.whl\",\n",
        "    \"https://ds-wheels.s3.amazonaws.com/arro3_compute-0.3.0-cp312-cp312-emscripten_3_1_58_wasm32.whl\",\n",
        "    \"https://ds-wheels.s3.amazonaws.com/arro3_io-0.3.0-cp312-cp312-emscripten_3_1_58_wasm32.whl\",\n",
        "    \"https://ds-wheels.s3.amazonaws.com/geoarrow_rust_core-0.3.0b1-cp38-abi3-emscripten_3_1_58_wasm32.whl\",\n",
        "    \"palettable\",\n",
        "    \"matplotlib\",\n",
        "    \"lonboard==0.10.0b2\"\n",
        "]\n",
        "await micropip.install(deps)"
      ]
    },
    {
      "cell_type": "code",
      "execution_count": 55,
      "metadata": {
        "trusted": true
      },
      "outputs": [],
      "source": [
        "%pip install skyfield"
      ]
    },
    {
      "cell_type": "code",
      "execution_count": 56,
      "metadata": {
        "trusted": true
      },
      "outputs": [],
      "source": [
        "from skyfield.api import load, wgs84, Timescale\n",
        "\n",
        "from datetime import datetime, timedelta, timezone\n",
        "\n",
        "from lonboard import viz, Map, ScatterplotLayer, basemap, PathLayer\n",
        "from lonboard.colormap import apply_continuous_cmap\n",
        "from palettable.colorbrewer.sequential import Oranges_9\n",
        "\n",
        "import geopandas as gpd\n",
        "import pandas as pd\n",
        "from shapely import Point, LineString, Polygon\n",
        "from shapely.geometry import LineString\n",
        "\n",
        "import requests"
      ]
    },
    {
      "cell_type": "markdown",
      "metadata": {
        "jp-MarkdownHeadingCollapsed": true
      },
      "source": [
        "## Set up list of satellites, area of interest (AOI) and timeframe"
      ]
    },
    {
      "cell_type": "markdown",
      "metadata": {},
      "source": [
        "We'll load information about specific satellites from [Celestrak](https://celestrak.org). Due to the complexities of orbital physics, data about satellites needs to be updated frequently is only accurate for about 1 week before and after \"epoch\".\n",
        "\n",
        "This demo fetches the orbital predictions for some (but not all) SAR satellites."
      ]
    },
    {
      "cell_type": "code",
      "execution_count": 57,
      "metadata": {
        "trusted": true
      },
      "outputs": [],
      "source": [
        "urls = [\n",
        "    \"https://celestrak.org/NORAD/elements/gp.php?INTDES=2014-016\", # SENTINEL-1A\n",
        "    \"https://celestrak.org/NORAD/elements/gp.php?INTDES=2024-235\", # SENTINEL-2C\n",
        "    \"https://celestrak.org/NORAD/elements/gp.php?INTDES=2007-061\", # RADARSAT-2\n",
        "    \"https://celestrak.org/NORAD/elements/gp.php?INTDES=2012-017\", # RISAT-1\n",
        "    \"https://celestrak.org/NORAD/elements/gp.php?INTDES=2007-023A\", # COSMO-SKYMED 1\n",
        "    \"https://celestrak.org/NORAD/elements/gp.php?INTDES=2007-059A\", # COSMO-SKYMED 2\n",
        "    \"https://celestrak.org/NORAD/elements/gp.php?INTDES=2008-054A\", # COSMO-SKYMED 3\n",
        "    \"https://celestrak.org/NORAD/elements/gp.php?INTDES=2010-060A\" # COSMO-SKYMED 4\n",
        "    \"https://celestrak.org/NORAD/elements/gp.php?INTDES=2018-099AU\",  # ICEYE-X2,\n",
        "    \"https://celestrak.org/NORAD/elements/gp.php?INTDES=2019-038C\",  # ICEYE-X5,\n",
        "    \"https://celestrak.org/NORAD/elements/gp.php?INTDES=2019-038D\",  # ICEYE-X4,\n",
        "    \"https://celestrak.org/NORAD/elements/gp.php?INTDES=2020-068L\",  # ICEYE-X7,\n",
        "    \"https://celestrak.org/NORAD/elements/gp.php?INTDES=2020-068M\",  # ICEYE-X6,\n",
        "    \"https://celestrak.org/NORAD/elements/gp.php?INTDES=2021-006CY\",  # XR-1 (ICEYE-X10),\n",
        "    \"https://celestrak.org/NORAD/elements/gp.php?INTDES=2021-006DB\",  # ICEYE-X8,\n",
        "    \"https://celestrak.org/NORAD/elements/gp.php?INTDES=2021-059AP\",  # ICEYE-X13,\n",
        "    \"https://celestrak.org/NORAD/elements/gp.php?INTDES=2021-059AQ\",  # ICEYE-X15,\n",
        "    \"https://celestrak.org/NORAD/elements/gp.php?INTDES=2021-059AR\",  # ICEYE-X11,\n",
        "    \"https://celestrak.org/NORAD/elements/gp.php?INTDES=2022-002CQ\",  # ICEYE-X14,\n",
        "    \"https://celestrak.org/NORAD/elements/gp.php?INTDES=2022-057AD\",  # ICEYE-X20,\n",
        "    \"https://celestrak.org/NORAD/elements/gp.php?INTDES=2022-057AG\",  # ICEYE-X17,\n",
        "    \"https://celestrak.org/NORAD/elements/gp.php?INTDES=2023-001AS\",  # ICEYE-X21,\n",
        "    \"https://celestrak.org/NORAD/elements/gp.php?INTDES=2023-001BF\",  # ICEYE-X27,\n",
        "    \"https://celestrak.org/NORAD/elements/gp.php?INTDES=2023-084R\",  # ICEYE-X30,\n",
        "    \"https://celestrak.org/NORAD/elements/gp.php?INTDES=2023-084T\",  # ICEYE-X23,\n",
        "    \"https://celestrak.org/NORAD/elements/gp.php?INTDES=2023-084AF\",  # ICEYE-X26,\n",
        "    \"https://celestrak.org/NORAD/elements/gp.php?INTDES=2023-084AH\",  # ICEYE-X25,\n",
        "    \"https://celestrak.org/NORAD/elements/gp.php?INTDES=2023-174AJ\",  # ICEYE-X31,\n",
        "    \"https://celestrak.org/NORAD/elements/gp.php?INTDES=2023-174AQ\",  # ICEYE-X34,\n",
        "    \"https://celestrak.org/NORAD/elements/gp.php?INTDES=2023-174AY\",  # ICEYE-X35,\n",
        "    \"https://celestrak.org/NORAD/elements/gp.php?INTDES=2024-043C\",  # ICEYE-X38,\n",
        "    \"https://celestrak.org/NORAD/elements/gp.php?INTDES=2024-043E\",  # ICEYE-X37,\n",
        "    \"https://celestrak.org/NORAD/elements/gp.php?INTDES=2024-043F\",  # ICEYE-X36,\n",
        "    \"https://celestrak.org/NORAD/elements/gp.php?INTDES=2024-149BZ\",  # ICEYE-X43,\n",
        "    \"https://celestrak.org/NORAD/elements/gp.php?INTDES=2024-149CG\",  # ICEYE-X39,\n",
        "    \"https://celestrak.org/NORAD/elements/gp.php?INTDES=2024-149CJ\",  # ICEYE-X33,\n",
        "    \"https://celestrak.org/NORAD/elements/gp.php?INTDES=2024-149CK\",  # ICEYE-X40,\n",
        "    \"https://celestrak.org/NORAD/elements/gp.php?INTDES=2024-247H\",  # ICEYE-X49,\n",
        "    \"https://celestrak.org/NORAD/elements/gp.php?INTDES=2024-247N\",  # ICEYE-X47,\n",
        "    \"https://celestrak.org/NORAD/elements/gp.php?INTDES=2025-009CT\",  # ICEYE-X42,\n",
        "    \"https://celestrak.org/NORAD/elements/gp.php?INTDES=2025-009CV\",  # ICEYE-X41,\n",
        "    \"https://celestrak.org/NORAD/elements/gp.php?INTDES=2025-009DA\",  # ICEYE-X45,\n",
        "    \"https://celestrak.org/NORAD/elements/gp.php?INTDES=2025-009DC\",  # ICEYE-X44,\n",
        "]"
      ]
    },
    {
      "cell_type": "code",
      "execution_count": 58,
      "metadata": {
        "trusted": true
      },
      "outputs": [],
      "source": [
        "# Output file to store all TLE data\n",
        "with open(\"combined_tle.txt\", \"w\") as outfile:\n",
        "    for url in urls:\n",
        "        response = requests.get(url)\n",
        "        if response.status_code == 200:\n",
        "            outfile.write(response.text.strip() + \"\\n\")  # Add double newline between TLE blocks\n",
        "        else:\n",
        "            print(f\"Failed to fetch {url} (status: {response.status_code})\")"
      ]
    },
    {
      "cell_type": "code",
      "execution_count": 59,
      "metadata": {
        "trusted": true
      },
      "outputs": [
        {
          "data": {
            "text/plain": [
              "[<EarthSatellite SENTINEL-1A catalog #39634 epoch 2025-04-03 04:59:01 UTC>,\n",
              " <EarthSatellite SENTINEL-1C catalog #62261 epoch 2025-04-03 04:08:24 UTC>,\n",
              " <EarthSatellite RADARSAT-2 catalog #32382 epoch 2025-04-03 04:49:23 UTC>,\n",
              " <EarthSatellite RISAT-1 catalog #38248 epoch 2025-04-03 01:21:37 UTC>,\n",
              " <EarthSatellite COSMO-SKYMED 1 catalog #31598 epoch 2025-04-03 03:52:11 UTC>,\n",
              " <EarthSatellite COSMO-SKYMED 2 catalog #32376 epoch 2025-04-03 04:40:48 UTC>,\n",
              " <EarthSatellite COSMO-SKYMED 3 catalog #33412 epoch 2025-04-03 04:18:39 UTC>,\n",
              " <EarthSatellite ICEYE-X5 catalog #44389 epoch 2025-04-03 04:26:17 UTC>,\n",
              " <EarthSatellite ICEYE-X4 catalog #44390 epoch 2025-04-03 06:07:24 UTC>,\n",
              " <EarthSatellite ICEYE-X7 catalog #46496 epoch 2025-04-03 04:46:14 UTC>,\n",
              " <EarthSatellite ICEYE-X6 catalog #46497 epoch 2025-04-03 02:57:32 UTC>,\n",
              " <EarthSatellite XR-1 (ICEYE-X10) catalog #47507 epoch 2025-04-03 03:41:41 UTC>,\n",
              " <EarthSatellite ICEYE-X8 catalog #47510 epoch 2025-04-03 05:05:50 UTC>,\n",
              " <EarthSatellite ICEYE-X13 catalog #48916 epoch 2025-04-03 05:20:05 UTC>,\n",
              " <EarthSatellite ICEYE-X15 catalog #48917 epoch 2025-04-03 04:37:12 UTC>,\n",
              " <EarthSatellite ICEYE-X11 catalog #48918 epoch 2025-04-03 04:09:22 UTC>,\n",
              " <EarthSatellite ICEYE-X14 catalog #51070 epoch 2025-04-03 04:26:22 UTC>,\n",
              " <EarthSatellite ICEYE-X20 catalog #52759 epoch 2025-04-03 04:19:25 UTC>,\n",
              " <EarthSatellite ICEYE-X17 catalog #52762 epoch 2025-04-03 05:20:20 UTC>,\n",
              " <EarthSatellite ICEYE-X21 catalog #55049 epoch 2025-04-03 04:40:38 UTC>,\n",
              " <EarthSatellite ICEYE-X27 catalog #55062 epoch 2025-04-02 17:41:42 UTC>,\n",
              " <EarthSatellite ICEYE-X30 catalog #56947 epoch 2025-04-02 20:58:43 UTC>,\n",
              " <EarthSatellite ICEYE-X23 catalog #56949 epoch 2025-04-03 03:40:36 UTC>,\n",
              " <EarthSatellite ICEYE-X26 catalog #56961 epoch 2025-04-02 15:07:44 UTC>,\n",
              " <EarthSatellite ICEYE-X25 catalog #56963 epoch 2025-04-03 05:15:05 UTC>,\n",
              " <EarthSatellite ICEYE-X31 catalog #58288 epoch 2025-04-03 04:23:48 UTC>,\n",
              " <EarthSatellite ICEYE-X34 catalog #58294 epoch 2025-04-02 17:54:43 UTC>,\n",
              " <EarthSatellite ICEYE-X35 catalog #58302 epoch 2025-04-03 04:25:11 UTC>,\n",
              " <EarthSatellite ICEYE-X38 catalog #59100 epoch 2025-04-03 04:36:12 UTC>,\n",
              " <EarthSatellite ICEYE-X37 catalog #59102 epoch 2025-04-02 19:32:00 UTC>,\n",
              " <EarthSatellite ICEYE-X36 catalog #59103 epoch 2025-04-03 01:57:36 UTC>,\n",
              " <EarthSatellite ICEYE-X43 catalog #60539 epoch 2025-04-02 19:19:45 UTC>,\n",
              " <EarthSatellite ICEYE-X39 catalog #60546 epoch 2025-04-02 18:29:22 UTC>,\n",
              " <EarthSatellite ICEYE-X33 catalog #60548 epoch 2025-04-02 18:42:37 UTC>,\n",
              " <EarthSatellite ICEYE-X40 catalog #60549 epoch 2025-04-03 05:00:59 UTC>,\n",
              " <EarthSatellite ICEYE-X49 catalog #62384 epoch 2025-04-02 12:29:48 UTC>,\n",
              " <EarthSatellite ICEYE-X47 catalog #62389 epoch 2025-04-02 12:31:44 UTC>,\n",
              " <EarthSatellite ICEYE-X42 catalog #62698 epoch 2025-04-02 18:21:11 UTC>,\n",
              " <EarthSatellite ICEYE-X41 catalog #62700 epoch 2025-04-02 18:13:24 UTC>,\n",
              " <EarthSatellite ICEYE-X45 catalog #62705 epoch 2025-04-02 19:19:22 UTC>,\n",
              " <EarthSatellite ICEYE-X44 catalog #62707 epoch 2025-04-02 19:18:43 UTC>]"
            ]
          },
          "execution_count": 59,
          "metadata": {},
          "output_type": "execute_result"
        }
      ],
      "source": [
        "satellites = load.tle_file(\"combined_tle.txt\", reload=True, filename=\"satellites\")\n",
        "satellites # this shows the full list of satellites whose position is being calculated."
      ]
    },
    {
      "cell_type": "markdown",
      "metadata": {},
      "source": [
        "For sudden-onset emergencies, the time immediately before an after an event are the most critical. We can set a time range of +2 days (48h) from a certain point in time. For the purposes of this notebook, we'll use `now` (the time when the cell is run). These techniques can also be applied in the past, if a before/after analysis is needed."
      ]
    },
    {
      "cell_type": "code",
      "execution_count": 60,
      "metadata": {
        "trusted": true
      },
      "outputs": [],
      "source": [
        "# Calculate the current UTC time (without microseconds), then creating a time range + 48h\n",
        "\n",
        "ts = load.timescale()\n",
        "\n",
        "now = datetime.now(timezone.utc).replace(microsecond=0)\n",
        "time_1 = now # change this if you'd like to have a different timeframe\n",
        "time_2 = now + timedelta(days=2) # change this if you'd like to have a different timeframe"
      ]
    },
    {
      "cell_type": "markdown",
      "metadata": {},
      "source": [
        "The `location_iteration` function lodes the geocentric location, calculates the latitude and longitude, converts them to decimal degrees, and saves them as a point coordinate. It also checks if the satellite is sunlit at the time of calculation, which can be used as an approximation of if it is daytime below."
      ]
    },
    {
      "cell_type": "code",
      "execution_count": 61,
      "metadata": {
        "trusted": true
      },
      "outputs": [],
      "source": [
        "def location_iteration(timer, sat):\n",
        "    geocentric = sat.at(Timescale.from_datetime(ts, timer))\n",
        "    lat, lon = wgs84.latlon_of(geocentric)\n",
        "    longitude = lon.degrees\n",
        "    latitude = lat.degrees\n",
        "    coords = Point(longitude, latitude)\n",
        "\n",
        "    return timer, longitude, latitude, coords"
      ]
    },
    {
      "cell_type": "markdown",
      "metadata": {},
      "source": [
        "Let's refine our area of interest to see when/where satellites pass overhead. This demo focuses on the area surrounding the earthquake in Myanmar in March 2024"
      ]
    },
    {
      "cell_type": "code",
      "execution_count": 62,
      "metadata": {
        "trusted": true
      },
      "outputs": [],
      "source": [
        "from shapely.geometry import box\n",
        "area = box(88, 7, 108, 28)"
      ]
    },
    {
      "cell_type": "markdown",
      "metadata": {},
      "source": [
        "Then, we can iterate over the time frame. The more frequent the measurements, the slower the calculation takes."
      ]
    },
    {
      "cell_type": "code",
      "execution_count": 63,
      "metadata": {
        "trusted": true
      },
      "outputs": [],
      "source": [
        "timer = time_1\n",
        "\n",
        "rows = []\n",
        "\n",
        "while timer <= time_2:\n",
        "    for sat in satellites:\n",
        "        timer, longitude, latitude, coords = location_iteration(timer, sat)\n",
        "\n",
        "        row = pd.DataFrame({'satellite': sat.name, 'timestamp': timer, 'coordinates': [coords], 'lng': longitude, 'lat': latitude}, index=[0])\n",
        "        rows.append(row)    \n",
        "\n",
        "    timer += timedelta(minutes=1) # ~ 2 minutes\n",
        "\n",
        "satellites_df = pd.concat(rows, ignore_index=True)\n",
        "satellites_df[\"time_string\"] = satellites_df[\"timestamp\"].dt.strftime('%Y-%m-%d %X')"
      ]
    },
    {
      "cell_type": "markdown",
      "metadata": {},
      "source": [
        "We only want to look at the satellite pass overs within our AOI."
      ]
    },
    {
      "cell_type": "markdown",
      "metadata": {
        "jp-MarkdownHeadingCollapsed": true
      },
      "source": [
        "## Visualize path of satellites"
      ]
    },
    {
      "cell_type": "markdown",
      "metadata": {},
      "source": [
        "We can \"connect the dots\" calculated in the previous step to show the path the satellite takes"
      ]
    },
    {
      "cell_type": "code",
      "execution_count": 64,
      "metadata": {
        "trusted": true
      },
      "outputs": [],
      "source": [
        "# 1. Sort and group by satellite\n",
        "satellites_df = satellites_df.sort_values(['satellite', 'timestamp'])\n",
        "\n",
        "segments = []"
      ]
    },
    {
      "cell_type": "code",
      "execution_count": 65,
      "metadata": {
        "trusted": true
      },
      "outputs": [],
      "source": [
        "# 2. Create line segments between consecutive positions of the same satellite\n",
        "for sat, group in satellites_df.groupby('satellite'):\n",
        "    group = group.reset_index(drop=True)\n",
        "    for i in range(len(group) - 1):\n",
        "        t0 = group.loc[i, 'timestamp']\n",
        "        t1 = group.loc[i + 1, 'timestamp']\n",
        "        pt0 = group.loc[i, 'coordinates']\n",
        "        pt1 = group.loc[i + 1, 'coordinates']\n",
        "\n",
        "        # Time difference check\n",
        "        dt = (t1 - t0)\n",
        "        if dt > pd.Timedelta(\"5 minutes\"):  # skip gaps\n",
        "            continue\n",
        "\n",
        "        line = LineString([pt0, pt1])\n",
        "\n",
        "        segments.append({\n",
        "            'satellite': sat,\n",
        "            'start_time': t0,\n",
        "            'end_time': t1,\n",
        "            'linestring': line,\n",
        "        })"
      ]
    },
    {
      "cell_type": "code",
      "execution_count": 66,
      "metadata": {
        "trusted": true
      },
      "outputs": [],
      "source": [
        "# 3. Convert to GeoDataFrame\n",
        "path_segments = gpd.GeoDataFrame(segments, geometry='linestring', crs='EPSG:4326')\n",
        "path_segments_proj = path_segments.to_crs(\"EPSG:3857\")"
      ]
    },
    {
      "cell_type": "code",
      "execution_count": 67,
      "metadata": {
        "trusted": true
      },
      "outputs": [],
      "source": [
        "path_segments['length_m'] = path_segments_proj.geometry.length\n",
        "\n",
        "MAX_LENGTH = 10_000_000 # m\n",
        "path_segments = path_segments[path_segments['length_m'] <= MAX_LENGTH]"
      ]
    },
    {
      "cell_type": "code",
      "execution_count": 69,
      "metadata": {
        "trusted": true
      },
      "outputs": [],
      "source": [
        "# 4. Keep only segments that intersect AOI\n",
        "path_segments['intersects_aoi'] = path_segments['linestring'].intersects(area)\n",
        "path_segments_clipped = path_segments[path_segments['intersects_aoi']].copy()"
      ]
    },
    {
      "cell_type": "code",
      "execution_count": 70,
      "metadata": {
        "trusted": true
      },
      "outputs": [],
      "source": [
        "# 5. Clip the segments to the AOI\n",
        "path_segments_clipped['clipped'] = path_segments_clipped['linestring'].intersection(area)"
      ]
    },
    {
      "cell_type": "code",
      "execution_count": 71,
      "metadata": {
        "trusted": true
      },
      "outputs": [],
      "source": [
        "path_segments_clipped = path_segments_clipped.set_geometry('clipped')"
      ]
    },
    {
      "cell_type": "code",
      "execution_count": 72,
      "metadata": {
        "trusted": true
      },
      "outputs": [],
      "source": [
        "path_segments_clipped = path_segments_clipped.drop(columns=['linestring', 'intersects_aoi', \"length_m\"]).set_crs(\"EPSG:4326\")"
      ]
    },
    {
      "cell_type": "code",
      "execution_count": 73,
      "metadata": {
        "trusted": true
      },
      "outputs": [],
      "source": [
        "path_segments_clipped[\"UTC\"] = path_segments_clipped[\"start_time\"].dt.strftime('%Y-%m-%d %X')"
      ]
    },
    {
      "cell_type": "markdown",
      "metadata": {},
      "source": [
        "As with the single satellite, we can create a color scale that shows the time of the satellite's pass for each line segment. In this example, white is closer to `now` and orange is closer to +48h."
      ]
    },
    {
      "cell_type": "code",
      "execution_count": 74,
      "metadata": {
        "trusted": true
      },
      "outputs": [],
      "source": [
        "# This creates a range from 0-1 to define our colormap.\n",
        "time_norm_satellites = (path_segments_clipped.start_time - time_1) / (time_2 - time_1)\n",
        "\n",
        "colors_satellites = apply_continuous_cmap(time_norm_satellites, Oranges_9, alpha=.5)"
      ]
    },
    {
      "cell_type": "markdown",
      "metadata": {},
      "source": [
        "We can roughly estimate the width of the ground coverage of a satellite to be 10km (i.e., the width of an image is 6km). To visualize this, we can set `get_width` to be 10km."
      ]
    },
    {
      "cell_type": "code",
      "execution_count": 75,
      "metadata": {
        "trusted": true
      },
      "outputs": [],
      "source": [
        "layer2 = PathLayer.from_geopandas(\n",
        "    path_segments_clipped,\n",
        "    get_color = colors_satellites,\n",
        "    get_width=15000,\n",
        "    opacity=1,\n",
        "    auto_highlight=True\n",
        ")"
      ]
    },
    {
      "cell_type": "markdown",
      "metadata": {},
      "source": [
        "# Map"
      ]
    },
    {
      "cell_type": "code",
      "execution_count": 76,
      "metadata": {
        "trusted": true
      },
      "outputs": [
        {
          "data": {
            "application/vnd.jupyter.widget-view+json": {
              "model_id": "3594980dedbe48e3b366fa1e55f37e90",
              "version_major": 2,
              "version_minor": 1
            },
            "text/plain": [
              "Map(basemap_style=<CartoBasemap.DarkMatter: 'https://basemaps.cartocdn.com/gl/dark-matter-gl-style/style.json'…"
            ]
          },
          "execution_count": 76,
          "metadata": {},
          "output_type": "execute_result"
        }
      ],
      "source": [
        "m2 = Map(\n",
        "    [layer2],\n",
        "    basemap_style = basemap.CartoBasemap.DarkMatter,\n",
        "    )\n",
        "m2"
      ]
    },
    {
      "cell_type": "code",
      "execution_count": null,
      "metadata": {
        "trusted": true
      },
      "outputs": [],
      "source": []
    }
  ],
  "metadata": {
    "kernelspec": {
      "display_name": "Python (Pyodide)",
      "language": "python",
      "name": "python"
    },
    "language_info": {
      "codemirror_mode": {
        "name": "python",
        "version": 3
      },
      "file_extension": ".py",
      "mimetype": "text/x-python",
      "name": "python",
      "nbconvert_exporter": "python",
      "pygments_lexer": "ipython3",
      "version": "3.8"
    }
  },
  "nbformat": 4,
  "nbformat_minor": 4
}
