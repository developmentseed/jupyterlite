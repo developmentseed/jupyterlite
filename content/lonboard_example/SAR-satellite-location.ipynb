{
  "metadata": {
    "kernelspec": {
      "name": "python",
      "display_name": "Python (Pyodide)",
      "language": "python"
    },
    "language_info": {
      "codemirror_mode": {
        "name": "python",
        "version": 3
      },
      "file_extension": ".py",
      "mimetype": "text/x-python",
      "name": "python",
      "nbconvert_exporter": "python",
      "pygments_lexer": "ipython3",
      "version": "3.8"
    }
  },
  "nbformat_minor": 4,
  "nbformat": 4,
  "cells": [
    {
      "cell_type": "markdown",
      "source": "# Synthetic Aperature Radar (SAR) Satellite Location Demo",
      "metadata": {}
    },
    {
      "cell_type": "markdown",
      "source": "## Summary\n\nThis notebook visualizes select SAR satellite orbit paths over Myanmar and Thailand from when the code is run until 48h later, to aid in humanitarian response to the region.\n\nPlease click on `Run` in the menu bar, followed by `Run All Cells`. You'll see an `*` next to the cells that are currently or waiting to be run, and a number once the cell has run. If you see a blank bracket `[ ]`, please re-run all cells again. \n\nIf the last cell doesn't show a map, please re-run that cell by selecting it and then pressing `shift + enter`\n\nCells have been hidden to focus on the output. Please click on any section or cell to expand it.",
      "metadata": {
        "jp-MarkdownHeadingCollapsed": true
      }
    },
    {
      "cell_type": "markdown",
      "source": "## Background",
      "metadata": {}
    },
    {
      "cell_type": "markdown",
      "source": "Timeliness is an important aspect for countless uses of Earth Observation (EO) data. Humanitarians and emergency response organizations, for example, benefit from imagery immediately before or after an emergency.\n\nKnowing when an image was captured of an area of interested, or when it will be captured next, can help humanitarians emergency response organizations better understand where aid is most needed.\n\nThis notebook demonstrates how the location of synthetic aperature radar (SAR) EO satellites can be computed in an area of interest.",
      "metadata": {}
    },
    {
      "cell_type": "markdown",
      "source": "## Load Libraries and Data",
      "metadata": {
        "jp-MarkdownHeadingCollapsed": true
      }
    },
    {
      "cell_type": "markdown",
      "source": "We'll use the [sgp4](https://pypi.org/project/sgp4/) and [skyfield](https://rhodesmill.org/skyfield/) libraries, which help us calculate the position of satellites using complex orbital physics. Shapely will help us with some of the geometry creation and calculations, and Lonboard will be used to visualize the results.",
      "metadata": {}
    },
    {
      "cell_type": "code",
      "source": "import micropip\nawait micropip.install(\"https://ds-wheels.s3.amazonaws.com/sgp4-2.23-cp312-cp312-pyodide_2024_0_wasm32.whl\")\n\n%pip install pyodide-unix-timezones",
      "metadata": {
        "trusted": true,
        "jupyter": {
          "source_hidden": true
        }
      },
      "outputs": [],
      "execution_count": null
    },
    {
      "cell_type": "code",
      "source": "deps = [\n    \"https://ds-wheels.s3.amazonaws.com/pyarrow-17.0.0-cp312-cp312-pyodide_2024_0_wasm32.whl\",\n    \"https://ds-wheels.s3.amazonaws.com/arro3_core-0.3.0-cp312-cp312-emscripten_3_1_58_wasm32.whl\",\n    \"https://ds-wheels.s3.amazonaws.com/arro3_compute-0.3.0-cp312-cp312-emscripten_3_1_58_wasm32.whl\",\n    \"https://ds-wheels.s3.amazonaws.com/arro3_io-0.3.0-cp312-cp312-emscripten_3_1_58_wasm32.whl\",\n    \"https://ds-wheels.s3.amazonaws.com/geoarrow_rust_core-0.3.0b1-cp38-abi3-emscripten_3_1_58_wasm32.whl\",\n    \"palettable\",\n    \"matplotlib\",\n    \"lonboard==0.10.0b2\"\n]\nawait micropip.install(deps)",
      "metadata": {
        "trusted": true,
        "jupyter": {
          "source_hidden": true
        }
      },
      "outputs": [],
      "execution_count": null
    },
    {
      "cell_type": "code",
      "source": "%pip install skyfield",
      "metadata": {
        "trusted": true,
        "jupyter": {
          "source_hidden": true
        }
      },
      "outputs": [],
      "execution_count": null
    },
    {
      "cell_type": "code",
      "source": "from skyfield.api import load, wgs84, Timescale\n\nfrom datetime import datetime, timedelta, timezone\n\nfrom lonboard import viz, Map, ScatterplotLayer, basemap, PathLayer\nfrom lonboard.colormap import apply_continuous_cmap\nfrom palettable.colorbrewer.sequential import Oranges_9\n\nimport geopandas as gpd\nimport pandas as pd\nfrom shapely import Point, LineString, Polygon\n\nimport requests",
      "metadata": {
        "trusted": true,
        "jupyter": {
          "source_hidden": true
        }
      },
      "outputs": [],
      "execution_count": null
    },
    {
      "cell_type": "markdown",
      "source": "## Set up list of satellites, area of interest (AOI) and timeframe",
      "metadata": {
        "jp-MarkdownHeadingCollapsed": true
      }
    },
    {
      "cell_type": "markdown",
      "source": "We'll load information about specific satellites from [Celestrak](https://celestrak.org). Due to the complexities of orbital physics, data about satellites needs to be updated frequently is only accurate for about 1 week before and after \"epoch\".\n\nThis demo fetches the orbital predictions for some (but not all) SAR satellites.",
      "metadata": {}
    },
    {
      "cell_type": "code",
      "source": "urls = [\n    \"https://celestrak.org/NORAD/elements/gp.php?INTDES=2014-016\", # SENTINEL-1A\n    \"https://celestrak.org/NORAD/elements/gp.php?INTDES=2024-235\", # SENTINEL-2C\n    \"https://celestrak.org/NORAD/elements/gp.php?INTDES=2007-061\", # RADARSAT-2\n    \"https://celestrak.org/NORAD/elements/gp.php?INTDES=2012-017\" # RISAT-1\n]\n\n# Output file to store all TLE data\nwith open(\"combined_tle.txt\", \"w\") as outfile:\n    for url in urls:\n        response = requests.get(url)\n        if response.status_code == 200:\n            outfile.write(response.text.strip() + \"\\n\")  # Add double newline between TLE blocks\n        else:\n            print(f\"Failed to fetch {url} (status: {response.status_code})\")",
      "metadata": {
        "trusted": true,
        "jupyter": {
          "source_hidden": true
        }
      },
      "outputs": [],
      "execution_count": null
    },
    {
      "cell_type": "code",
      "source": "satellites = load.tle_file(\"combined_tle.txt\", reload=True, filename=\"satellites\")\nsatellites # this shows the full list of satellites whose position is being calculated.",
      "metadata": {
        "trusted": true,
        "jupyter": {
          "source_hidden": true
        }
      },
      "outputs": [],
      "execution_count": null
    },
    {
      "cell_type": "markdown",
      "source": "For sudden-onset emergencies, the time immediately before an after an event are the most critical. We can set a time range of +2 days (48h) from a certain point in time. For the purposes of this notebook, we'll use `now` (the time when the cell is run). These techniques can also be applied in the past, if a before/after analysis is needed.",
      "metadata": {}
    },
    {
      "cell_type": "code",
      "source": "# Calculate the current UTC time (without microseconds), then creating a time range + 48h\n\nts = load.timescale()\n\nnow = datetime.now(timezone.utc).replace(microsecond=0)\nt1 = now\nt2 = now + timedelta(days=2) # change this if you'd like to have a different timeframe",
      "metadata": {
        "trusted": true,
        "jupyter": {
          "source_hidden": true
        }
      },
      "outputs": [],
      "execution_count": null
    },
    {
      "cell_type": "markdown",
      "source": "The `location_iteration` function lodes the geocentric location, calculates the latitude and longitude, converts them to decimal degrees, and saves them as a point coordinate. It also checks if the satellite is sunlit at the time of calculation, which can be used as an approximation of if it is daytime below.",
      "metadata": {}
    },
    {
      "cell_type": "code",
      "source": "def location_iteration(timer, sat):\n    geocentric = sat.at(Timescale.from_datetime(ts, timer))\n    lat, lon = wgs84.latlon_of(geocentric)\n    longitude = lon.degrees\n    latitude = lat.degrees\n    coords = Point(longitude, latitude)\n\n    return timer, longitude, latitude, coords",
      "metadata": {
        "trusted": true,
        "jupyter": {
          "source_hidden": true
        }
      },
      "outputs": [],
      "execution_count": null
    },
    {
      "cell_type": "markdown",
      "source": "Let's refine our area of interest to see when/where satellites pass overhead. This demo focuses on the area surrounding the earthquake in Myanmar in March 2024",
      "metadata": {}
    },
    {
      "cell_type": "code",
      "source": "min_lon = x_min = 88\nmax_lon = x_max = 108\nmin_lat = y_min = 7\nmax_lat = y_max = 28\n\nbbox=[min_lon, max_lon, min_lat, max_lat]\nbbox\n\n# Defining our AOI as a polygon shape\narea = Polygon([(x_min, y_min), (x_max, y_min), (x_max, y_max), (x_min, y_max), (x_min,y_min)])",
      "metadata": {
        "trusted": true,
        "jupyter": {
          "source_hidden": true
        }
      },
      "outputs": [],
      "execution_count": null
    },
    {
      "cell_type": "markdown",
      "source": "Then, we can iterate over the time frame. The more frequent the measurements, the slower the calculation takes.",
      "metadata": {}
    },
    {
      "cell_type": "code",
      "source": "timer = t1\n\nrows = []\n\nwhile timer <= t2:\n    for sat in satellites:\n        timer, longitude, latitude, coords = location_iteration(timer, sat)\n\n        row = pd.DataFrame({'satellite': sat.name, 'timestamp': timer, 'coordinates': [coords], 'lng': longitude, 'lat': latitude}, index=[0])\n        rows.append(row)    \n\n    timer += timedelta(minutes=1) # ~ 10s\n\nsatellites_df = pd.concat(rows, ignore_index=True)\nsatellites_df[\"time_string\"] = satellites_df[\"timestamp\"].dt.strftime('%Y-%m-%d %X')\n",
      "metadata": {
        "trusted": true,
        "jupyter": {
          "source_hidden": true
        }
      },
      "outputs": [],
      "execution_count": null
    },
    {
      "cell_type": "code",
      "source": "satellites_gdf = gpd.GeoDataFrame(satellites_df, geometry=\"coordinates\")",
      "metadata": {
        "trusted": true,
        "jupyter": {
          "source_hidden": true
        }
      },
      "outputs": [],
      "execution_count": null
    },
    {
      "cell_type": "markdown",
      "source": "We only want to look at the satellite pass overs within our AOI.",
      "metadata": {}
    },
    {
      "cell_type": "code",
      "source": "mask_lon = (satellites_gdf.lng >= min_lon) & (satellites_gdf.lng <= max_lon)\nmask_lat = (satellites_gdf.lat >= min_lat) & (satellites_gdf.lat <= max_lat)\n\naoi = satellites_gdf.where(mask_lon & mask_lat).dropna()",
      "metadata": {
        "trusted": true,
        "jupyter": {
          "source_hidden": true
        }
      },
      "outputs": [],
      "execution_count": null
    },
    {
      "cell_type": "markdown",
      "source": "## Visualize path of satellites",
      "metadata": {
        "jp-MarkdownHeadingCollapsed": true
      }
    },
    {
      "cell_type": "markdown",
      "source": "We can \"connect the dots\" calculated in the previous step to show the path the satellite takes",
      "metadata": {}
    },
    {
      "cell_type": "code",
      "source": "def create_individual_linestrings(coords, timestamps, time_strings):\n    coords_list = coords.tolist()\n    timestamps_list = timestamps.tolist()\n    time_strings_list = time_strings.tolist()\n    line_segments = [\n        {'linestring': LineString([coords_list[i], coords_list[i + 1]]), 'timestamp': timestamps_list[i], 'time_string': time_strings_list[i]} \n        for i in range(len(coords_list) - 1)\n    ]\n    return line_segments",
      "metadata": {
        "trusted": true,
        "jupyter": {
          "source_hidden": true
        }
      },
      "outputs": [],
      "execution_count": null
    },
    {
      "cell_type": "code",
      "source": "new_rows = []\n\nfor satellite, group in aoi.groupby('satellite'):\n    line_segments = create_individual_linestrings(group['coordinates'], group['timestamp'], group['time_string'])\n    for segment in line_segments:\n        new_rows.append({'satellite': satellite, 'linestring': segment['linestring'], 'timestamp': segment['timestamp'], 'time_string': segment['time_string']})\n\npath_segments = gpd.GeoDataFrame(new_rows, geometry='linestring')",
      "metadata": {
        "trusted": true,
        "jupyter": {
          "source_hidden": true
        }
      },
      "outputs": [],
      "execution_count": null
    },
    {
      "cell_type": "markdown",
      "source": "If these line segments are not within the AOI, we can drop them from the dataframe.",
      "metadata": {}
    },
    {
      "cell_type": "code",
      "source": "def is_within_aoi(linestring, aoi):\n    return linestring.intersects(aoi)",
      "metadata": {
        "trusted": true,
        "jupyter": {
          "source_hidden": true
        }
      },
      "outputs": [],
      "execution_count": null
    },
    {
      "cell_type": "code",
      "source": "path_segments['within_aoi'] = path_segments['linestring'].apply(lambda x: is_within_aoi(x, area))\npath_segments_clipped = path_segments[path_segments['within_aoi']].drop(columns='within_aoi')\n\npath_segments_clipped['length'] = path_segments_clipped['linestring'].apply(lambda x: x.length)\n\n# This is a way to drop segments that are not proper representations of paths, such as errors caused by traversing the International Date Line\npath_segments_clipped = path_segments_clipped[path_segments_clipped[\"length\"] <= 5].drop(columns='length')",
      "metadata": {
        "trusted": true,
        "jupyter": {
          "source_hidden": true
        }
      },
      "outputs": [],
      "execution_count": null
    },
    {
      "cell_type": "markdown",
      "source": "As with the single satellite, we can create a color scale that shows the time of the satellite's pass for each line segment. In this example, white is closer to `now` and orange is closer to +48h.",
      "metadata": {}
    },
    {
      "cell_type": "code",
      "source": "# This creates a range from 0-1 to define our colormap.\ntime_norm_satellites = (path_segments_clipped.timestamp - t1) / (t2 - t1)\n\ncolors_satellites = apply_continuous_cmap(time_norm_satellites, Oranges_9, alpha=.5)",
      "metadata": {
        "trusted": true,
        "jupyter": {
          "source_hidden": true
        }
      },
      "outputs": [],
      "execution_count": null
    },
    {
      "cell_type": "markdown",
      "source": "We can roughly estimate the width of the ground coverage of a satellite to be 10km (i.e., the width of an image is 6km). To visualize this, we can set `get_width` to be 10km.",
      "metadata": {}
    },
    {
      "cell_type": "code",
      "source": "layer2 = PathLayer.from_geopandas(\n    path_segments_clipped,\n    get_color = colors_satellites,\n    get_width=6000,\n    opacity=1,\n    auto_highlight=True\n)",
      "metadata": {
        "trusted": true,
        "jupyter": {
          "source_hidden": true
        }
      },
      "outputs": [],
      "execution_count": null
    },
    {
      "cell_type": "markdown",
      "source": "# Map",
      "metadata": {}
    },
    {
      "cell_type": "code",
      "source": "m2 = Map(\n    [layer2],\n    basemap_style = basemap.CartoBasemap.DarkMatter,\n    )\nm2",
      "metadata": {
        "trusted": true
      },
      "outputs": [],
      "execution_count": null
    }
  ]
}