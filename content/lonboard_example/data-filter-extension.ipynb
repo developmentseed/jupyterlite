{
  "metadata": {
    "kernelspec": {
      "name": "python",
      "display_name": "Python (Pyodide)",
      "language": "python"
    },
    "language_info": {
      "codemirror_mode": {
        "name": "python",
        "version": 3
      },
      "file_extension": ".py",
      "mimetype": "text/x-python",
      "name": "python",
      "nbconvert_exporter": "python",
      "pygments_lexer": "ipython3",
      "version": "3.8"
    }
  },
  "nbformat_minor": 4,
  "nbformat": 4,
  "cells": [
    {
      "cell_type": "markdown",
      "source": "# Client-side Lonboard in WebAssembly\n\n[Pyodide](https://pyodide.org/) is a project to compile Python to WebAssembly for use in the browser. [JupyterLite](https://jupyterlite.readthedocs.io/en/stable/) is a version of JupyterLab that uses Pyodide, so it runs entirely in the browser. You're likely reading this notebook from inside JupyterLite right now!\n\nAs of v0.10, Lonboard works in Pyodide! This notebook is a port of the [DataFilterExtension notebook](https://developmentseed.org/lonboard/latest/examples/data-filter-extension/) to run in Pyodide. It uses [arro3](https://github.com/kylebarron/arro3) and [geoarrow-rust](https://geoarrow.org/geoarrow-rs/python/latest/) instead of pandas, GeoPandas, and pyarrow. These dependencies work in Pyodide and are more memory efficient.\n\nThis notebook is still using quite a lot of data! It worked on my laptop, but it's possible it could crash your browser tab!\n\n## Dependencies\n\nAny non-pure-Python libraries need to be installed from special wheels instead of directly from PyPI. Some of Lonboard's dependencies (e.g. `arro3`) and related libraries (`geoarrow.rust`) have portions of compiled code.\n\nThe below wheels are not yet included in the pyodide distribution as of September 4, 2024, so we install them from specific URLs in an S3 bucket we control. In the future (with the next pyodide release), these specific URLs will not be necessary.",
      "metadata": {}
    },
    {
      "cell_type": "code",
      "source": "import micropip",
      "metadata": {
        "trusted": true
      },
      "outputs": [],
      "execution_count": 1
    },
    {
      "cell_type": "code",
      "source": "deps = [\n    \"https://ds-wheels.s3.amazonaws.com/arro3_core-0.3.0-cp312-cp312-emscripten_3_1_58_wasm32.whl\",\n    \"https://ds-wheels.s3.amazonaws.com/arro3_compute-0.3.0-cp312-cp312-emscripten_3_1_58_wasm32.whl\",\n    \"https://ds-wheels.s3.amazonaws.com/arro3_io-0.3.0-cp312-cp312-emscripten_3_1_58_wasm32.whl\",\n    \"https://ds-wheels.s3.amazonaws.com/geoarrow_rust_core-0.3.0b1-cp38-abi3-emscripten_3_1_58_wasm32.whl\",\n    \"palettable\",\n    \"matplotlib\",\n    \"lonboard==0.10.0b2\"\n]\nawait micropip.install(deps)",
      "metadata": {
        "trusted": true
      },
      "outputs": [],
      "execution_count": 2
    },
    {
      "cell_type": "markdown",
      "source": "## Imports",
      "metadata": {}
    },
    {
      "cell_type": "code",
      "source": "from io import BytesIO\nfrom pathlib import Path\n\nimport numpy as np\nimport requests\nfrom arro3.core import ChunkedArray, fixed_size_list_array\nfrom arro3.io import read_parquet\nfrom geoarrow.rust.core import ChunkedGeometryArray, centroid, from_wkt\nfrom ipywidgets import FloatRangeSlider, jsdlink\nfrom lonboard import Map, ScatterplotLayer\nfrom lonboard.colormap import apply_continuous_cmap\nfrom lonboard.controls import MultiRangeSlider\nfrom lonboard.layer_extension import DataFilterExtension\nfrom palettable.colorbrewer.diverging import BrBG_10\nfrom pyodide.http import pyfetch",
      "metadata": {
        "trusted": true
      },
      "outputs": [],
      "execution_count": 3
    },
    {
      "cell_type": "markdown",
      "source": "## Fetch data\n\nSimilarly to the upstream example, we'll use Parquet data directly from S3. It's not currently possible to compile async Rust-Python code for use in Pyodide, so we need to fetch the entire Parquet file content first, and then parse it into an Arrow table:",
      "metadata": {}
    },
    {
      "cell_type": "code",
      "source": "url = \"https://ookla-open-data.s3.us-west-2.amazonaws.com/parquet/performance/type=mobile/year=2019/quarter=1/2019-01-01_performance_mobile_tiles.parquet\"\nlocal_path = Path(\"data-filter-extension.parquet\")\nr = requests.get(url)",
      "metadata": {
        "trusted": true
      },
      "outputs": [],
      "execution_count": 4
    },
    {
      "cell_type": "markdown",
      "source": "Then parse this into an Arrow table using arro3:",
      "metadata": {}
    },
    {
      "cell_type": "code",
      "source": "table = read_parquet(BytesIO(r.content)).read_all()\ntable",
      "metadata": {
        "trusted": true
      },
      "outputs": [
        {
          "execution_count": 5,
          "output_type": "execute_result",
          "data": {
            "text/plain": "arro3.core.Table\n-----------\nquadkey: Utf8\ntile: Utf8\navg_d_kbps: Int64\navg_u_kbps: Int64\navg_lat_ms: Int64\ntests: Int64\ndevices: Int64"
          },
          "metadata": {}
        }
      ],
      "execution_count": 5
    },
    {
      "cell_type": "markdown",
      "source": "In Pyodide, we're very memory constrained, and when working with large data, we should delete old references as soon as we no longer need them:",
      "metadata": {}
    },
    {
      "cell_type": "code",
      "source": "del r",
      "metadata": {
        "trusted": true
      },
      "outputs": [],
      "execution_count": 6
    },
    {
      "cell_type": "markdown",
      "source": "Parse the Well-known Text geometry in the `\"tile\"` column to GeoArrow geometries:\n\n(note, this list comprehension is a hack, `from_wkt` will be updated to support chunked input)",
      "metadata": {}
    },
    {
      "cell_type": "code",
      "source": "geometry = ChunkedArray([from_wkt(chunk) for chunk in table[\"tile\"].chunks])",
      "metadata": {
        "trusted": true
      },
      "outputs": [],
      "execution_count": 7
    },
    {
      "cell_type": "markdown",
      "source": "Then compute the centroid of each of these geometries:",
      "metadata": {}
    },
    {
      "cell_type": "code",
      "source": "centroids = centroid(geometry)\ndel geometry",
      "metadata": {
        "trusted": true
      },
      "outputs": [],
      "execution_count": 8
    },
    {
      "cell_type": "markdown",
      "source": "Now create a new table with our geometry column and with specific attribute columns:",
      "metadata": {}
    },
    {
      "cell_type": "code",
      "source": "geo_table = table.select([\"avg_d_kbps\", \"avg_u_kbps\", \"avg_lat_ms\"]).append_column(\"geometry\", centroids)\ngeo_table\ndel centroids, table",
      "metadata": {
        "trusted": true
      },
      "outputs": [],
      "execution_count": 9
    },
    {
      "cell_type": "markdown",
      "source": "Now we create a DataFilterExtension, just like the upstream notebook.",
      "metadata": {}
    },
    {
      "cell_type": "code",
      "source": "filter_extension = DataFilterExtension(filter_size=3)",
      "metadata": {
        "trusted": true
      },
      "outputs": [],
      "execution_count": 10
    },
    {
      "cell_type": "code",
      "source": "avg_d_kbps = geo_table[\"avg_d_kbps\"].to_numpy()\navg_u_kbps = geo_table[\"avg_u_kbps\"].to_numpy()\navg_lat_ms = geo_table[\"avg_lat_ms\"].to_numpy()",
      "metadata": {
        "trusted": true
      },
      "outputs": [],
      "execution_count": 11
    },
    {
      "cell_type": "code",
      "source": "min_bound = 5000\nmax_bound = 50000\nnormalized_download_speed = (avg_d_kbps - min_bound) / (max_bound - min_bound)\nfill_color = apply_continuous_cmap(normalized_download_speed, BrBG_10)\nradius = normalized_download_speed * 200",
      "metadata": {
        "trusted": true
      },
      "outputs": [],
      "execution_count": 12
    },
    {
      "cell_type": "code",
      "source": "filter_values = np.column_stack(\n    [avg_d_kbps, avg_u_kbps, avg_lat_ms]\n)\ninitial_filter_range = [\n    [10_000, 50_000],\n    [1000, 10_000],\n    [0, 100],\n]",
      "metadata": {
        "trusted": true
      },
      "outputs": [],
      "execution_count": 13
    },
    {
      "cell_type": "markdown",
      "source": "We create a ScatterplotLayer with the filter extension applied",
      "metadata": {}
    },
    {
      "cell_type": "code",
      "source": "layer = ScatterplotLayer(\n    table=geo_table,\n    extensions=[filter_extension],\n    get_fill_color=fill_color,\n    get_radius=radius,\n    get_filter_value=filter_values,\n    filter_range=initial_filter_range,\n    radius_units=\"meters\",\n    radius_min_pixels=0.9,\n)\nm = Map(layer)\nm",
      "metadata": {
        "trusted": true
      },
      "outputs": [
        {
          "name": "stderr",
          "text": "/lib/python3.12/site-packages/lonboard/_geoarrow/ops/reproject.py:33: UserWarning: No CRS exists on data. If no data is shown on the map, double check that your CRS is WGS84.\n  warn(\n",
          "output_type": "stream"
        },
        {
          "execution_count": 14,
          "output_type": "execute_result",
          "data": {
            "text/plain": "Map(custom_attribution='', layers=(ScatterplotLayer(extensions=(DataFilterExtension(filter_size=3),), filter_r…",
            "application/vnd.jupyter.widget-view+json": {
              "version_major": 2,
              "version_minor": 1,
              "model_id": "148604cd97854b28b340112faac9e856"
            }
          },
          "metadata": {}
        }
      ],
      "execution_count": 14
    },
    {
      "cell_type": "markdown",
      "source": "Now we create our sliders to manage filter state between Python and JavaScript:",
      "metadata": {}
    },
    {
      "cell_type": "code",
      "source": "download_slider = FloatRangeSlider(value=initial_filter_range[0], min=0, max=70_000, step=0.1, description=\"Download: \")\nupload_slider = FloatRangeSlider(value=initial_filter_range[1], min=0, max=50_000, step=1, description=\"Upload: \")\nlatency_slider = FloatRangeSlider(value=initial_filter_range[2], min=0, max=500, step=1, description=\"Latency: \")\nmulti_slider = MultiRangeSlider([download_slider, upload_slider, latency_slider])\njsdlink((multi_slider, \"value\"), (layer, \"filter_range\"))\nmulti_slider",
      "metadata": {
        "trusted": true
      },
      "outputs": [
        {
          "execution_count": 15,
          "output_type": "execute_result",
          "data": {
            "text/plain": "MultiRangeSlider(children=(FloatRangeSlider(value=(10000.0, 50000.0), description='Download: ', max=70000.0), …",
            "application/vnd.jupyter.widget-view+json": {
              "version_major": 2,
              "version_minor": 0,
              "model_id": "c85c1494c49146c6b3b9c2f0f3a8ec8c"
            }
          },
          "metadata": {}
        }
      ],
      "execution_count": 15
    },
    {
      "cell_type": "code",
      "source": "",
      "metadata": {
        "trusted": true
      },
      "outputs": [],
      "execution_count": null
    }
  ]
}