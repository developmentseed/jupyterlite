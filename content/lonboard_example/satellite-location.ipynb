{
  "cells": [
    {
      "cell_type": "markdown",
      "metadata": {},
      "source": [
        "# Satellite Location Demo"
      ]
    },
    {
      "cell_type": "markdown",
      "metadata": {},
      "source": [
        "Timeliness is an important aspect for countless uses of Earth Observation (EO) data. Humanitarians and emergency response organizations, for example, benefit from imagery immediately before or after an emergency.\n",
        "\n",
        "Knowing when an image was captured of an area of interested, or when it will be captured next, can help humanitarians emergency response organizations better understand where aid is most needed.\n",
        "\n",
        "This notebook demonstrates how the location of EO satellites can be computed in an area of interest. This can be used as a proxy of where images were and will be captured. \n",
        "\n",
        "These techniques could be combined with those in other notebooks in this repository, such as loading STAC items and calculating how a disaster impacts people, to create automated analysis for past and future disasters."
      ]
    },
    {
      "cell_type": "markdown",
      "metadata": {},
      "source": [
        "## Load Libraries and Data"
      ]
    },
    {
      "cell_type": "markdown",
      "metadata": {},
      "source": [
        "We'll use the [sgp4](https://pypi.org/project/sgp4/) and [skyfield](https://rhodesmill.org/skyfield/) libraries, which help us calculate the position of satellites using complex orbital physics. Shapely will help us with some of the geometry creation and calculations, and Lonboard will be used to visualize the results."
      ]
    },
    {
      "cell_type": "code",
      "execution_count": 3,
      "metadata": {
        "trusted": true
      },
      "outputs": [],
      "source": [
        "import micropip\n",
        "await micropip.install(\"https://ds-wheels.s3.amazonaws.com/sgp4-2.23-cp312-cp312-pyodide_2024_0_wasm32.whl\")\n",
        "\n",
        "%pip install pyodide-unix-timezones"
      ]
    },
    {
      "cell_type": "code",
      "execution_count": 4,
      "metadata": {
        "trusted": true
      },
      "outputs": [],
      "source": [
        "deps = [\n",
        "    \"https://ds-wheels.s3.amazonaws.com/pyarrow-17.0.0-cp312-cp312-pyodide_2024_0_wasm32.whl\",\n",
        "    \"https://ds-wheels.s3.amazonaws.com/arro3_core-0.3.0-cp312-cp312-emscripten_3_1_58_wasm32.whl\",\n",
        "    \"https://ds-wheels.s3.amazonaws.com/arro3_compute-0.3.0-cp312-cp312-emscripten_3_1_58_wasm32.whl\",\n",
        "    \"https://ds-wheels.s3.amazonaws.com/arro3_io-0.3.0-cp312-cp312-emscripten_3_1_58_wasm32.whl\",\n",
        "    \"https://ds-wheels.s3.amazonaws.com/geoarrow_rust_core-0.3.0b1-cp38-abi3-emscripten_3_1_58_wasm32.whl\",\n",
        "    \"palettable\",\n",
        "    \"matplotlib\",\n",
        "    \"lonboard==0.10.0b2\"\n",
        "]\n",
        "await micropip.install(deps)"
      ]
    },
    {
      "cell_type": "code",
      "execution_count": 5,
      "metadata": {
        "trusted": true
      },
      "outputs": [],
      "source": [
        "%pip install skyfield"
      ]
    },
    {
      "cell_type": "code",
      "execution_count": 6,
      "metadata": {
        "trusted": true
      },
      "outputs": [],
      "source": [
        "from skyfield.api import load, wgs84, Timescale\n",
        "\n",
        "from datetime import datetime, timedelta, timezone\n",
        "\n",
        "from lonboard import viz, Map, ScatterplotLayer, basemap, PathLayer\n",
        "from lonboard.colormap import apply_continuous_cmap\n",
        "from palettable.colorbrewer.sequential import Oranges_9\n",
        "\n",
        "import geopandas as gpd\n",
        "import pandas as pd\n",
        "from shapely import Point, LineString, Polygon\n",
        "\n",
        "import requests"
      ]
    },
    {
      "cell_type": "markdown",
      "metadata": {},
      "source": [
        "## Calculating the position of a satellite"
      ]
    },
    {
      "cell_type": "markdown",
      "metadata": {},
      "source": [
        "We'll load information about specific satellites from [Celestrak](https://celestrak.org). Due to the complexities of orbital physics, data about satellites needs to be updated frequently is only accurate for about 1 week before and after \"epoch\".\n",
        "\n",
        "For this example, we'll calculate the position of Sentinel 2b."
      ]
    },
    {
      "cell_type": "code",
      "execution_count": 7,
      "metadata": {
        "trusted": true
      },
      "outputs": [],
      "source": [
        "sentinel_2b_url = \"https://celestrak.org/NORAD/elements/gp.php?CATNR=42063\"\n",
        "\n",
        "r = requests.get(sentinel_2b_url)\n",
        "\n",
        "with open('out1.txt', 'wb') as output:\n",
        "    output.write(r.content)"
      ]
    },
    {
      "cell_type": "code",
      "execution_count": 8,
      "metadata": {
        "trusted": true
      },
      "outputs": [],
      "source": [
        "sentinel_2b = load.tle_file(\"out1.txt\", reload=True, filename=\"sentinel_2b\")"
      ]
    },
    {
      "cell_type": "code",
      "execution_count": null,
      "metadata": {
        "trusted": true
      },
      "outputs": [],
      "source": [
        "# Check if the data loaded properly\n",
        "\n",
        "satellite = sentinel_2b[0]\n",
        "satellite"
      ]
    },
    {
      "cell_type": "markdown",
      "metadata": {},
      "source": [
        "For sudden-onset emergencies, the time immediately before an after an event are the most critical. We can set a time range of +2 days (48h) from a certain point in time. For the purposes of this notebook, we'll use `now` (the time when the cell is run). These techniques can also be applied in the past, if a before/after analysis is needed."
      ]
    },
    {
      "cell_type": "code",
      "execution_count": 10,
      "metadata": {
        "trusted": true
      },
      "outputs": [],
      "source": [
        "# WIP\n",
        "\n",
        "# f = open(\"../data/de421.bsp\", \"rb\")\n",
        "# ephemeris = f.read()\n",
        "\n",
        "# eph = SpiceKernel(ephemeris)"
      ]
    },
    {
      "cell_type": "code",
      "execution_count": 11,
      "metadata": {
        "trusted": true
      },
      "outputs": [],
      "source": [
        "# Calculate the current UTC time (without microseconds), then creating a time range + 48h\n",
        "\n",
        "# load timescale\n",
        "ts = load.timescale()\n",
        "\n",
        "# load \"ephemeris\" (https://rhodesmill.org/skyfield/api.html#planetary-ephemerides), which let's us determine if a satellite is illuminated by the sun (as a proxy of if the ground is lit)\n",
        "# eph = open('data/de421.bsp')\n",
        "\n",
        "now = datetime.now(timezone.utc).replace(microsecond=0)\n",
        "t1 = now\n",
        "t2 = now + timedelta(days=2)"
      ]
    },
    {
      "cell_type": "markdown",
      "metadata": {},
      "source": [
        "To calculate the position of the satellite throughout the time range, we can initiate a timer and then calculate the position at each time step (defined below)."
      ]
    },
    {
      "cell_type": "code",
      "execution_count": 12,
      "metadata": {
        "trusted": true
      },
      "outputs": [],
      "source": [
        "# initiate\n",
        "\n",
        "timer = t1\n",
        "\n",
        "df = pd.DataFrame(columns=['satellite', 'timestamp', 'coordinates', 'lng', 'lat', 'daytime'])\n",
        "\n",
        "rows = []"
      ]
    },
    {
      "cell_type": "markdown",
      "metadata": {},
      "source": [
        "The `location_iteration` function lodes the geocentric location, calculates the latitude and longitude, converts them to decimal degrees, and saves them as a point coordinate. It also checks if the satellite is sunlit at the time of calculation, which can be used as an approximation of if it is daytime below."
      ]
    },
    {
      "cell_type": "code",
      "execution_count": 13,
      "metadata": {
        "trusted": true
      },
      "outputs": [],
      "source": [
        "def location_iteration(timer, sat):\n",
        "    geocentric = sat.at(Timescale.from_datetime(ts, timer))\n",
        "    lat, lon = wgs84.latlon_of(geocentric)\n",
        "    longitude = lon.degrees\n",
        "    latitude = lat.degrees\n",
        "    # daytime = geocentric.is_sunlit(eph)\n",
        "    coords = Point(longitude, latitude)\n",
        "\n",
        "    return timer, longitude, latitude, coords"
      ]
    },
    {
      "cell_type": "markdown",
      "metadata": {},
      "source": [
        "Then, we can iterate over the time frame. The more frequent the measurements, the slower the calculation takes."
      ]
    },
    {
      "cell_type": "code",
      "execution_count": 14,
      "metadata": {
        "trusted": true
      },
      "outputs": [],
      "source": [
        "while timer <= t2:\n",
        "    timer, longitude, latitude, coords = location_iteration(timer, sentinel_2b[0])\n",
        "\n",
        "    row = pd.DataFrame({'satellite': satellite.name, 'timestamp': timer, 'coordinates': [coords], 'lng': longitude, 'lat': latitude}, index=[0])\n",
        "    rows.append(row)    \n",
        "\n",
        "    timer += timedelta(seconds=15) # ~13 seconds\n",
        "\n",
        "df = pd.concat(rows, ignore_index=True)\n",
        "df[\"time_string\"] = df[\"timestamp\"].dt.strftime('%Y-%m-%d %X')"
      ]
    },
    {
      "cell_type": "markdown",
      "metadata": {},
      "source": [
        "We can then save this as a geodataframe."
      ]
    },
    {
      "cell_type": "code",
      "execution_count": null,
      "metadata": {
        "trusted": true
      },
      "outputs": [],
      "source": [
        "sentinel_2b_gdf = gpd.GeoDataFrame(df, geometry=\"coordinates\")"
      ]
    },
    {
      "cell_type": "markdown",
      "metadata": {},
      "source": [
        "Let's refine our area of interest to see when/where satellites pass overhead. As the 2024 hurricane season in the Americas is under way, we can focus on the US state of Florida for our analysis."
      ]
    },
    {
      "cell_type": "code",
      "execution_count": 16,
      "metadata": {
        "trusted": true
      },
      "outputs": [],
      "source": [
        "min_lon = x_min = -89\n",
        "max_lon = x_max = -74\n",
        "min_lat = y_min = 22\n",
        "max_lat = y_max = 32\n",
        "\n",
        "bbox=[min_lon, max_lon, min_lat, max_lat]\n",
        "bbox\n",
        "\n",
        "# Defining our AOI as a polygon shape\n",
        "florida = Polygon([(x_min, y_min), (x_max, y_min), (x_max, y_max), (x_min, y_max), (x_min,y_min)])"
      ]
    },
    {
      "cell_type": "code",
      "execution_count": 17,
      "metadata": {
        "trusted": true
      },
      "outputs": [],
      "source": [
        "mask_lon = (sentinel_2b_gdf.lng >= min_lon) & (sentinel_2b_gdf.lng <= max_lon)\n",
        "mask_lat = (sentinel_2b_gdf.lat >= min_lat) & (sentinel_2b_gdf.lat <= max_lat)\n",
        "\n",
        "aoi = sentinel_2b_gdf.where(mask_lon & mask_lat).dropna()\n",
        "\n",
        "#sentinel_2b_daylit = aoi[aoi[\"daytime\"] == True]\n",
        "#sentinel_2b_daylit"
      ]
    },
    {
      "cell_type": "markdown",
      "metadata": {},
      "source": [
        "Next, we can visualize these points on a map. They are color coded using a continuous color scale, with white being `now` and darker purple being further after `now`."
      ]
    },
    {
      "cell_type": "code",
      "execution_count": 18,
      "metadata": {
        "trusted": true
      },
      "outputs": [],
      "source": [
        "# This creates a range from 0-1 to define our colormap.\n",
        "time_norm = (aoi.timestamp - t1) / (t2 - t1)\n",
        "\n",
        "colors = apply_continuous_cmap(time_norm, Oranges_9)"
      ]
    },
    {
      "cell_type": "code",
      "execution_count": null,
      "metadata": {
        "trusted": true
      },
      "outputs": [],
      "source": [
        "layer = ScatterplotLayer.from_geopandas(\n",
        "    aoi,\n",
        "    # extensions=[filter_extension],\n",
        "    get_fill_color=colors,\n",
        "    radius_min_pixels = 3\n",
        "    # get_filter_value=filter_values,\n",
        "    # filter_range=initial_filter_range,\n",
        ")\n",
        "\n",
        "m = Map(\n",
        "    layer,\n",
        "    basemap_style = basemap.CartoBasemap.DarkMatter,\n",
        "    )\n",
        "m"
      ]
    },
    {
      "cell_type": "markdown",
      "metadata": {},
      "source": [
        "We can clearly see the passes that Sentinel 2b takes in our area of interest and during our time frame, and during daytime hours."
      ]
    },
    {
      "cell_type": "markdown",
      "metadata": {},
      "source": [
        "---"
      ]
    },
    {
      "cell_type": "markdown",
      "metadata": {},
      "source": [
        "## Calculating the position of a satellite constellation"
      ]
    },
    {
      "cell_type": "markdown",
      "metadata": {},
      "source": [
        "Usually, humanitarians or emergency response organizations aren't concerned about which satellite captures an image, as long as they have a timely image with the appropriate resolution, (lack of) cloud cover, bands, etc.\n",
        "\n",
        "The following example calculates the position of Planet satellites. With their portfolio's high spatial and temporal resolution, they are able to capture high-resolution images immediately before or after an event."
      ]
    },
    {
      "cell_type": "code",
      "execution_count": 20,
      "metadata": {
        "trusted": true
      },
      "outputs": [],
      "source": [
        "planet_url = \"https://celestrak.org/NORAD/elements/gp.php?GROUP=planet&FORMAT=tle\"\n",
        "\n",
        "r = requests.get(planet_url)\n",
        "\n",
        "with open('out2.txt', 'wb') as output:\n",
        "    output.write(r.content)"
      ]
    },
    {
      "cell_type": "code",
      "execution_count": null,
      "metadata": {
        "trusted": true
      },
      "outputs": [],
      "source": [
        "planet_swarm = load.tle_file(\"out2.txt\", reload=True, filename=\"planet_swarm\")\n",
        "planet_swarm[0]"
      ]
    },
    {
      "cell_type": "markdown",
      "metadata": {},
      "source": [
        "We then calculate the locations for all Planet satellites during our time frame in set increments."
      ]
    },
    {
      "cell_type": "code",
      "execution_count": 22,
      "metadata": {
        "trusted": true
      },
      "outputs": [],
      "source": [
        "timer = t1\n",
        "\n",
        "rows = []\n",
        "\n",
        "while timer <= t2:\n",
        "    for sat in planet_swarm:\n",
        "        timer, longitude, latitude, coords = location_iteration(timer, sat)\n",
        "\n",
        "        row = pd.DataFrame({'satellite': sat.name, 'timestamp': timer, 'coordinates': [coords], 'lng': longitude, 'lat': latitude}, index=[0])\n",
        "        rows.append(row)    \n",
        "\n",
        "    timer += timedelta(minutes=2) # ~ 3.5 min\n",
        "\n",
        "planet_swarm_df = pd.concat(rows, ignore_index=True)\n",
        "planet_swarm_df[\"time_string\"] = planet_swarm_df[\"timestamp\"].dt.strftime('%Y-%m-%d %X')\n"
      ]
    },
    {
      "cell_type": "code",
      "execution_count": 23,
      "metadata": {
        "trusted": true
      },
      "outputs": [],
      "source": [
        "planet_swarm_gdf = gpd.GeoDataFrame(planet_swarm_df, geometry=\"coordinates\")"
      ]
    },
    {
      "cell_type": "markdown",
      "metadata": {},
      "source": [
        "Again, we want to look at the satellites in our AOI. Because Planet satellites capture optical images, the following shows the next passes that occur when the satellite is lit (as a proxy of when the ground below is lit)."
      ]
    },
    {
      "cell_type": "code",
      "execution_count": 24,
      "metadata": {
        "trusted": true
      },
      "outputs": [],
      "source": [
        "mask_lon = (planet_swarm_gdf.lng >= min_lon) & (planet_swarm_gdf.lng <= max_lon)\n",
        "mask_lat = (planet_swarm_gdf.lat >= min_lat) & (planet_swarm_gdf.lat <= max_lat)\n",
        "\n",
        "aoi_planet = planet_swarm_gdf.where(mask_lon & mask_lat).dropna()\n",
        "# aoi_planet_day = aoi_planet[aoi_planet.daytime == True]\n",
        "# aoi_planet_day[aoi_planet_day[\"timestamp\"] > now]\n",
        "\n",
        "# planet_day = planet_swarm_gdf[planet_swarm_gdf.daytime == True]\n",
        "# planet_day[planet_day[\"timestamp\"] > now]"
      ]
    },
    {
      "cell_type": "markdown",
      "metadata": {},
      "source": [
        "## Visualize path of satellites"
      ]
    },
    {
      "cell_type": "markdown",
      "metadata": {},
      "source": [
        "Instead of visualizing points on a map, a better representation would be a line. We can \"connect the dots\" calculated in the previous step."
      ]
    },
    {
      "cell_type": "code",
      "execution_count": 25,
      "metadata": {
        "trusted": true
      },
      "outputs": [],
      "source": [
        "def create_individual_linestrings(coords, timestamps, time_strings):\n",
        "    coords_list = coords.tolist()\n",
        "    timestamps_list = timestamps.tolist()\n",
        "    time_strings_list = time_strings.tolist()\n",
        "    line_segments = [\n",
        "        {'linestring': LineString([coords_list[i], coords_list[i + 1]]), 'timestamp': timestamps_list[i], 'time_string': time_strings_list[i]} \n",
        "        for i in range(len(coords_list) - 1)\n",
        "    ]\n",
        "    return line_segments"
      ]
    },
    {
      "cell_type": "code",
      "execution_count": null,
      "metadata": {
        "trusted": true
      },
      "outputs": [],
      "source": [
        "new_rows = []\n",
        "\n",
        "for satellite, group in aoi_planet.groupby('satellite'):\n",
        "    line_segments = create_individual_linestrings(group['coordinates'], group['timestamp'], group['time_string'])\n",
        "    for segment in line_segments:\n",
        "        new_rows.append({'satellite': satellite, 'linestring': segment['linestring'], 'timestamp': segment['timestamp'], 'time_string': segment['time_string']})\n",
        "\n",
        "path_segments = gpd.GeoDataFrame(new_rows, geometry='linestring')\n",
        "path_segments"
      ]
    },
    {
      "cell_type": "markdown",
      "metadata": {},
      "source": [
        "If these line segments are not within the AOI, we can drop them from the dataframe."
      ]
    },
    {
      "cell_type": "code",
      "execution_count": 27,
      "metadata": {
        "trusted": true
      },
      "outputs": [],
      "source": [
        "def is_within_aoi(linestring, florida):\n",
        "    return linestring.intersects(florida)"
      ]
    },
    {
      "cell_type": "code",
      "execution_count": 28,
      "metadata": {
        "trusted": true
      },
      "outputs": [],
      "source": [
        "path_segments['within_aoi'] = path_segments['linestring'].apply(lambda x: is_within_aoi(x, florida))\n",
        "path_segments_clipped = path_segments[path_segments['within_aoi']].drop(columns='within_aoi')\n",
        "\n",
        "path_segments_clipped['length'] = path_segments_clipped['linestring'].apply(lambda x: x.length)\n",
        "\n",
        "# This is a way to drop segments that are not proper representations of paths, such as errors caused by traversing the International Date Line, or jumps between calculated points when a satellite enters and exits a nighttime area.\n",
        "path_segments_clipped = path_segments_clipped[path_segments_clipped[\"length\"] <= 75].drop(columns='length')"
      ]
    },
    {
      "cell_type": "markdown",
      "metadata": {},
      "source": [
        "As with the single satellite, we can create a color scale that shows the time of the satellite's pass for each line segment. In this example, white is closer to `now` and orange is closer to +48h."
      ]
    },
    {
      "cell_type": "code",
      "execution_count": 29,
      "metadata": {
        "trusted": true
      },
      "outputs": [],
      "source": [
        "# This creates a range from 0-1 to define our colormap.\n",
        "time_norm_planet_swarm = (path_segments_clipped.timestamp - t1) / (t2 - t1)\n",
        "\n",
        "colors_planet_swarm = apply_continuous_cmap(time_norm_planet_swarm, Oranges_9, alpha=.5)"
      ]
    },
    {
      "cell_type": "markdown",
      "metadata": {},
      "source": [
        "We can roughly estimate the width of the ground coverage of a Planet satellite to be 6km (i.e., the width of an image is 6km). To visualize this, we can set `get_width` to be 6km."
      ]
    },
    {
      "cell_type": "code",
      "execution_count": null,
      "metadata": {
        "trusted": true
      },
      "outputs": [],
      "source": [
        "layer2 = PathLayer.from_geopandas(\n",
        "    path_segments_clipped,\n",
        "    get_color = colors_planet_swarm,\n",
        "    get_width=6000,\n",
        "    opacity=1,\n",
        "    auto_highlight=True\n",
        ")"
      ]
    },
    {
      "cell_type": "code",
      "execution_count": null,
      "metadata": {
        "trusted": true
      },
      "outputs": [],
      "source": [
        "m2 = Map(\n",
        "    [layer2],\n",
        "    basemap_style = basemap.CartoBasemap.DarkMatter,\n",
        "    )\n",
        "m2"
      ]
    },
    {
      "cell_type": "markdown",
      "metadata": {},
      "source": [
        "As expected, there are many more passes than by a single satellite. Due to small area of interests for many events, cloud cover, and other variables, a larger constellation lets practitioners then narrow down their search.\n",
        "\n",
        "The visualization of these paths give practitioners a good sense of the time an image of an area of interest will be captured. For example, a practitioner would be interested in an AOI of this size, but might be particularly interested in images of Miami. They could zoom in to Miami and see if a path covers or comes close to Miami. If so, and if there isn't excessive cloud cover, an image could be made available or tasked. If multiple paths cover Miami, that indicates a better chance of capturing a valuable image.\n",
        "\n",
        "Once a satellite is calculated to have passed over an AOI, the next step could be to analyze the imagery, ideally using the other STAC and COG focused notebooks in this repository. Combining a positioning calculation with automated image loading and processing could be the foundations for a powerful EO-based monitoring and alerting system."
      ]
    }
  ],
  "metadata": {
    "kernelspec": {
      "display_name": "Python 3",
      "language": "python",
      "name": "python3"
    },
    "language_info": {
      "codemirror_mode": {
        "name": "ipython",
        "version": 3
      },
      "file_extension": ".py",
      "mimetype": "text/x-python",
      "name": "python",
      "nbconvert_exporter": "python",
      "pygments_lexer": "ipython3",
      "version": "3.10.13"
    }
  },
  "nbformat": 4,
  "nbformat_minor": 4
}
