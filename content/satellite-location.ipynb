{
  "cells": [
    {
      "cell_type": "markdown",
      "metadata": {},
      "source": [
        "# Satellite Location Demo"
      ]
    },
    {
      "cell_type": "code",
      "execution_count": 2,
      "metadata": {
        "trusted": true
      },
      "outputs": [
        {
          "name": "stdout",
          "output_type": "stream",
          "text": [
            "True\n"
          ]
        }
      ],
      "source": [
        "import micropip\n",
        "await micropip.install(\"https://ds-wheels.s3.amazonaws.com/sgp4-2.23-cp312-cp312-pyodide_2024_0_wasm32.whl\")\n",
        "\n",
        "from sgp4.api import accelerated\n",
        "print(accelerated)"
      ]
    },
    {
      "cell_type": "markdown",
      "metadata": {},
      "source": [
        "Timeliness is an important aspect for countless uses of Earth Observation (EO) data. Humanitarians and emergency response organizations, for example, benefit from imagery immediately before or after an emergency.\n",
        "\n",
        "Knowing when an image was captured of an area of interested, or when it will be captured next, can help humanitarians emergency response organizations better understand where aid is most needed.\n",
        "\n",
        "This notebook demonstrates how the location of EO satellites can be computed in an area of interest. This can be used as a proxy of where images were and will be captured. \n",
        "\n",
        "These techniques could be combined with those in other notebooks in this repository, such as loading STAC items and calculating how a disaster impacts people, to create automated analysis for past and future disasters."
      ]
    },
    {
      "cell_type": "markdown",
      "metadata": {},
      "source": [
        "## Load Libraries and Data"
      ]
    },
    {
      "cell_type": "markdown",
      "metadata": {},
      "source": [
        "We'll use the [sgp4](https://pypi.org/project/sgp4/) and [skyfield](https://rhodesmill.org/skyfield/) libraries, which help us calculate the position of satellites using complex orbital physics. Shapely will help us with some of the geometry creation and calculations, and Lonboard will be used to visualize the results."
      ]
    },
    {
      "cell_type": "code",
      "execution_count": 3,
      "metadata": {
        "trusted": true
      },
      "outputs": [],
      "source": [
        "import micropip"
      ]
    },
    {
      "cell_type": "code",
      "execution_count": 4,
      "metadata": {
        "trusted": true
      },
      "outputs": [],
      "source": [
        "deps = [\n",
        "    \"https://ds-wheels.s3.amazonaws.com/arro3_core-0.3.0-cp312-cp312-emscripten_3_1_58_wasm32.whl\",\n",
        "    \"https://ds-wheels.s3.amazonaws.com/arro3_compute-0.3.0-cp312-cp312-emscripten_3_1_58_wasm32.whl\",\n",
        "    \"https://ds-wheels.s3.amazonaws.com/arro3_io-0.3.0-cp312-cp312-emscripten_3_1_58_wasm32.whl\",\n",
        "    \"https://ds-wheels.s3.amazonaws.com/geoarrow_rust_core-0.3.0b1-cp38-abi3-emscripten_3_1_58_wasm32.whl\",\n",
        "    \"palettable\",\n",
        "    \"matplotlib\",\n",
        "    \"lonboard==0.10.0b2\"\n",
        "]\n",
        "await micropip.install(deps)"
      ]
    },
    {
      "cell_type": "code",
      "execution_count": 5,
      "metadata": {
        "trusted": true
      },
      "outputs": [],
      "source": [
        "%pip install skyfield"
      ]
    },
    {
      "cell_type": "code",
      "execution_count": 7,
      "metadata": {
        "trusted": true
      },
      "outputs": [],
      "source": [
        "from skyfield.api import load, wgs84, Timescale\n",
        "\n",
        "from datetime import datetime, timedelta, timezone\n",
        "\n",
        "from lonboard import viz, Map, ScatterplotLayer, basemap, PathLayer\n",
        "from lonboard.colormap import apply_continuous_cmap\n",
        "from palettable.colorbrewer.sequential import Oranges_9\n",
        "\n",
        "import geopandas as gpd\n",
        "import pandas as pd\n",
        "from shapely import Point, LineString, Polygon"
      ]
    },
    {
      "cell_type": "markdown",
      "metadata": {},
      "source": [
        "## Calculating the position of a satellite"
      ]
    },
    {
      "cell_type": "markdown",
      "metadata": {},
      "source": [
        "We'll load information about specific satellites from [Celestrak](https://celestrak.org). Due to the complexities of orbital physics, data about satellites needs to be updated frequently is only accurate for about 1 week before and after \"epoch\".\n",
        "\n",
        "For this example, we'll calculate the position of Sentinel 2b."
      ]
    },
    {
      "cell_type": "code",
      "execution_count": 9,
      "metadata": {
        "trusted": true
      },
      "outputs": [
        {
          "ename": "<class 'OSError'>",
          "evalue": "cannot download https://celestrak.org/NORAD/elements/gp.php?CATNR=42063 because <urlopen error [Errno 23] Host is unreachable>",
          "output_type": "error",
          "traceback": [
            "\u001b[0;31m---------------------------------------------------------------------------\u001b[0m",
            "\u001b[0;31mOSError\u001b[0m                                   Traceback (most recent call last)",
            "Cell \u001b[0;32mIn[9], line 3\u001b[0m\n\u001b[1;32m      1\u001b[0m sentinel_2b_url \u001b[38;5;241m=\u001b[39m \u001b[38;5;124m\"\u001b[39m\u001b[38;5;124mhttps://celestrak.org/NORAD/elements/gp.php?CATNR=42063\u001b[39m\u001b[38;5;124m\"\u001b[39m\n\u001b[0;32m----> 3\u001b[0m sentinel_2b \u001b[38;5;241m=\u001b[39m \u001b[43mload\u001b[49m\u001b[38;5;241;43m.\u001b[39;49m\u001b[43mtle_file\u001b[49m\u001b[43m(\u001b[49m\u001b[43msentinel_2b_url\u001b[49m\u001b[43m,\u001b[49m\u001b[43m \u001b[49m\u001b[43mreload\u001b[49m\u001b[38;5;241;43m=\u001b[39;49m\u001b[38;5;28;43;01mTrue\u001b[39;49;00m\u001b[43m,\u001b[49m\u001b[43m \u001b[49m\u001b[43mfilename\u001b[49m\u001b[38;5;241;43m=\u001b[39;49m\u001b[38;5;124;43m\"\u001b[39;49m\u001b[38;5;124;43msentinel_2b\u001b[39;49m\u001b[38;5;124;43m\"\u001b[39;49m\u001b[43m)\u001b[49m\n",
            "File \u001b[0;32m/lib/python3.12/site-packages/skyfield/iokit.py:273\u001b[0m, in \u001b[0;36mLoader.tle_file\u001b[0;34m(self, url, reload, filename, ts, skip_names)\u001b[0m\n\u001b[1;32m    257\u001b[0m \u001b[38;5;28;01mdef\u001b[39;00m \u001b[38;5;21mtle_file\u001b[39m(\u001b[38;5;28mself\u001b[39m, url, reload\u001b[38;5;241m=\u001b[39m\u001b[38;5;28;01mFalse\u001b[39;00m, filename\u001b[38;5;241m=\u001b[39m\u001b[38;5;28;01mNone\u001b[39;00m,\n\u001b[1;32m    258\u001b[0m              ts\u001b[38;5;241m=\u001b[39m\u001b[38;5;28;01mNone\u001b[39;00m, skip_names\u001b[38;5;241m=\u001b[39m\u001b[38;5;28;01mFalse\u001b[39;00m):\n\u001b[1;32m    259\u001b[0m \u001b[38;5;250m    \u001b[39m\u001b[38;5;124;03m\"\"\"Load and parse a TLE file, returning a list of Earth satellites.\u001b[39;00m\n\u001b[1;32m    260\u001b[0m \n\u001b[1;32m    261\u001b[0m \u001b[38;5;124;03m    Given a URL or local path to an ASCII text file, this loads a\u001b[39;00m\n\u001b[0;32m   (...)\u001b[0m\n\u001b[1;32m    271\u001b[0m \n\u001b[1;32m    272\u001b[0m \u001b[38;5;124;03m    \"\"\"\u001b[39;00m\n\u001b[0;32m--> 273\u001b[0m     \u001b[38;5;28;01mwith\u001b[39;00m \u001b[38;5;28;43mself\u001b[39;49m\u001b[38;5;241;43m.\u001b[39;49m\u001b[43mopen\u001b[49m\u001b[43m(\u001b[49m\u001b[43murl\u001b[49m\u001b[43m,\u001b[49m\u001b[43m \u001b[49m\u001b[43mreload\u001b[49m\u001b[38;5;241;43m=\u001b[39;49m\u001b[43mreload\u001b[49m\u001b[43m,\u001b[49m\u001b[43m \u001b[49m\u001b[43mfilename\u001b[49m\u001b[38;5;241;43m=\u001b[39;49m\u001b[43mfilename\u001b[49m\u001b[43m)\u001b[49m \u001b[38;5;28;01mas\u001b[39;00m f:\n\u001b[1;32m    274\u001b[0m         \u001b[38;5;28;01mreturn\u001b[39;00m \u001b[38;5;28mlist\u001b[39m(parse_tle_file(f, ts, skip_names))\n",
            "File \u001b[0;32m/lib/python3.12/site-packages/skyfield/iokit.py:329\u001b[0m, in \u001b[0;36mLoader.open\u001b[0;34m(self, url, mode, reload, filename, backup)\u001b[0m\n\u001b[1;32m    326\u001b[0m \u001b[38;5;28;01mif\u001b[39;00m filename \u001b[38;5;129;01mis\u001b[39;00m \u001b[38;5;28;01mNone\u001b[39;00m:\n\u001b[1;32m    327\u001b[0m     filename \u001b[38;5;241m=\u001b[39m urlparse(url)\u001b[38;5;241m.\u001b[39mpath\u001b[38;5;241m.\u001b[39msplit(\u001b[38;5;124m'\u001b[39m\u001b[38;5;124m/\u001b[39m\u001b[38;5;124m'\u001b[39m)[\u001b[38;5;241m-\u001b[39m\u001b[38;5;241m1\u001b[39m]\n\u001b[0;32m--> 329\u001b[0m path \u001b[38;5;241m=\u001b[39m \u001b[38;5;28;43mself\u001b[39;49m\u001b[38;5;241;43m.\u001b[39;49m\u001b[43m_assure\u001b[49m\u001b[43m(\u001b[49m\u001b[43murl\u001b[49m\u001b[43m,\u001b[49m\u001b[43m \u001b[49m\u001b[43mfilename\u001b[49m\u001b[43m,\u001b[49m\u001b[43m \u001b[49m\u001b[43mreload\u001b[49m\u001b[43m,\u001b[49m\u001b[43m \u001b[49m\u001b[43mbackup\u001b[49m\u001b[43m)\u001b[49m\n\u001b[1;32m    330\u001b[0m \u001b[38;5;28;01mreturn\u001b[39;00m \u001b[38;5;28mopen\u001b[39m(path, mode)\n",
            "File \u001b[0;32m/lib/python3.12/site-packages/skyfield/iokit.py:214\u001b[0m, in \u001b[0;36mLoader._assure\u001b[0;34m(self, url, filename, reload, backup)\u001b[0m\n\u001b[1;32m    211\u001b[0m         \u001b[38;5;28;01mraise\u001b[39;00m \u001b[38;5;167;01mValueError\u001b[39;00m(\u001b[38;5;124m'\u001b[39m\u001b[38;5;124mSkyfield does not know where to download \u001b[39m\u001b[38;5;132;01m{!r}\u001b[39;00m\u001b[38;5;124m'\u001b[39m\n\u001b[1;32m    212\u001b[0m                          \u001b[38;5;241m.\u001b[39mformat(filename))\n\u001b[1;32m    213\u001b[0m     \u001b[38;5;28mself\u001b[39m\u001b[38;5;241m.\u001b[39m_log(\u001b[38;5;124m'\u001b[39m\u001b[38;5;124m  Downloading \u001b[39m\u001b[38;5;132;01m{0}\u001b[39;00m\u001b[38;5;124m'\u001b[39m, url)\n\u001b[0;32m--> 214\u001b[0m     \u001b[43mdownload\u001b[49m\u001b[43m(\u001b[49m\u001b[43murl\u001b[49m\u001b[43m,\u001b[49m\u001b[43m \u001b[49m\u001b[43mpath\u001b[49m\u001b[43m,\u001b[49m\u001b[43m \u001b[49m\u001b[38;5;28;43mself\u001b[39;49m\u001b[38;5;241;43m.\u001b[39;49m\u001b[43mverbose\u001b[49m\u001b[43m,\u001b[49m\u001b[43m \u001b[49m\u001b[43mbackup\u001b[49m\u001b[38;5;241;43m=\u001b[39;49m\u001b[43mbackup\u001b[49m\u001b[43m)\u001b[49m\n\u001b[1;32m    215\u001b[0m \u001b[38;5;28;01mreturn\u001b[39;00m path\n",
            "File \u001b[0;32m/lib/python3.12/site-packages/skyfield/iokit.py:525\u001b[0m, in \u001b[0;36mdownload\u001b[0;34m(url, path, verbose, blocksize, backup)\u001b[0m\n\u001b[1;32m    523\u001b[0m     e2 \u001b[38;5;241m=\u001b[39m \u001b[38;5;167;01mIOError\u001b[39;00m(\u001b[38;5;124m'\u001b[39m\u001b[38;5;124mcannot download \u001b[39m\u001b[38;5;132;01m{0}\u001b[39;00m\u001b[38;5;124m because \u001b[39m\u001b[38;5;132;01m{1}\u001b[39;00m\u001b[38;5;124m'\u001b[39m\u001b[38;5;241m.\u001b[39mformat(url, e))\n\u001b[1;32m    524\u001b[0m     e2\u001b[38;5;241m.\u001b[39m__cause__ \u001b[38;5;241m=\u001b[39m \u001b[38;5;28;01mNone\u001b[39;00m\n\u001b[0;32m--> 525\u001b[0m     \u001b[38;5;28;01mraise\u001b[39;00m e2\n\u001b[1;32m    527\u001b[0m \u001b[38;5;28;01mif\u001b[39;00m verbose \u001b[38;5;129;01mis\u001b[39;00m \u001b[38;5;28;01mNone\u001b[39;00m:\n\u001b[1;32m    528\u001b[0m     verbose \u001b[38;5;241m=\u001b[39m sys\u001b[38;5;241m.\u001b[39mstderr\u001b[38;5;241m.\u001b[39misatty()\n",
            "\u001b[0;31mOSError\u001b[0m: cannot download https://celestrak.org/NORAD/elements/gp.php?CATNR=42063 because <urlopen error [Errno 23] Host is unreachable>"
          ]
        }
      ],
      "source": [
        "sentinel_2b_url = \"https://celestrak.org/NORAD/elements/gp.php?CATNR=42063\"\n",
        "\n",
        "sentinel_2b = load.tle_file(sentinel_2b_url, reload=True, filename=\"sentinel_2b\")"
      ]
    },
    {
      "cell_type": "code",
      "execution_count": 3,
      "metadata": {},
      "outputs": [
        {
          "data": {
            "text/plain": [
              "<EarthSatellite SENTINEL-2B catalog #42063 epoch 2024-07-15 04:18:35 UTC>"
            ]
          },
          "execution_count": 3,
          "metadata": {},
          "output_type": "execute_result"
        }
      ],
      "source": [
        "satellite = sentinel_2b[0]\n",
        "satellite"
      ]
    },
    {
      "cell_type": "markdown",
      "metadata": {},
      "source": [
        "For sudden-onset emergencies, the time immediately before an after an event are the most critical. We can set a time range of +2 days (48h) from a certain point in time. For the purposes of this notebook, we'll use `now` (the time when the cell is run). These techniques can also be applied in the past, if a before/after analysis is needed."
      ]
    },
    {
      "cell_type": "code",
      "execution_count": 30,
      "metadata": {},
      "outputs": [],
      "source": [
        "# Calculate the current UTC time (without microseconds), then creating a time range + 48h\n",
        "\n",
        "# load timescale\n",
        "ts = load.timescale()\n",
        "\n",
        "# load \"ephemeris\" (https://rhodesmill.org/skyfield/api.html#planetary-ephemerides), which let's us determine if a satellite is illuminated by the sun (as a proxy of if the ground is lit)\n",
        "eph = load('data/de421.bsp')\n",
        "\n",
        "now = datetime.now(timezone.utc).replace(microsecond=0)\n",
        "t1 = now\n",
        "t2 = now + timedelta(days=2)"
      ]
    },
    {
      "cell_type": "markdown",
      "metadata": {},
      "source": [
        "To calculate the position of the satellite throughout the time range, we can initiate a timer and then calculate the position at each time step (defined below)."
      ]
    },
    {
      "cell_type": "code",
      "execution_count": 5,
      "metadata": {},
      "outputs": [],
      "source": [
        "# initiate\n",
        "\n",
        "timer = t1\n",
        "\n",
        "df = pd.DataFrame(columns=['satellite', 'timestamp', 'coordinates', 'lng', 'lat', 'daytime'])\n",
        "\n",
        "rows = []"
      ]
    },
    {
      "cell_type": "markdown",
      "metadata": {},
      "source": [
        "The `location_iteration` function lodes the geocentric location, calculates the latitude and longitude, converts them to decimal degrees, and saves them as a point coordinate. It also checks if the satellite is sunlit at the time of calculation, which can be used as an approximation of if it is daytime below."
      ]
    },
    {
      "cell_type": "code",
      "execution_count": 6,
      "metadata": {},
      "outputs": [],
      "source": [
        "def location_iteration(timer, sat):\n",
        "    geocentric = sat.at(Timescale.from_datetime(ts, timer))\n",
        "    lat, lon = wgs84.latlon_of(geocentric)\n",
        "    longitude = lon.degrees\n",
        "    latitude = lat.degrees\n",
        "    daytime = geocentric.is_sunlit(eph)\n",
        "    coords = Point(longitude, latitude)\n",
        "\n",
        "    return timer, longitude, latitude, coords, daytime"
      ]
    },
    {
      "cell_type": "markdown",
      "metadata": {},
      "source": [
        "Then, we can iterate over the time frame. The more frequent the measurements, the slower the calculation takes."
      ]
    },
    {
      "cell_type": "code",
      "execution_count": 7,
      "metadata": {},
      "outputs": [],
      "source": [
        "while timer <= t2:\n",
        "    timer, longitude, latitude, coords, daytime = location_iteration(timer, sentinel_2b[0])\n",
        "\n",
        "    row = pd.DataFrame({'satellite': satellite.name, 'timestamp': timer, 'coordinates': [coords], 'lng': longitude, 'lat': latitude, 'daytime': daytime}, index=[0])\n",
        "    rows.append(row)    \n",
        "\n",
        "    timer += timedelta(seconds=15) # ~13 seconds\n",
        "\n",
        "df = pd.concat(rows, ignore_index=True)\n",
        "df[\"time_string\"] = df[\"timestamp\"].dt.strftime('%Y-%m-%d %X')"
      ]
    },
    {
      "cell_type": "markdown",
      "metadata": {},
      "source": [
        "We can then save this as a geodataframe."
      ]
    },
    {
      "cell_type": "code",
      "execution_count": 8,
      "metadata": {},
      "outputs": [
        {
          "data": {
            "text/html": [
              "<div>\n",
              "<style scoped>\n",
              "    .dataframe tbody tr th:only-of-type {\n",
              "        vertical-align: middle;\n",
              "    }\n",
              "\n",
              "    .dataframe tbody tr th {\n",
              "        vertical-align: top;\n",
              "    }\n",
              "\n",
              "    .dataframe thead th {\n",
              "        text-align: right;\n",
              "    }\n",
              "</style>\n",
              "<table border=\"1\" class=\"dataframe\">\n",
              "  <thead>\n",
              "    <tr style=\"text-align: right;\">\n",
              "      <th></th>\n",
              "      <th>satellite</th>\n",
              "      <th>timestamp</th>\n",
              "      <th>coordinates</th>\n",
              "      <th>lng</th>\n",
              "      <th>lat</th>\n",
              "      <th>daytime</th>\n",
              "      <th>time_string</th>\n",
              "    </tr>\n",
              "  </thead>\n",
              "  <tbody>\n",
              "    <tr>\n",
              "      <th>0</th>\n",
              "      <td>SENTINEL-2B</td>\n",
              "      <td>2024-07-15 08:37:13+00:00</td>\n",
              "      <td>POINT (24.27316 -24.70139)</td>\n",
              "      <td>24.273156</td>\n",
              "      <td>-24.701392</td>\n",
              "      <td>True</td>\n",
              "      <td>2024-07-15 08:37:13</td>\n",
              "    </tr>\n",
              "    <tr>\n",
              "      <th>1</th>\n",
              "      <td>SENTINEL-2B</td>\n",
              "      <td>2024-07-15 08:37:28+00:00</td>\n",
              "      <td>POINT (24.04854 -25.58559)</td>\n",
              "      <td>24.048538</td>\n",
              "      <td>-25.585594</td>\n",
              "      <td>True</td>\n",
              "      <td>2024-07-15 08:37:28</td>\n",
              "    </tr>\n",
              "    <tr>\n",
              "      <th>2</th>\n",
              "      <td>SENTINEL-2B</td>\n",
              "      <td>2024-07-15 08:37:43+00:00</td>\n",
              "      <td>POINT (23.82154 -26.46945)</td>\n",
              "      <td>23.821536</td>\n",
              "      <td>-26.469454</td>\n",
              "      <td>True</td>\n",
              "      <td>2024-07-15 08:37:43</td>\n",
              "    </tr>\n",
              "    <tr>\n",
              "      <th>3</th>\n",
              "      <td>SENTINEL-2B</td>\n",
              "      <td>2024-07-15 08:37:58+00:00</td>\n",
              "      <td>POINT (23.59202 -27.35296)</td>\n",
              "      <td>23.592018</td>\n",
              "      <td>-27.352961</td>\n",
              "      <td>True</td>\n",
              "      <td>2024-07-15 08:37:58</td>\n",
              "    </tr>\n",
              "    <tr>\n",
              "      <th>4</th>\n",
              "      <td>SENTINEL-2B</td>\n",
              "      <td>2024-07-15 08:38:13+00:00</td>\n",
              "      <td>POINT (23.35985 -28.23610)</td>\n",
              "      <td>23.359847</td>\n",
              "      <td>-28.236100</td>\n",
              "      <td>True</td>\n",
              "      <td>2024-07-15 08:38:13</td>\n",
              "    </tr>\n",
              "    <tr>\n",
              "      <th>...</th>\n",
              "      <td>...</td>\n",
              "      <td>...</td>\n",
              "      <td>...</td>\n",
              "      <td>...</td>\n",
              "      <td>...</td>\n",
              "      <td>...</td>\n",
              "      <td>...</td>\n",
              "    </tr>\n",
              "    <tr>\n",
              "      <th>11516</th>\n",
              "      <td>SENTINEL-2B</td>\n",
              "      <td>2024-07-17 08:36:13+00:00</td>\n",
              "      <td>POINT (-164.49204 56.26238)</td>\n",
              "      <td>-164.492042</td>\n",
              "      <td>56.262381</td>\n",
              "      <td>True</td>\n",
              "      <td>2024-07-17 08:36:13</td>\n",
              "    </tr>\n",
              "    <tr>\n",
              "      <th>11517</th>\n",
              "      <td>SENTINEL-2B</td>\n",
              "      <td>2024-07-17 08:36:28+00:00</td>\n",
              "      <td>POINT (-164.99363 57.12241)</td>\n",
              "      <td>-164.993626</td>\n",
              "      <td>57.122407</td>\n",
              "      <td>True</td>\n",
              "      <td>2024-07-17 08:36:28</td>\n",
              "    </tr>\n",
              "    <tr>\n",
              "      <th>11518</th>\n",
              "      <td>SENTINEL-2B</td>\n",
              "      <td>2024-07-17 08:36:43+00:00</td>\n",
              "      <td>POINT (-165.51600 57.98070)</td>\n",
              "      <td>-165.515999</td>\n",
              "      <td>57.980698</td>\n",
              "      <td>True</td>\n",
              "      <td>2024-07-17 08:36:43</td>\n",
              "    </tr>\n",
              "    <tr>\n",
              "      <th>11519</th>\n",
              "      <td>SENTINEL-2B</td>\n",
              "      <td>2024-07-17 08:36:58+00:00</td>\n",
              "      <td>POINT (-166.06085 58.83712)</td>\n",
              "      <td>-166.060850</td>\n",
              "      <td>58.837121</td>\n",
              "      <td>True</td>\n",
              "      <td>2024-07-17 08:36:58</td>\n",
              "    </tr>\n",
              "    <tr>\n",
              "      <th>11520</th>\n",
              "      <td>SENTINEL-2B</td>\n",
              "      <td>2024-07-17 08:37:13+00:00</td>\n",
              "      <td>POINT (-166.63005 59.69153)</td>\n",
              "      <td>-166.630048</td>\n",
              "      <td>59.691531</td>\n",
              "      <td>True</td>\n",
              "      <td>2024-07-17 08:37:13</td>\n",
              "    </tr>\n",
              "  </tbody>\n",
              "</table>\n",
              "<p>11521 rows × 7 columns</p>\n",
              "</div>"
            ],
            "text/plain": [
              "         satellite                 timestamp                  coordinates  \\\n",
              "0      SENTINEL-2B 2024-07-15 08:37:13+00:00   POINT (24.27316 -24.70139)   \n",
              "1      SENTINEL-2B 2024-07-15 08:37:28+00:00   POINT (24.04854 -25.58559)   \n",
              "2      SENTINEL-2B 2024-07-15 08:37:43+00:00   POINT (23.82154 -26.46945)   \n",
              "3      SENTINEL-2B 2024-07-15 08:37:58+00:00   POINT (23.59202 -27.35296)   \n",
              "4      SENTINEL-2B 2024-07-15 08:38:13+00:00   POINT (23.35985 -28.23610)   \n",
              "...            ...                       ...                          ...   \n",
              "11516  SENTINEL-2B 2024-07-17 08:36:13+00:00  POINT (-164.49204 56.26238)   \n",
              "11517  SENTINEL-2B 2024-07-17 08:36:28+00:00  POINT (-164.99363 57.12241)   \n",
              "11518  SENTINEL-2B 2024-07-17 08:36:43+00:00  POINT (-165.51600 57.98070)   \n",
              "11519  SENTINEL-2B 2024-07-17 08:36:58+00:00  POINT (-166.06085 58.83712)   \n",
              "11520  SENTINEL-2B 2024-07-17 08:37:13+00:00  POINT (-166.63005 59.69153)   \n",
              "\n",
              "              lng        lat  daytime          time_string  \n",
              "0       24.273156 -24.701392     True  2024-07-15 08:37:13  \n",
              "1       24.048538 -25.585594     True  2024-07-15 08:37:28  \n",
              "2       23.821536 -26.469454     True  2024-07-15 08:37:43  \n",
              "3       23.592018 -27.352961     True  2024-07-15 08:37:58  \n",
              "4       23.359847 -28.236100     True  2024-07-15 08:38:13  \n",
              "...           ...        ...      ...                  ...  \n",
              "11516 -164.492042  56.262381     True  2024-07-17 08:36:13  \n",
              "11517 -164.993626  57.122407     True  2024-07-17 08:36:28  \n",
              "11518 -165.515999  57.980698     True  2024-07-17 08:36:43  \n",
              "11519 -166.060850  58.837121     True  2024-07-17 08:36:58  \n",
              "11520 -166.630048  59.691531     True  2024-07-17 08:37:13  \n",
              "\n",
              "[11521 rows x 7 columns]"
            ]
          },
          "execution_count": 8,
          "metadata": {},
          "output_type": "execute_result"
        }
      ],
      "source": [
        "sentinel_2b_gdf = gpd.GeoDataFrame(df, geometry=\"coordinates\")\n",
        "sentinel_2b_gdf"
      ]
    },
    {
      "cell_type": "markdown",
      "metadata": {},
      "source": [
        "Let's refine our area of interest to see when/where satellites pass overhead. As the 2024 hurricane season in the Americas is under way, we can focus on the US state of Florida for our analysis."
      ]
    },
    {
      "cell_type": "code",
      "execution_count": 31,
      "metadata": {},
      "outputs": [],
      "source": [
        "min_lon = x_min = -89\n",
        "max_lon = x_max = -74\n",
        "min_lat = y_min = 22\n",
        "max_lat = y_max = 32\n",
        "\n",
        "bbox=[min_lon, max_lon, min_lat, max_lat]\n",
        "bbox\n",
        "\n",
        "# Defining our AOI as a polygon shape\n",
        "florida = Polygon([(x_min, y_min), (x_max, y_min), (x_max, y_max), (x_min, y_max), (x_min,y_min)])"
      ]
    },
    {
      "cell_type": "code",
      "execution_count": 32,
      "metadata": {},
      "outputs": [
        {
          "data": {
            "text/html": [
              "<div>\n",
              "<style scoped>\n",
              "    .dataframe tbody tr th:only-of-type {\n",
              "        vertical-align: middle;\n",
              "    }\n",
              "\n",
              "    .dataframe tbody tr th {\n",
              "        vertical-align: top;\n",
              "    }\n",
              "\n",
              "    .dataframe thead th {\n",
              "        text-align: right;\n",
              "    }\n",
              "</style>\n",
              "<table border=\"1\" class=\"dataframe\">\n",
              "  <thead>\n",
              "    <tr style=\"text-align: right;\">\n",
              "      <th></th>\n",
              "      <th>satellite</th>\n",
              "      <th>timestamp</th>\n",
              "      <th>coordinates</th>\n",
              "      <th>lng</th>\n",
              "      <th>lat</th>\n",
              "      <th>daytime</th>\n",
              "      <th>time_string</th>\n",
              "    </tr>\n",
              "  </thead>\n",
              "  <tbody>\n",
              "    <tr>\n",
              "      <th>1951</th>\n",
              "      <td>SENTINEL-2B</td>\n",
              "      <td>2024-07-15 16:44:58+00:00</td>\n",
              "      <td>POINT (-88.50209 31.20842)</td>\n",
              "      <td>-88.502089</td>\n",
              "      <td>31.208424</td>\n",
              "      <td>True</td>\n",
              "      <td>2024-07-15 16:44:58</td>\n",
              "    </tr>\n",
              "    <tr>\n",
              "      <th>1952</th>\n",
              "      <td>SENTINEL-2B</td>\n",
              "      <td>2024-07-15 16:45:13+00:00</td>\n",
              "      <td>POINT (-88.74473 30.32453)</td>\n",
              "      <td>-88.744734</td>\n",
              "      <td>30.324531</td>\n",
              "      <td>True</td>\n",
              "      <td>2024-07-15 16:45:13</td>\n",
              "    </tr>\n",
              "    <tr>\n",
              "      <th>1953</th>\n",
              "      <td>SENTINEL-2B</td>\n",
              "      <td>2024-07-15 16:45:28+00:00</td>\n",
              "      <td>POINT (-88.98418 29.44028)</td>\n",
              "      <td>-88.984180</td>\n",
              "      <td>29.440276</td>\n",
              "      <td>True</td>\n",
              "      <td>2024-07-15 16:45:28</td>\n",
              "    </tr>\n",
              "    <tr>\n",
              "      <th>7590</th>\n",
              "      <td>SENTINEL-2B</td>\n",
              "      <td>2024-07-16 16:14:43+00:00</td>\n",
              "      <td>POINT (-80.90817 31.36180)</td>\n",
              "      <td>-80.908169</td>\n",
              "      <td>31.361801</td>\n",
              "      <td>True</td>\n",
              "      <td>2024-07-16 16:14:43</td>\n",
              "    </tr>\n",
              "    <tr>\n",
              "      <th>7591</th>\n",
              "      <td>SENTINEL-2B</td>\n",
              "      <td>2024-07-16 16:14:58+00:00</td>\n",
              "      <td>POINT (-81.15139 30.47798)</td>\n",
              "      <td>-81.151385</td>\n",
              "      <td>30.477980</td>\n",
              "      <td>True</td>\n",
              "      <td>2024-07-16 16:14:58</td>\n",
              "    </tr>\n",
              "    <tr>\n",
              "      <th>7592</th>\n",
              "      <td>SENTINEL-2B</td>\n",
              "      <td>2024-07-16 16:15:13+00:00</td>\n",
              "      <td>POINT (-81.39137 29.59380)</td>\n",
              "      <td>-81.391373</td>\n",
              "      <td>29.593796</td>\n",
              "      <td>True</td>\n",
              "      <td>2024-07-16 16:15:13</td>\n",
              "    </tr>\n",
              "    <tr>\n",
              "      <th>7593</th>\n",
              "      <td>SENTINEL-2B</td>\n",
              "      <td>2024-07-16 16:15:28+00:00</td>\n",
              "      <td>POINT (-81.62830 28.70926)</td>\n",
              "      <td>-81.628299</td>\n",
              "      <td>28.709261</td>\n",
              "      <td>True</td>\n",
              "      <td>2024-07-16 16:15:28</td>\n",
              "    </tr>\n",
              "    <tr>\n",
              "      <th>7594</th>\n",
              "      <td>SENTINEL-2B</td>\n",
              "      <td>2024-07-16 16:15:43+00:00</td>\n",
              "      <td>POINT (-81.86232 27.82439)</td>\n",
              "      <td>-81.862322</td>\n",
              "      <td>27.824393</td>\n",
              "      <td>True</td>\n",
              "      <td>2024-07-16 16:15:43</td>\n",
              "    </tr>\n",
              "    <tr>\n",
              "      <th>7595</th>\n",
              "      <td>SENTINEL-2B</td>\n",
              "      <td>2024-07-16 16:15:58+00:00</td>\n",
              "      <td>POINT (-82.09359 26.93920)</td>\n",
              "      <td>-82.093591</td>\n",
              "      <td>26.939205</td>\n",
              "      <td>True</td>\n",
              "      <td>2024-07-16 16:15:58</td>\n",
              "    </tr>\n",
              "    <tr>\n",
              "      <th>7596</th>\n",
              "      <td>SENTINEL-2B</td>\n",
              "      <td>2024-07-16 16:16:13+00:00</td>\n",
              "      <td>POINT (-82.32225 26.05371)</td>\n",
              "      <td>-82.322250</td>\n",
              "      <td>26.053710</td>\n",
              "      <td>True</td>\n",
              "      <td>2024-07-16 16:16:13</td>\n",
              "    </tr>\n",
              "    <tr>\n",
              "      <th>7597</th>\n",
              "      <td>SENTINEL-2B</td>\n",
              "      <td>2024-07-16 16:16:28+00:00</td>\n",
              "      <td>POINT (-82.54844 25.16792)</td>\n",
              "      <td>-82.548437</td>\n",
              "      <td>25.167924</td>\n",
              "      <td>True</td>\n",
              "      <td>2024-07-16 16:16:28</td>\n",
              "    </tr>\n",
              "    <tr>\n",
              "      <th>7598</th>\n",
              "      <td>SENTINEL-2B</td>\n",
              "      <td>2024-07-16 16:16:43+00:00</td>\n",
              "      <td>POINT (-82.77228 24.28186)</td>\n",
              "      <td>-82.772280</td>\n",
              "      <td>24.281859</td>\n",
              "      <td>True</td>\n",
              "      <td>2024-07-16 16:16:43</td>\n",
              "    </tr>\n",
              "    <tr>\n",
              "      <th>7599</th>\n",
              "      <td>SENTINEL-2B</td>\n",
              "      <td>2024-07-16 16:16:58+00:00</td>\n",
              "      <td>POINT (-82.99390 23.39553)</td>\n",
              "      <td>-82.993904</td>\n",
              "      <td>23.395528</td>\n",
              "      <td>True</td>\n",
              "      <td>2024-07-16 16:16:58</td>\n",
              "    </tr>\n",
              "    <tr>\n",
              "      <th>7600</th>\n",
              "      <td>SENTINEL-2B</td>\n",
              "      <td>2024-07-16 16:17:13+00:00</td>\n",
              "      <td>POINT (-83.21343 22.50894)</td>\n",
              "      <td>-83.213429</td>\n",
              "      <td>22.508944</td>\n",
              "      <td>True</td>\n",
              "      <td>2024-07-16 16:17:13</td>\n",
              "    </tr>\n",
              "  </tbody>\n",
              "</table>\n",
              "</div>"
            ],
            "text/plain": [
              "        satellite                 timestamp                 coordinates  \\\n",
              "1951  SENTINEL-2B 2024-07-15 16:44:58+00:00  POINT (-88.50209 31.20842)   \n",
              "1952  SENTINEL-2B 2024-07-15 16:45:13+00:00  POINT (-88.74473 30.32453)   \n",
              "1953  SENTINEL-2B 2024-07-15 16:45:28+00:00  POINT (-88.98418 29.44028)   \n",
              "7590  SENTINEL-2B 2024-07-16 16:14:43+00:00  POINT (-80.90817 31.36180)   \n",
              "7591  SENTINEL-2B 2024-07-16 16:14:58+00:00  POINT (-81.15139 30.47798)   \n",
              "7592  SENTINEL-2B 2024-07-16 16:15:13+00:00  POINT (-81.39137 29.59380)   \n",
              "7593  SENTINEL-2B 2024-07-16 16:15:28+00:00  POINT (-81.62830 28.70926)   \n",
              "7594  SENTINEL-2B 2024-07-16 16:15:43+00:00  POINT (-81.86232 27.82439)   \n",
              "7595  SENTINEL-2B 2024-07-16 16:15:58+00:00  POINT (-82.09359 26.93920)   \n",
              "7596  SENTINEL-2B 2024-07-16 16:16:13+00:00  POINT (-82.32225 26.05371)   \n",
              "7597  SENTINEL-2B 2024-07-16 16:16:28+00:00  POINT (-82.54844 25.16792)   \n",
              "7598  SENTINEL-2B 2024-07-16 16:16:43+00:00  POINT (-82.77228 24.28186)   \n",
              "7599  SENTINEL-2B 2024-07-16 16:16:58+00:00  POINT (-82.99390 23.39553)   \n",
              "7600  SENTINEL-2B 2024-07-16 16:17:13+00:00  POINT (-83.21343 22.50894)   \n",
              "\n",
              "            lng        lat daytime          time_string  \n",
              "1951 -88.502089  31.208424    True  2024-07-15 16:44:58  \n",
              "1952 -88.744734  30.324531    True  2024-07-15 16:45:13  \n",
              "1953 -88.984180  29.440276    True  2024-07-15 16:45:28  \n",
              "7590 -80.908169  31.361801    True  2024-07-16 16:14:43  \n",
              "7591 -81.151385  30.477980    True  2024-07-16 16:14:58  \n",
              "7592 -81.391373  29.593796    True  2024-07-16 16:15:13  \n",
              "7593 -81.628299  28.709261    True  2024-07-16 16:15:28  \n",
              "7594 -81.862322  27.824393    True  2024-07-16 16:15:43  \n",
              "7595 -82.093591  26.939205    True  2024-07-16 16:15:58  \n",
              "7596 -82.322250  26.053710    True  2024-07-16 16:16:13  \n",
              "7597 -82.548437  25.167924    True  2024-07-16 16:16:28  \n",
              "7598 -82.772280  24.281859    True  2024-07-16 16:16:43  \n",
              "7599 -82.993904  23.395528    True  2024-07-16 16:16:58  \n",
              "7600 -83.213429  22.508944    True  2024-07-16 16:17:13  "
            ]
          },
          "execution_count": 32,
          "metadata": {},
          "output_type": "execute_result"
        }
      ],
      "source": [
        "mask_lon = (sentinel_2b_gdf.lng >= min_lon) & (sentinel_2b_gdf.lng <= max_lon)\n",
        "mask_lat = (sentinel_2b_gdf.lat >= min_lat) & (sentinel_2b_gdf.lat <= max_lat)\n",
        "\n",
        "aoi = sentinel_2b_gdf.where(mask_lon & mask_lat).dropna()\n",
        "\n",
        "sentinel_2b_daylit = aoi[aoi[\"daytime\"] == True]\n",
        "sentinel_2b_daylit"
      ]
    },
    {
      "cell_type": "markdown",
      "metadata": {},
      "source": [
        "Next, we can visualize these points on a map. They are color coded using a continuous color scale, with white being `now` and darker purple being further after `now`."
      ]
    },
    {
      "cell_type": "code",
      "execution_count": 33,
      "metadata": {},
      "outputs": [],
      "source": [
        "# This creates a range from 0-1 to define our colormap.\n",
        "time_norm = (sentinel_2b_daylit.timestamp - t1) / (t2 - t1)\n",
        "\n",
        "colors = apply_continuous_cmap(time_norm, Oranges_9)"
      ]
    },
    {
      "cell_type": "code",
      "execution_count": 34,
      "metadata": {},
      "outputs": [
        {
          "name": "stderr",
          "output_type": "stream",
          "text": [
            "/opt/homebrew/lib/python3.10/site-packages/lonboard/_geoarrow/ops/reproject.py:23: UserWarning: No CRS exists on data. If no data is shown on the map, double check that your CRS is WGS84.\n",
            "  warn(\n"
          ]
        },
        {
          "data": {
            "application/vnd.jupyter.widget-view+json": {
              "model_id": "088f34a130d643519e702a4cbabd746e",
              "version_major": 2,
              "version_minor": 1
            },
            "text/plain": [
              "Map(basemap_style=<CartoBasemap.DarkMatter: 'https://basemaps.cartocdn.com/gl/dark-matter-gl-style/style.json'…"
            ]
          },
          "execution_count": 34,
          "metadata": {},
          "output_type": "execute_result"
        }
      ],
      "source": [
        "layer = ScatterplotLayer.from_geopandas(\n",
        "    sentinel_2b_daylit,\n",
        "    # extensions=[filter_extension],\n",
        "    get_fill_color=colors,\n",
        "    radius_min_pixels = 3\n",
        "    # get_filter_value=filter_values,\n",
        "    # filter_range=initial_filter_range,\n",
        ")\n",
        "\n",
        "m = Map(\n",
        "    layer,\n",
        "    basemap_style = basemap.CartoBasemap.DarkMatter,\n",
        "    )\n",
        "m"
      ]
    },
    {
      "cell_type": "markdown",
      "metadata": {},
      "source": [
        "We can clearly see the passes that Sentinel 2b takes in our area of interest and during our time frame, and during daytime hours."
      ]
    },
    {
      "cell_type": "markdown",
      "metadata": {},
      "source": [
        "---"
      ]
    },
    {
      "cell_type": "markdown",
      "metadata": {},
      "source": [
        "## Calculating the position of a satellite constellation"
      ]
    },
    {
      "cell_type": "markdown",
      "metadata": {},
      "source": [
        "Usually, humanitarians or emergency response organizations aren't concerned about which satellite captures an image, as long as they have a timely image with the appropriate resolution, (lack of) cloud cover, bands, etc.\n",
        "\n",
        "The following example calculates the position of Planet satellites. With their portfolio's high spatial and temporal resolution, they are able to capture high-resolution images immediately before or after an event."
      ]
    },
    {
      "cell_type": "code",
      "execution_count": 35,
      "metadata": {},
      "outputs": [
        {
          "name": "stderr",
          "output_type": "stream",
          "text": [
            "[#################################] 100% planet_swarm\n"
          ]
        },
        {
          "data": {
            "text/plain": [
              "<EarthSatellite SKYSAT-A catalog #39418 epoch 2024-07-15 03:24:19 UTC>"
            ]
          },
          "execution_count": 35,
          "metadata": {},
          "output_type": "execute_result"
        }
      ],
      "source": [
        "planet_url = \"https://celestrak.org/NORAD/elements/gp.php?GROUP=planet&FORMAT=tle\"\n",
        "\n",
        "planet_swarm = load.tle_file(planet_url, reload=True, filename=\"planet_swarm\")\n",
        "planet_swarm[0]"
      ]
    },
    {
      "cell_type": "markdown",
      "metadata": {},
      "source": [
        "We then calculate the locations for all Planet satellites during our time frame in set increments."
      ]
    },
    {
      "cell_type": "code",
      "execution_count": 14,
      "metadata": {},
      "outputs": [],
      "source": [
        "timer = t1\n",
        "\n",
        "rows = []\n",
        "\n",
        "while timer <= t2:\n",
        "    for sat in planet_swarm:\n",
        "        timer, longitude, latitude, coords, daytime = location_iteration(timer, sat)\n",
        "\n",
        "        row = pd.DataFrame({'satellite': sat.name, 'timestamp': timer, 'coordinates': [coords], 'lng': longitude, 'lat': latitude, 'daytime': daytime}, index=[0])\n",
        "        rows.append(row)    \n",
        "\n",
        "    timer += timedelta(minutes=2) # ~ 3.5 min\n",
        "\n",
        "planet_swarm_df = pd.concat(rows, ignore_index=True)\n",
        "planet_swarm_df[\"time_string\"] = planet_swarm_df[\"timestamp\"].dt.strftime('%Y-%m-%d %X')\n"
      ]
    },
    {
      "cell_type": "code",
      "execution_count": 15,
      "metadata": {},
      "outputs": [],
      "source": [
        "planet_swarm_gdf = gpd.GeoDataFrame(planet_swarm_df, geometry=\"coordinates\")"
      ]
    },
    {
      "cell_type": "markdown",
      "metadata": {},
      "source": [
        "Again, we want to look at the satellites in our AOI. Because Planet satellites capture optical images, the following shows the next passes that occur when the satellite is lit (as a proxy of when the ground below is lit)."
      ]
    },
    {
      "cell_type": "code",
      "execution_count": 16,
      "metadata": {},
      "outputs": [
        {
          "data": {
            "text/html": [
              "<div>\n",
              "<style scoped>\n",
              "    .dataframe tbody tr th:only-of-type {\n",
              "        vertical-align: middle;\n",
              "    }\n",
              "\n",
              "    .dataframe tbody tr th {\n",
              "        vertical-align: top;\n",
              "    }\n",
              "\n",
              "    .dataframe thead th {\n",
              "        text-align: right;\n",
              "    }\n",
              "</style>\n",
              "<table border=\"1\" class=\"dataframe\">\n",
              "  <thead>\n",
              "    <tr style=\"text-align: right;\">\n",
              "      <th></th>\n",
              "      <th>satellite</th>\n",
              "      <th>timestamp</th>\n",
              "      <th>coordinates</th>\n",
              "      <th>lng</th>\n",
              "      <th>lat</th>\n",
              "      <th>daytime</th>\n",
              "      <th>time_string</th>\n",
              "    </tr>\n",
              "  </thead>\n",
              "  <tbody>\n",
              "    <tr>\n",
              "      <th>139</th>\n",
              "      <td>SKYSAT-A</td>\n",
              "      <td>2024-07-15 08:39:13+00:00</td>\n",
              "      <td>POINT (40.68480 74.14524)</td>\n",
              "      <td>40.684801</td>\n",
              "      <td>74.145236</td>\n",
              "      <td>True</td>\n",
              "      <td>2024-07-15 08:39:13</td>\n",
              "    </tr>\n",
              "    <tr>\n",
              "      <th>140</th>\n",
              "      <td>SKYSAT-B</td>\n",
              "      <td>2024-07-15 08:39:13+00:00</td>\n",
              "      <td>POINT (46.59376 1.94516)</td>\n",
              "      <td>46.593755</td>\n",
              "      <td>1.945161</td>\n",
              "      <td>True</td>\n",
              "      <td>2024-07-15 08:39:13</td>\n",
              "    </tr>\n",
              "    <tr>\n",
              "      <th>142</th>\n",
              "      <td>SKYSAT-C4</td>\n",
              "      <td>2024-07-15 08:39:13+00:00</td>\n",
              "      <td>POINT (8.36528 49.98751)</td>\n",
              "      <td>8.365277</td>\n",
              "      <td>49.987510</td>\n",
              "      <td>True</td>\n",
              "      <td>2024-07-15 08:39:13</td>\n",
              "    </tr>\n",
              "    <tr>\n",
              "      <th>144</th>\n",
              "      <td>SKYSAT-C2</td>\n",
              "      <td>2024-07-15 08:39:13+00:00</td>\n",
              "      <td>POINT (163.12304 65.38005)</td>\n",
              "      <td>163.123040</td>\n",
              "      <td>65.380053</td>\n",
              "      <td>True</td>\n",
              "      <td>2024-07-15 08:39:13</td>\n",
              "    </tr>\n",
              "    <tr>\n",
              "      <th>145</th>\n",
              "      <td>SKYSAT-C3</td>\n",
              "      <td>2024-07-15 08:39:13+00:00</td>\n",
              "      <td>POINT (-20.54920 -75.04930)</td>\n",
              "      <td>-20.549196</td>\n",
              "      <td>-75.049297</td>\n",
              "      <td>True</td>\n",
              "      <td>2024-07-15 08:39:13</td>\n",
              "    </tr>\n",
              "    <tr>\n",
              "      <th>...</th>\n",
              "      <td>...</td>\n",
              "      <td>...</td>\n",
              "      <td>...</td>\n",
              "      <td>...</td>\n",
              "      <td>...</td>\n",
              "      <td>...</td>\n",
              "      <td>...</td>\n",
              "    </tr>\n",
              "    <tr>\n",
              "      <th>200291</th>\n",
              "      <td>FLOCK 4Q-7</td>\n",
              "      <td>2024-07-17 08:37:13+00:00</td>\n",
              "      <td>POINT (-36.61726 -81.85808)</td>\n",
              "      <td>-36.617260</td>\n",
              "      <td>-81.858078</td>\n",
              "      <td>True</td>\n",
              "      <td>2024-07-17 08:37:13</td>\n",
              "    </tr>\n",
              "    <tr>\n",
              "      <th>200292</th>\n",
              "      <td>FLOCK 4Q-15</td>\n",
              "      <td>2024-07-17 08:37:13+00:00</td>\n",
              "      <td>POINT (13.93084 -63.44480)</td>\n",
              "      <td>13.930838</td>\n",
              "      <td>-63.444799</td>\n",
              "      <td>True</td>\n",
              "      <td>2024-07-17 08:37:13</td>\n",
              "    </tr>\n",
              "    <tr>\n",
              "      <th>200293</th>\n",
              "      <td>FLOCK 4Q-2</td>\n",
              "      <td>2024-07-17 08:37:13+00:00</td>\n",
              "      <td>POINT (-45.11540 -82.28508)</td>\n",
              "      <td>-45.115403</td>\n",
              "      <td>-82.285078</td>\n",
              "      <td>True</td>\n",
              "      <td>2024-07-17 08:37:13</td>\n",
              "    </tr>\n",
              "    <tr>\n",
              "      <th>200295</th>\n",
              "      <td>FLOCK 4Q-10</td>\n",
              "      <td>2024-07-17 08:37:13+00:00</td>\n",
              "      <td>POINT (33.92949 33.99620)</td>\n",
              "      <td>33.929492</td>\n",
              "      <td>33.996196</td>\n",
              "      <td>True</td>\n",
              "      <td>2024-07-17 08:37:13</td>\n",
              "    </tr>\n",
              "    <tr>\n",
              "      <th>200298</th>\n",
              "      <td>FLOCK 4Q-21</td>\n",
              "      <td>2024-07-17 08:37:13+00:00</td>\n",
              "      <td>POINT (25.98186 -21.23757)</td>\n",
              "      <td>25.981856</td>\n",
              "      <td>-21.237567</td>\n",
              "      <td>True</td>\n",
              "      <td>2024-07-17 08:37:13</td>\n",
              "    </tr>\n",
              "  </tbody>\n",
              "</table>\n",
              "<p>126435 rows × 7 columns</p>\n",
              "</div>"
            ],
            "text/plain": [
              "          satellite                 timestamp                  coordinates  \\\n",
              "139        SKYSAT-A 2024-07-15 08:39:13+00:00    POINT (40.68480 74.14524)   \n",
              "140        SKYSAT-B 2024-07-15 08:39:13+00:00     POINT (46.59376 1.94516)   \n",
              "142       SKYSAT-C4 2024-07-15 08:39:13+00:00     POINT (8.36528 49.98751)   \n",
              "144       SKYSAT-C2 2024-07-15 08:39:13+00:00   POINT (163.12304 65.38005)   \n",
              "145       SKYSAT-C3 2024-07-15 08:39:13+00:00  POINT (-20.54920 -75.04930)   \n",
              "...             ...                       ...                          ...   \n",
              "200291   FLOCK 4Q-7 2024-07-17 08:37:13+00:00  POINT (-36.61726 -81.85808)   \n",
              "200292  FLOCK 4Q-15 2024-07-17 08:37:13+00:00   POINT (13.93084 -63.44480)   \n",
              "200293   FLOCK 4Q-2 2024-07-17 08:37:13+00:00  POINT (-45.11540 -82.28508)   \n",
              "200295  FLOCK 4Q-10 2024-07-17 08:37:13+00:00    POINT (33.92949 33.99620)   \n",
              "200298  FLOCK 4Q-21 2024-07-17 08:37:13+00:00   POINT (25.98186 -21.23757)   \n",
              "\n",
              "               lng        lat  daytime          time_string  \n",
              "139      40.684801  74.145236     True  2024-07-15 08:39:13  \n",
              "140      46.593755   1.945161     True  2024-07-15 08:39:13  \n",
              "142       8.365277  49.987510     True  2024-07-15 08:39:13  \n",
              "144     163.123040  65.380053     True  2024-07-15 08:39:13  \n",
              "145     -20.549196 -75.049297     True  2024-07-15 08:39:13  \n",
              "...            ...        ...      ...                  ...  \n",
              "200291  -36.617260 -81.858078     True  2024-07-17 08:37:13  \n",
              "200292   13.930838 -63.444799     True  2024-07-17 08:37:13  \n",
              "200293  -45.115403 -82.285078     True  2024-07-17 08:37:13  \n",
              "200295   33.929492  33.996196     True  2024-07-17 08:37:13  \n",
              "200298   25.981856 -21.237567     True  2024-07-17 08:37:13  \n",
              "\n",
              "[126435 rows x 7 columns]"
            ]
          },
          "execution_count": 16,
          "metadata": {},
          "output_type": "execute_result"
        }
      ],
      "source": [
        "mask_lon = (planet_swarm_gdf.lng >= min_lon) & (planet_swarm_gdf.lng <= max_lon)\n",
        "mask_lat = (planet_swarm_gdf.lat >= min_lat) & (planet_swarm_gdf.lat <= max_lat)\n",
        "\n",
        "aoi_planet = planet_swarm_gdf.where(mask_lon & mask_lat).dropna()\n",
        "aoi_planet_day = aoi_planet[aoi_planet.daytime == True]\n",
        "aoi_planet_day[aoi_planet_day[\"timestamp\"] > now]\n",
        "\n",
        "planet_day = planet_swarm_gdf[planet_swarm_gdf.daytime == True]\n",
        "planet_day[planet_day[\"timestamp\"] > now]"
      ]
    },
    {
      "cell_type": "markdown",
      "metadata": {},
      "source": [
        "## Visualize path of satellites"
      ]
    },
    {
      "cell_type": "markdown",
      "metadata": {},
      "source": [
        "Instead of visualizing points on a map, a better representation would be a line. We can \"connect the dots\" calculated in the previous step."
      ]
    },
    {
      "cell_type": "code",
      "execution_count": 20,
      "metadata": {},
      "outputs": [],
      "source": [
        "def create_individual_linestrings(coords, timestamps, time_strings):\n",
        "    coords_list = coords.tolist()\n",
        "    timestamps_list = timestamps.tolist()\n",
        "    time_strings_list = time_strings.tolist()\n",
        "    line_segments = [\n",
        "        {'linestring': LineString([coords_list[i], coords_list[i + 1]]), 'timestamp': timestamps_list[i], 'time_string': time_strings_list[i]} \n",
        "        for i in range(len(coords_list) - 1)\n",
        "    ]\n",
        "    return line_segments"
      ]
    },
    {
      "cell_type": "code",
      "execution_count": 21,
      "metadata": {},
      "outputs": [
        {
          "data": {
            "text/html": [
              "<div>\n",
              "<style scoped>\n",
              "    .dataframe tbody tr th:only-of-type {\n",
              "        vertical-align: middle;\n",
              "    }\n",
              "\n",
              "    .dataframe tbody tr th {\n",
              "        vertical-align: top;\n",
              "    }\n",
              "\n",
              "    .dataframe thead th {\n",
              "        text-align: right;\n",
              "    }\n",
              "</style>\n",
              "<table border=\"1\" class=\"dataframe\">\n",
              "  <thead>\n",
              "    <tr style=\"text-align: right;\">\n",
              "      <th></th>\n",
              "      <th>satellite</th>\n",
              "      <th>linestring</th>\n",
              "      <th>timestamp</th>\n",
              "      <th>time_string</th>\n",
              "    </tr>\n",
              "  </thead>\n",
              "  <tbody>\n",
              "    <tr>\n",
              "      <th>0</th>\n",
              "      <td>FLOCK 4Q-1</td>\n",
              "      <td>LINESTRING (29.64148 6.93559, 28.14803 -0.66072)</td>\n",
              "      <td>2024-07-15 08:37:13+00:00</td>\n",
              "      <td>2024-07-15 08:37:13</td>\n",
              "    </tr>\n",
              "    <tr>\n",
              "      <th>1</th>\n",
              "      <td>FLOCK 4Q-1</td>\n",
              "      <td>LINESTRING (28.14803 -0.66072, 26.65205 -8.25277)</td>\n",
              "      <td>2024-07-15 08:39:13+00:00</td>\n",
              "      <td>2024-07-15 08:39:13</td>\n",
              "    </tr>\n",
              "    <tr>\n",
              "      <th>2</th>\n",
              "      <td>FLOCK 4Q-1</td>\n",
              "      <td>LINESTRING (26.65205 -8.25277, 25.11788 -15.83...</td>\n",
              "      <td>2024-07-15 08:41:13+00:00</td>\n",
              "      <td>2024-07-15 08:41:13</td>\n",
              "    </tr>\n",
              "    <tr>\n",
              "      <th>3</th>\n",
              "      <td>FLOCK 4Q-1</td>\n",
              "      <td>LINESTRING (25.11788 -15.83468, 23.50426 -23.4...</td>\n",
              "      <td>2024-07-15 08:43:13+00:00</td>\n",
              "      <td>2024-07-15 08:43:13</td>\n",
              "    </tr>\n",
              "    <tr>\n",
              "      <th>4</th>\n",
              "      <td>FLOCK 4Q-1</td>\n",
              "      <td>LINESTRING (23.50426 -23.40050, 21.75728 -30.9...</td>\n",
              "      <td>2024-07-15 08:45:13+00:00</td>\n",
              "      <td>2024-07-15 08:45:13</td>\n",
              "    </tr>\n",
              "    <tr>\n",
              "      <th>...</th>\n",
              "      <td>...</td>\n",
              "      <td>...</td>\n",
              "      <td>...</td>\n",
              "      <td>...</td>\n",
              "    </tr>\n",
              "    <tr>\n",
              "      <th>126380</th>\n",
              "      <td>SKYSAT-C9</td>\n",
              "      <td>LINESTRING (83.57894 18.43737, 82.02691 10.78904)</td>\n",
              "      <td>2024-07-17 08:27:13+00:00</td>\n",
              "      <td>2024-07-17 08:27:13</td>\n",
              "    </tr>\n",
              "    <tr>\n",
              "      <th>126381</th>\n",
              "      <td>SKYSAT-C9</td>\n",
              "      <td>LINESTRING (82.02691 10.78904, 80.52704 3.13462)</td>\n",
              "      <td>2024-07-17 08:29:13+00:00</td>\n",
              "      <td>2024-07-17 08:29:13</td>\n",
              "    </tr>\n",
              "    <tr>\n",
              "      <th>126382</th>\n",
              "      <td>SKYSAT-C9</td>\n",
              "      <td>LINESTRING (80.52704 3.13462, 79.04192 -4.51965)</td>\n",
              "      <td>2024-07-17 08:31:13+00:00</td>\n",
              "      <td>2024-07-17 08:31:13</td>\n",
              "    </tr>\n",
              "    <tr>\n",
              "      <th>126383</th>\n",
              "      <td>SKYSAT-C9</td>\n",
              "      <td>LINESTRING (79.04192 -4.51965, 77.53631 -12.16...</td>\n",
              "      <td>2024-07-17 08:33:13+00:00</td>\n",
              "      <td>2024-07-17 08:33:13</td>\n",
              "    </tr>\n",
              "    <tr>\n",
              "      <th>126384</th>\n",
              "      <td>SKYSAT-C9</td>\n",
              "      <td>LINESTRING (77.53631 -12.16764, 75.97198 -19.8...</td>\n",
              "      <td>2024-07-17 08:35:13+00:00</td>\n",
              "      <td>2024-07-17 08:35:13</td>\n",
              "    </tr>\n",
              "  </tbody>\n",
              "</table>\n",
              "<p>126385 rows × 4 columns</p>\n",
              "</div>"
            ],
            "text/plain": [
              "         satellite                                         linestring  \\\n",
              "0       FLOCK 4Q-1   LINESTRING (29.64148 6.93559, 28.14803 -0.66072)   \n",
              "1       FLOCK 4Q-1  LINESTRING (28.14803 -0.66072, 26.65205 -8.25277)   \n",
              "2       FLOCK 4Q-1  LINESTRING (26.65205 -8.25277, 25.11788 -15.83...   \n",
              "3       FLOCK 4Q-1  LINESTRING (25.11788 -15.83468, 23.50426 -23.4...   \n",
              "4       FLOCK 4Q-1  LINESTRING (23.50426 -23.40050, 21.75728 -30.9...   \n",
              "...            ...                                                ...   \n",
              "126380   SKYSAT-C9  LINESTRING (83.57894 18.43737, 82.02691 10.78904)   \n",
              "126381   SKYSAT-C9   LINESTRING (82.02691 10.78904, 80.52704 3.13462)   \n",
              "126382   SKYSAT-C9   LINESTRING (80.52704 3.13462, 79.04192 -4.51965)   \n",
              "126383   SKYSAT-C9  LINESTRING (79.04192 -4.51965, 77.53631 -12.16...   \n",
              "126384   SKYSAT-C9  LINESTRING (77.53631 -12.16764, 75.97198 -19.8...   \n",
              "\n",
              "                       timestamp          time_string  \n",
              "0      2024-07-15 08:37:13+00:00  2024-07-15 08:37:13  \n",
              "1      2024-07-15 08:39:13+00:00  2024-07-15 08:39:13  \n",
              "2      2024-07-15 08:41:13+00:00  2024-07-15 08:41:13  \n",
              "3      2024-07-15 08:43:13+00:00  2024-07-15 08:43:13  \n",
              "4      2024-07-15 08:45:13+00:00  2024-07-15 08:45:13  \n",
              "...                          ...                  ...  \n",
              "126380 2024-07-17 08:27:13+00:00  2024-07-17 08:27:13  \n",
              "126381 2024-07-17 08:29:13+00:00  2024-07-17 08:29:13  \n",
              "126382 2024-07-17 08:31:13+00:00  2024-07-17 08:31:13  \n",
              "126383 2024-07-17 08:33:13+00:00  2024-07-17 08:33:13  \n",
              "126384 2024-07-17 08:35:13+00:00  2024-07-17 08:35:13  \n",
              "\n",
              "[126385 rows x 4 columns]"
            ]
          },
          "execution_count": 21,
          "metadata": {},
          "output_type": "execute_result"
        }
      ],
      "source": [
        "new_rows = []\n",
        "\n",
        "for satellite, group in planet_day.groupby('satellite'):\n",
        "    line_segments = create_individual_linestrings(group['coordinates'], group['timestamp'], group['time_string'])\n",
        "    for segment in line_segments:\n",
        "        new_rows.append({'satellite': satellite, 'linestring': segment['linestring'], 'timestamp': segment['timestamp'], 'time_string': segment['time_string']})\n",
        "\n",
        "path_segments = gpd.GeoDataFrame(new_rows, geometry='linestring')\n",
        "path_segments"
      ]
    },
    {
      "cell_type": "markdown",
      "metadata": {},
      "source": [
        "If these line segments are not within the AOI, we can drop them from the dataframe."
      ]
    },
    {
      "cell_type": "code",
      "execution_count": 22,
      "metadata": {},
      "outputs": [],
      "source": [
        "def is_within_aoi(linestring, florida):\n",
        "    return linestring.intersects(florida)"
      ]
    },
    {
      "cell_type": "code",
      "execution_count": 23,
      "metadata": {},
      "outputs": [],
      "source": [
        "path_segments['within_aoi'] = path_segments['linestring'].apply(lambda x: is_within_aoi(x, florida))\n",
        "path_segments_clipped = path_segments[path_segments['within_aoi']].drop(columns='within_aoi')\n",
        "\n",
        "path_segments_clipped['length'] = path_segments_clipped['linestring'].apply(lambda x: x.length)\n",
        "\n",
        "# This is a way to drop segments that are not proper representations of paths, such as errors caused by traversing the International Date Line, or jumps between calculated points when a satellite enters and exits a nighttime area.\n",
        "path_segments_clipped = path_segments_clipped[path_segments_clipped[\"length\"] <= 75].drop(columns='length')"
      ]
    },
    {
      "cell_type": "markdown",
      "metadata": {},
      "source": [
        "As with the single satellite, we can create a color scale that shows the time of the satellite's pass for each line segment. In this example, white is closer to `now` and orange is closer to +48h."
      ]
    },
    {
      "cell_type": "code",
      "execution_count": 41,
      "metadata": {},
      "outputs": [],
      "source": [
        "# This creates a range from 0-1 to define our colormap.\n",
        "time_norm_planet_swarm = (path_segments_clipped.timestamp - t1) / (t2 - t1)\n",
        "\n",
        "colors_planet_swarm = apply_continuous_cmap(time_norm_planet_swarm, Oranges_9, alpha=.5)"
      ]
    },
    {
      "cell_type": "markdown",
      "metadata": {},
      "source": [
        "We can roughly estimate the width of the ground coverage of a Planet satellite to be 6km (i.e., the width of an image is 6km). To visualize this, we can set `get_width` to be 6km."
      ]
    },
    {
      "cell_type": "code",
      "execution_count": 42,
      "metadata": {},
      "outputs": [
        {
          "name": "stderr",
          "output_type": "stream",
          "text": [
            "/opt/homebrew/lib/python3.10/site-packages/lonboard/_geoarrow/ops/reproject.py:23: UserWarning: No CRS exists on data. If no data is shown on the map, double check that your CRS is WGS84.\n",
            "  warn(\n"
          ]
        }
      ],
      "source": [
        "layer2 = PathLayer.from_geopandas(\n",
        "    path_segments_clipped,\n",
        "    get_color = colors_planet_swarm,\n",
        "    get_width=6000,\n",
        "    opacity=1,\n",
        "    auto_highlight=True\n",
        ")"
      ]
    },
    {
      "cell_type": "code",
      "execution_count": 43,
      "metadata": {},
      "outputs": [
        {
          "data": {
            "application/vnd.jupyter.widget-view+json": {
              "model_id": "f9e37820f5d54912b8e04c230bef963c",
              "version_major": 2,
              "version_minor": 1
            },
            "text/plain": [
              "Map(basemap_style=<CartoBasemap.DarkMatter: 'https://basemaps.cartocdn.com/gl/dark-matter-gl-style/style.json'…"
            ]
          },
          "execution_count": 43,
          "metadata": {},
          "output_type": "execute_result"
        }
      ],
      "source": [
        "m2 = Map(\n",
        "    [layer2],\n",
        "    basemap_style = basemap.CartoBasemap.DarkMatter,\n",
        "    )\n",
        "m2"
      ]
    },
    {
      "cell_type": "markdown",
      "metadata": {},
      "source": [
        "As expected, there are many more passes than by a single satellite. Due to small area of interests for many events, cloud cover, and other variables, a larger constellation lets practitioners then narrow down their search.\n",
        "\n",
        "The visualization of these paths give practitioners a good sense of the time an image of an area of interest will be captured. For example, a practitioner would be interested in an AOI of this size, but might be particularly interested in images of Miami. They could zoom in to Miami and see if a path covers or comes close to Miami. If so, and if there isn't excessive cloud cover, an image could be made available or tasked. If multiple paths cover Miami, that indicates a better chance of capturing a valuable image.\n",
        "\n",
        "Once a satellite is calculated to have passed over an AOI, the next step could be to analyze the imagery, ideally using the other STAC and COG focused notebooks in this repository. Combining a positioning calculation with automated image loading and processing could be the foundations for a powerful EO-based monitoring and alerting system."
      ]
    }
  ],
  "metadata": {
    "kernelspec": {
      "display_name": "Python (Pyodide)",
      "language": "python",
      "name": "python"
    },
    "language_info": {
      "codemirror_mode": {
        "name": "python",
        "version": 3
      },
      "file_extension": ".py",
      "mimetype": "text/x-python",
      "name": "python",
      "nbconvert_exporter": "python",
      "pygments_lexer": "ipython3",
      "version": "3.8"
    }
  },
  "nbformat": 4,
  "nbformat_minor": 4
}
