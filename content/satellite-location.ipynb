{
  "metadata": {
    "kernelspec": {
      "name": "python",
      "display_name": "Python (Pyodide)",
      "language": "python"
    },
    "language_info": {
      "codemirror_mode": {
        "name": "python",
        "version": 3
      },
      "file_extension": ".py",
      "mimetype": "text/x-python",
      "name": "python",
      "nbconvert_exporter": "python",
      "pygments_lexer": "ipython3",
      "version": "3.8"
    }
  },
  "nbformat_minor": 4,
  "nbformat": 4,
  "cells": [
    {
      "cell_type": "markdown",
      "source": "# Satellite Location Demo",
      "metadata": {}
    },
    {
      "cell_type": "code",
      "source": "import micropip\nawait micropip.install(\"https://ds-wheels.s3.amazonaws.com/sgp4-2.23-cp312-cp312-pyodide_2024_0_wasm32.whl\")\n\nfrom sgp4.api import accelerated\nprint(accelerated)",
      "metadata": {
        "trusted": true
      },
      "outputs": [
        {
          "name": "stdout",
          "text": "True\n",
          "output_type": "stream"
        }
      ],
      "execution_count": 1
    },
    {
      "cell_type": "markdown",
      "source": "Timeliness is an important aspect for countless uses of Earth Observation (EO) data. Humanitarians and emergency response organizations, for example, benefit from imagery immediately before or after an emergency.\n\nKnowing when an image was captured of an area of interested, or when it will be captured next, can help humanitarians emergency response organizations better understand where aid is most needed.\n\nThis notebook demonstrates how the location of EO satellites can be computed in an area of interest. This can be used as a proxy of where images were and will be captured. \n\nThese techniques could be combined with those in other notebooks in this repository, such as loading STAC items and calculating how a disaster impacts people, to create automated analysis for past and future disasters.",
      "metadata": {}
    },
    {
      "cell_type": "markdown",
      "source": "## Load Libraries and Data",
      "metadata": {}
    },
    {
      "cell_type": "markdown",
      "source": "We'll use the [sgp4](https://pypi.org/project/sgp4/) and [skyfield](https://rhodesmill.org/skyfield/) libraries, which help us calculate the position of satellites using complex orbital physics. Shapely will help us with some of the geometry creation and calculations, and Lonboard will be used to visualize the results.",
      "metadata": {}
    },
    {
      "cell_type": "code",
      "source": "import micropip",
      "metadata": {
        "trusted": true
      },
      "outputs": [],
      "execution_count": 2
    },
    {
      "cell_type": "code",
      "source": "%pip install pyodide-unix-timezones",
      "metadata": {
        "trusted": true
      },
      "outputs": [],
      "execution_count": 3
    },
    {
      "cell_type": "code",
      "source": "deps = [\n    \"https://ds-wheels.s3.amazonaws.com/pyarrow-17.0.0-cp312-cp312-pyodide_2024_0_wasm32.whl\",\n    \"https://ds-wheels.s3.amazonaws.com/arro3_core-0.3.0-cp312-cp312-emscripten_3_1_58_wasm32.whl\",\n    \"https://ds-wheels.s3.amazonaws.com/arro3_compute-0.3.0-cp312-cp312-emscripten_3_1_58_wasm32.whl\",\n    \"https://ds-wheels.s3.amazonaws.com/arro3_io-0.3.0-cp312-cp312-emscripten_3_1_58_wasm32.whl\",\n    \"https://ds-wheels.s3.amazonaws.com/geoarrow_rust_core-0.3.0b1-cp38-abi3-emscripten_3_1_58_wasm32.whl\",\n    \"palettable\",\n    \"matplotlib\",\n    \"lonboard==0.10.0b2\"\n]\nawait micropip.install(deps)",
      "metadata": {
        "trusted": true
      },
      "outputs": [],
      "execution_count": 4
    },
    {
      "cell_type": "code",
      "source": "%pip install skyfield",
      "metadata": {
        "trusted": true
      },
      "outputs": [],
      "execution_count": 5
    },
    {
      "cell_type": "code",
      "source": "from skyfield.api import load, wgs84, Timescale\nfrom skyfield.jpllib import SpiceKernel\n\nfrom datetime import datetime, timedelta, timezone\n\nfrom lonboard import viz, Map, ScatterplotLayer, basemap, PathLayer\nfrom lonboard.colormap import apply_continuous_cmap\nfrom palettable.colorbrewer.sequential import Oranges_9\n\nimport geopandas as gpd\nimport pandas as pd\nfrom shapely import Point, LineString, Polygon\n\nimport requests\nimport pyarrow",
      "metadata": {
        "trusted": true
      },
      "outputs": [],
      "execution_count": 6
    },
    {
      "cell_type": "markdown",
      "source": "## Calculating the position of a satellite",
      "metadata": {}
    },
    {
      "cell_type": "markdown",
      "source": "We'll load information about specific satellites from [Celestrak](https://celestrak.org). Due to the complexities of orbital physics, data about satellites needs to be updated frequently is only accurate for about 1 week before and after \"epoch\".\n\nFor this example, we'll calculate the position of Sentinel 2b.",
      "metadata": {}
    },
    {
      "cell_type": "code",
      "source": "sentinel_2b_url = \"https://celestrak.org/NORAD/elements/gp.php?CATNR=42063\"\n\nr = requests.get(sentinel_2b_url)\n\nwith open('out1.txt', 'wb') as output:\n    output.write(r.content)",
      "metadata": {
        "trusted": true
      },
      "outputs": [],
      "execution_count": 7
    },
    {
      "cell_type": "code",
      "source": "sentinel_2b = load.tle_file(\"out1.txt\", reload=True, filename=\"sentinel_2b\")",
      "metadata": {
        "trusted": true
      },
      "outputs": [],
      "execution_count": 8
    },
    {
      "cell_type": "code",
      "source": "# Check if the data loaded properly\n\nsatellite = sentinel_2b[0]\nsatellite",
      "metadata": {
        "trusted": true
      },
      "outputs": [
        {
          "execution_count": 9,
          "output_type": "execute_result",
          "data": {
            "text/plain": "<EarthSatellite SENTINEL-2B catalog #42063 epoch 2024-10-01 05:18:58 UTC>"
          },
          "metadata": {}
        }
      ],
      "execution_count": 9
    },
    {
      "cell_type": "markdown",
      "source": "For sudden-onset emergencies, the time immediately before an after an event are the most critical. We can set a time range of +2 days (48h) from a certain point in time. For the purposes of this notebook, we'll use `now` (the time when the cell is run). These techniques can also be applied in the past, if a before/after analysis is needed.",
      "metadata": {}
    },
    {
      "cell_type": "code",
      "source": "# WIP\n\n# f = open(\"../data/de421.bsp\", \"rb\")\n# ephemeris = f.read()\n\n# eph = SpiceKernel(ephemeris)",
      "metadata": {
        "trusted": true
      },
      "outputs": [],
      "execution_count": 10
    },
    {
      "cell_type": "code",
      "source": "# Calculate the current UTC time (without microseconds), then creating a time range + 48h\n\n# load timescale\nts = load.timescale()\n\n# load \"ephemeris\" (https://rhodesmill.org/skyfield/api.html#planetary-ephemerides), which let's us determine if a satellite is illuminated by the sun (as a proxy of if the ground is lit)\n# eph = open('data/de421.bsp')\n\nnow = datetime.now(timezone.utc).replace(microsecond=0)\nt1 = now\nt2 = now + timedelta(days=2)",
      "metadata": {
        "trusted": true
      },
      "outputs": [],
      "execution_count": 11
    },
    {
      "cell_type": "markdown",
      "source": "To calculate the position of the satellite throughout the time range, we can initiate a timer and then calculate the position at each time step (defined below).",
      "metadata": {}
    },
    {
      "cell_type": "code",
      "source": "# initiate\n\ntimer = t1\n\ndf = pd.DataFrame(columns=['satellite', 'timestamp', 'coordinates', 'lng', 'lat', 'daytime'])\n\nrows = []",
      "metadata": {
        "trusted": true
      },
      "outputs": [],
      "execution_count": 12
    },
    {
      "cell_type": "markdown",
      "source": "The `location_iteration` function lodes the geocentric location, calculates the latitude and longitude, converts them to decimal degrees, and saves them as a point coordinate. It also checks if the satellite is sunlit at the time of calculation, which can be used as an approximation of if it is daytime below.",
      "metadata": {}
    },
    {
      "cell_type": "code",
      "source": "def location_iteration(timer, sat):\n    geocentric = sat.at(Timescale.from_datetime(ts, timer))\n    lat, lon = wgs84.latlon_of(geocentric)\n    longitude = lon.degrees\n    latitude = lat.degrees\n    # daytime = geocentric.is_sunlit(eph)\n    coords = Point(longitude, latitude)\n\n    return timer, longitude, latitude, coords",
      "metadata": {
        "trusted": true
      },
      "outputs": [],
      "execution_count": 13
    },
    {
      "cell_type": "markdown",
      "source": "Then, we can iterate over the time frame. The more frequent the measurements, the slower the calculation takes.",
      "metadata": {}
    },
    {
      "cell_type": "code",
      "source": "while timer <= t2:\n    timer, longitude, latitude, coords = location_iteration(timer, sentinel_2b[0])\n\n    row = pd.DataFrame({'satellite': satellite.name, 'timestamp': timer, 'coordinates': [coords], 'lng': longitude, 'lat': latitude}, index=[0])\n    rows.append(row)    \n\n    timer += timedelta(seconds=15) # ~13 seconds\n\ndf = pd.concat(rows, ignore_index=True)\ndf[\"time_string\"] = df[\"timestamp\"].dt.strftime('%Y-%m-%d %X')",
      "metadata": {
        "trusted": true
      },
      "outputs": [],
      "execution_count": 14
    },
    {
      "cell_type": "markdown",
      "source": "We can then save this as a geodataframe.",
      "metadata": {}
    },
    {
      "cell_type": "code",
      "source": "sentinel_2b_gdf = gpd.GeoDataFrame(df, geometry=\"coordinates\")\nsentinel_2b_gdf",
      "metadata": {
        "trusted": true
      },
      "outputs": [
        {
          "execution_count": 15,
          "output_type": "execute_result",
          "data": {
            "text/plain": "         satellite                 timestamp                  coordinates  \\\n0      SENTINEL-2B 2024-10-01 13:49:03+00:00   POINT (126.53351 23.38691)   \n1      SENTINEL-2B 2024-10-01 13:49:18+00:00   POINT (126.31187 24.27323)   \n2      SENTINEL-2B 2024-10-01 13:49:33+00:00   POINT (126.08801 25.15928)   \n3      SENTINEL-2B 2024-10-01 13:49:48+00:00   POINT (125.86181 26.04506)   \n4      SENTINEL-2B 2024-10-01 13:50:03+00:00   POINT (125.63314 26.93054)   \n...            ...                       ...                          ...   \n11516  SENTINEL-2B 2024-10-03 13:48:03+00:00  POINT (-62.03549 -55.36913)   \n11517  SENTINEL-2B 2024-10-03 13:48:18+00:00  POINT (-62.51561 -56.22753)   \n11518  SENTINEL-2B 2024-10-03 13:48:33+00:00  POINT (-63.01478 -57.08431)   \n11519  SENTINEL-2B 2024-10-03 13:48:48+00:00  POINT (-63.53449 -57.93933)   \n11520  SENTINEL-2B 2024-10-03 13:49:03+00:00  POINT (-64.07641 -58.79248)   \n\n              lng        lat          time_string  \n0      126.533511  23.386907  2024-10-01 13:49:03  \n1      126.311870  24.273228  2024-10-01 13:49:18  \n2      126.088012  25.159282  2024-10-01 13:49:33  \n3      125.861811  26.045056  2024-10-01 13:49:48  \n4      125.633137  26.930538  2024-10-01 13:50:03  \n...           ...        ...                  ...  \n11516  -62.035490 -55.369128  2024-10-03 13:48:03  \n11517  -62.515613 -56.227534  2024-10-03 13:48:18  \n11518  -63.014778 -57.084307  2024-10-03 13:48:33  \n11519  -63.534488 -57.939331  2024-10-03 13:48:48  \n11520  -64.076406 -58.792477  2024-10-03 13:49:03  \n\n[11521 rows x 6 columns]",
            "text/html": "<div>\n<style scoped>\n    .dataframe tbody tr th:only-of-type {\n        vertical-align: middle;\n    }\n\n    .dataframe tbody tr th {\n        vertical-align: top;\n    }\n\n    .dataframe thead th {\n        text-align: right;\n    }\n</style>\n<table border=\"1\" class=\"dataframe\">\n  <thead>\n    <tr style=\"text-align: right;\">\n      <th></th>\n      <th>satellite</th>\n      <th>timestamp</th>\n      <th>coordinates</th>\n      <th>lng</th>\n      <th>lat</th>\n      <th>time_string</th>\n    </tr>\n  </thead>\n  <tbody>\n    <tr>\n      <th>0</th>\n      <td>SENTINEL-2B</td>\n      <td>2024-10-01 13:49:03+00:00</td>\n      <td>POINT (126.53351 23.38691)</td>\n      <td>126.533511</td>\n      <td>23.386907</td>\n      <td>2024-10-01 13:49:03</td>\n    </tr>\n    <tr>\n      <th>1</th>\n      <td>SENTINEL-2B</td>\n      <td>2024-10-01 13:49:18+00:00</td>\n      <td>POINT (126.31187 24.27323)</td>\n      <td>126.311870</td>\n      <td>24.273228</td>\n      <td>2024-10-01 13:49:18</td>\n    </tr>\n    <tr>\n      <th>2</th>\n      <td>SENTINEL-2B</td>\n      <td>2024-10-01 13:49:33+00:00</td>\n      <td>POINT (126.08801 25.15928)</td>\n      <td>126.088012</td>\n      <td>25.159282</td>\n      <td>2024-10-01 13:49:33</td>\n    </tr>\n    <tr>\n      <th>3</th>\n      <td>SENTINEL-2B</td>\n      <td>2024-10-01 13:49:48+00:00</td>\n      <td>POINT (125.86181 26.04506)</td>\n      <td>125.861811</td>\n      <td>26.045056</td>\n      <td>2024-10-01 13:49:48</td>\n    </tr>\n    <tr>\n      <th>4</th>\n      <td>SENTINEL-2B</td>\n      <td>2024-10-01 13:50:03+00:00</td>\n      <td>POINT (125.63314 26.93054)</td>\n      <td>125.633137</td>\n      <td>26.930538</td>\n      <td>2024-10-01 13:50:03</td>\n    </tr>\n    <tr>\n      <th>...</th>\n      <td>...</td>\n      <td>...</td>\n      <td>...</td>\n      <td>...</td>\n      <td>...</td>\n      <td>...</td>\n    </tr>\n    <tr>\n      <th>11516</th>\n      <td>SENTINEL-2B</td>\n      <td>2024-10-03 13:48:03+00:00</td>\n      <td>POINT (-62.03549 -55.36913)</td>\n      <td>-62.035490</td>\n      <td>-55.369128</td>\n      <td>2024-10-03 13:48:03</td>\n    </tr>\n    <tr>\n      <th>11517</th>\n      <td>SENTINEL-2B</td>\n      <td>2024-10-03 13:48:18+00:00</td>\n      <td>POINT (-62.51561 -56.22753)</td>\n      <td>-62.515613</td>\n      <td>-56.227534</td>\n      <td>2024-10-03 13:48:18</td>\n    </tr>\n    <tr>\n      <th>11518</th>\n      <td>SENTINEL-2B</td>\n      <td>2024-10-03 13:48:33+00:00</td>\n      <td>POINT (-63.01478 -57.08431)</td>\n      <td>-63.014778</td>\n      <td>-57.084307</td>\n      <td>2024-10-03 13:48:33</td>\n    </tr>\n    <tr>\n      <th>11519</th>\n      <td>SENTINEL-2B</td>\n      <td>2024-10-03 13:48:48+00:00</td>\n      <td>POINT (-63.53449 -57.93933)</td>\n      <td>-63.534488</td>\n      <td>-57.939331</td>\n      <td>2024-10-03 13:48:48</td>\n    </tr>\n    <tr>\n      <th>11520</th>\n      <td>SENTINEL-2B</td>\n      <td>2024-10-03 13:49:03+00:00</td>\n      <td>POINT (-64.07641 -58.79248)</td>\n      <td>-64.076406</td>\n      <td>-58.792477</td>\n      <td>2024-10-03 13:49:03</td>\n    </tr>\n  </tbody>\n</table>\n<p>11521 rows × 6 columns</p>\n</div>"
          },
          "metadata": {}
        }
      ],
      "execution_count": 15
    },
    {
      "cell_type": "markdown",
      "source": "Let's refine our area of interest to see when/where satellites pass overhead. As the 2024 hurricane season in the Americas is under way, we can focus on the US state of Florida for our analysis.",
      "metadata": {}
    },
    {
      "cell_type": "code",
      "source": "min_lon = x_min = -89\nmax_lon = x_max = -74\nmin_lat = y_min = 22\nmax_lat = y_max = 32\n\nbbox=[min_lon, max_lon, min_lat, max_lat]\nbbox\n\n# Defining our AOI as a polygon shape\nflorida = Polygon([(x_min, y_min), (x_max, y_min), (x_max, y_max), (x_min, y_max), (x_min,y_min)])",
      "metadata": {
        "trusted": true
      },
      "outputs": [],
      "execution_count": 16
    },
    {
      "cell_type": "code",
      "source": "mask_lon = (sentinel_2b_gdf.lng >= min_lon) & (sentinel_2b_gdf.lng <= max_lon)\nmask_lat = (sentinel_2b_gdf.lat >= min_lat) & (sentinel_2b_gdf.lat <= max_lat)\n\naoi = sentinel_2b_gdf.where(mask_lon & mask_lat).dropna()\n\n#sentinel_2b_daylit = aoi[aoi[\"daytime\"] == True]\n#sentinel_2b_daylit",
      "metadata": {
        "trusted": true
      },
      "outputs": [],
      "execution_count": 17
    },
    {
      "cell_type": "markdown",
      "source": "Next, we can visualize these points on a map. They are color coded using a continuous color scale, with white being `now` and darker purple being further after `now`.",
      "metadata": {}
    },
    {
      "cell_type": "code",
      "source": "# This creates a range from 0-1 to define our colormap.\ntime_norm = (aoi.timestamp - t1) / (t2 - t1)\n\ncolors = apply_continuous_cmap(time_norm, Oranges_9)",
      "metadata": {
        "trusted": true
      },
      "outputs": [],
      "execution_count": 18
    },
    {
      "cell_type": "code",
      "source": "layer = ScatterplotLayer.from_geopandas(\n    aoi,\n    # extensions=[filter_extension],\n    get_fill_color=colors,\n    radius_min_pixels = 3\n    # get_filter_value=filter_values,\n    # filter_range=initial_filter_range,\n)\n\nm = Map(\n    layer,\n    basemap_style = basemap.CartoBasemap.DarkMatter,\n    )\nm",
      "metadata": {
        "trusted": true
      },
      "outputs": [
        {
          "name": "stderr",
          "text": "/lib/python3.12/site-packages/lonboard/_geoarrow/ops/reproject.py:33: UserWarning: No CRS exists on data. If no data is shown on the map, double check that your CRS is WGS84.\n  warn(\n",
          "output_type": "stream"
        },
        {
          "execution_count": 19,
          "output_type": "execute_result",
          "data": {
            "text/plain": "Map(basemap_style=<CartoBasemap.DarkMatter: 'https://basemaps.cartocdn.com/gl/dark-matter-gl-style/style.json'…",
            "application/vnd.jupyter.widget-view+json": {
              "version_major": 2,
              "version_minor": 1,
              "model_id": "4ff19c4603224c32a75f42d5ccb408ae"
            }
          },
          "metadata": {}
        }
      ],
      "execution_count": 19
    },
    {
      "cell_type": "markdown",
      "source": "We can clearly see the passes that Sentinel 2b takes in our area of interest and during our time frame, and during daytime hours.",
      "metadata": {}
    },
    {
      "cell_type": "markdown",
      "source": "---",
      "metadata": {}
    },
    {
      "cell_type": "markdown",
      "source": "## Calculating the position of a satellite constellation",
      "metadata": {}
    },
    {
      "cell_type": "markdown",
      "source": "Usually, humanitarians or emergency response organizations aren't concerned about which satellite captures an image, as long as they have a timely image with the appropriate resolution, (lack of) cloud cover, bands, etc.\n\nThe following example calculates the position of Planet satellites. With their portfolio's high spatial and temporal resolution, they are able to capture high-resolution images immediately before or after an event.",
      "metadata": {}
    },
    {
      "cell_type": "code",
      "source": "planet_url = \"https://celestrak.org/NORAD/elements/gp.php?GROUP=planet&FORMAT=tle\"\n\nr = requests.get(planet_url)\n\nwith open('out2.txt', 'wb') as output:\n    output.write(r.content)",
      "metadata": {
        "trusted": true
      },
      "outputs": [],
      "execution_count": 20
    },
    {
      "cell_type": "code",
      "source": "planet_swarm = load.tle_file(\"out2.txt\", reload=True, filename=\"planet_swarm\")\nplanet_swarm[0]",
      "metadata": {
        "trusted": true
      },
      "outputs": [
        {
          "execution_count": 21,
          "output_type": "execute_result",
          "data": {
            "text/plain": "<EarthSatellite SKYSAT-A catalog #39418 epoch 2024-10-01 03:37:32 UTC>"
          },
          "metadata": {}
        }
      ],
      "execution_count": 21
    },
    {
      "cell_type": "markdown",
      "source": "We then calculate the locations for all Planet satellites during our time frame in set increments.",
      "metadata": {}
    },
    {
      "cell_type": "code",
      "source": "timer = t1\n\nrows = []\n\nwhile timer <= t2:\n    for sat in planet_swarm:\n        timer, longitude, latitude, coords = location_iteration(timer, sat)\n\n        row = pd.DataFrame({'satellite': sat.name, 'timestamp': timer, 'coordinates': [coords], 'lng': longitude, 'lat': latitude}, index=[0])\n        rows.append(row)    \n\n    timer += timedelta(minutes=2) # ~ 3.5 min\n\nplanet_swarm_df = pd.concat(rows, ignore_index=True)\nplanet_swarm_df[\"time_string\"] = planet_swarm_df[\"timestamp\"].dt.strftime('%Y-%m-%d %X')\n",
      "metadata": {
        "trusted": true
      },
      "outputs": [],
      "execution_count": 22
    },
    {
      "cell_type": "code",
      "source": "planet_swarm_gdf = gpd.GeoDataFrame(planet_swarm_df, geometry=\"coordinates\")",
      "metadata": {
        "trusted": true
      },
      "outputs": [],
      "execution_count": 23
    },
    {
      "cell_type": "markdown",
      "source": "Again, we want to look at the satellites in our AOI. Because Planet satellites capture optical images, the following shows the next passes that occur when the satellite is lit (as a proxy of when the ground below is lit).",
      "metadata": {}
    },
    {
      "cell_type": "code",
      "source": "mask_lon = (planet_swarm_gdf.lng >= min_lon) & (planet_swarm_gdf.lng <= max_lon)\nmask_lat = (planet_swarm_gdf.lat >= min_lat) & (planet_swarm_gdf.lat <= max_lat)\n\naoi_planet = planet_swarm_gdf.where(mask_lon & mask_lat).dropna()\n# aoi_planet_day = aoi_planet[aoi_planet.daytime == True]\n# aoi_planet_day[aoi_planet_day[\"timestamp\"] > now]\n\n# planet_day = planet_swarm_gdf[planet_swarm_gdf.daytime == True]\n# planet_day[planet_day[\"timestamp\"] > now]",
      "metadata": {
        "trusted": true
      },
      "outputs": [],
      "execution_count": 24
    },
    {
      "cell_type": "markdown",
      "source": "## Visualize path of satellites",
      "metadata": {}
    },
    {
      "cell_type": "markdown",
      "source": "Instead of visualizing points on a map, a better representation would be a line. We can \"connect the dots\" calculated in the previous step.",
      "metadata": {}
    },
    {
      "cell_type": "code",
      "source": "def create_individual_linestrings(coords, timestamps, time_strings):\n    coords_list = coords.tolist()\n    timestamps_list = timestamps.tolist()\n    time_strings_list = time_strings.tolist()\n    line_segments = [\n        {'linestring': LineString([coords_list[i], coords_list[i + 1]]), 'timestamp': timestamps_list[i], 'time_string': time_strings_list[i]} \n        for i in range(len(coords_list) - 1)\n    ]\n    return line_segments",
      "metadata": {
        "trusted": true
      },
      "outputs": [],
      "execution_count": 25
    },
    {
      "cell_type": "code",
      "source": "new_rows = []\n\nfor satellite, group in aoi_planet.groupby('satellite'):\n    line_segments = create_individual_linestrings(group['coordinates'], group['timestamp'], group['time_string'])\n    for segment in line_segments:\n        new_rows.append({'satellite': satellite, 'linestring': segment['linestring'], 'timestamp': segment['timestamp'], 'time_string': segment['time_string']})\n\npath_segments = gpd.GeoDataFrame(new_rows, geometry='linestring')\npath_segments",
      "metadata": {
        "trusted": true
      },
      "outputs": [
        {
          "execution_count": 26,
          "output_type": "execute_result",
          "data": {
            "text/plain": "        satellite                                         linestring  \\\n0     FLOCK 4BE-1  LINESTRING (-88.15946 30.57479, -74.70960 29.1...   \n1     FLOCK 4BE-1  LINESTRING (-74.70960 29.12269, -83.72621 30.1...   \n2     FLOCK 4BE-1  LINESTRING (-83.72621 30.18979, -85.45370 22.6...   \n3    FLOCK 4BE-10  LINESTRING (-82.20151 28.85105, -77.32728 26.5...   \n4    FLOCK 4BE-11  LINESTRING (-82.81842 29.26100, -77.94482 27.0...   \n..            ...                                                ...   \n282     SKYSAT-C8  LINESTRING (-80.69816 28.72227, -88.08049 24.3...   \n283     SKYSAT-C8  LINESTRING (-88.08049 24.32681, -81.08370 24.4...   \n284     SKYSAT-C9  LINESTRING (-87.97592 30.45809, -81.26211 28.7...   \n285     SKYSAT-C9  LINESTRING (-81.26211 28.73325, -88.81966 25.4...   \n286     TANAGER-1  LINESTRING (-79.80425 26.37991, -75.14311 25.3...   \n\n                    timestamp          time_string  \n0   2024-10-01 16:49:03+00:00  2024-10-01 16:49:03  \n1   2024-10-02 03:21:03+00:00  2024-10-02 03:21:03  \n2   2024-10-02 16:31:03+00:00  2024-10-02 16:31:03  \n3   2024-10-02 03:51:03+00:00  2024-10-02 03:51:03  \n4   2024-10-02 03:53:03+00:00  2024-10-02 03:53:03  \n..                        ...                  ...  \n282 2024-10-01 19:37:03+00:00  2024-10-01 19:37:03  \n283 2024-10-02 07:37:03+00:00  2024-10-02 07:37:03  \n284 2024-10-01 20:03:03+00:00  2024-10-01 20:03:03  \n285 2024-10-02 19:35:03+00:00  2024-10-02 19:35:03  \n286 2024-10-02 03:43:03+00:00  2024-10-02 03:43:03  \n\n[287 rows x 4 columns]",
            "text/html": "<div>\n<style scoped>\n    .dataframe tbody tr th:only-of-type {\n        vertical-align: middle;\n    }\n\n    .dataframe tbody tr th {\n        vertical-align: top;\n    }\n\n    .dataframe thead th {\n        text-align: right;\n    }\n</style>\n<table border=\"1\" class=\"dataframe\">\n  <thead>\n    <tr style=\"text-align: right;\">\n      <th></th>\n      <th>satellite</th>\n      <th>linestring</th>\n      <th>timestamp</th>\n      <th>time_string</th>\n    </tr>\n  </thead>\n  <tbody>\n    <tr>\n      <th>0</th>\n      <td>FLOCK 4BE-1</td>\n      <td>LINESTRING (-88.15946 30.57479, -74.70960 29.1...</td>\n      <td>2024-10-01 16:49:03+00:00</td>\n      <td>2024-10-01 16:49:03</td>\n    </tr>\n    <tr>\n      <th>1</th>\n      <td>FLOCK 4BE-1</td>\n      <td>LINESTRING (-74.70960 29.12269, -83.72621 30.1...</td>\n      <td>2024-10-02 03:21:03+00:00</td>\n      <td>2024-10-02 03:21:03</td>\n    </tr>\n    <tr>\n      <th>2</th>\n      <td>FLOCK 4BE-1</td>\n      <td>LINESTRING (-83.72621 30.18979, -85.45370 22.6...</td>\n      <td>2024-10-02 16:31:03+00:00</td>\n      <td>2024-10-02 16:31:03</td>\n    </tr>\n    <tr>\n      <th>3</th>\n      <td>FLOCK 4BE-10</td>\n      <td>LINESTRING (-82.20151 28.85105, -77.32728 26.5...</td>\n      <td>2024-10-02 03:51:03+00:00</td>\n      <td>2024-10-02 03:51:03</td>\n    </tr>\n    <tr>\n      <th>4</th>\n      <td>FLOCK 4BE-11</td>\n      <td>LINESTRING (-82.81842 29.26100, -77.94482 27.0...</td>\n      <td>2024-10-02 03:53:03+00:00</td>\n      <td>2024-10-02 03:53:03</td>\n    </tr>\n    <tr>\n      <th>...</th>\n      <td>...</td>\n      <td>...</td>\n      <td>...</td>\n      <td>...</td>\n    </tr>\n    <tr>\n      <th>282</th>\n      <td>SKYSAT-C8</td>\n      <td>LINESTRING (-80.69816 28.72227, -88.08049 24.3...</td>\n      <td>2024-10-01 19:37:03+00:00</td>\n      <td>2024-10-01 19:37:03</td>\n    </tr>\n    <tr>\n      <th>283</th>\n      <td>SKYSAT-C8</td>\n      <td>LINESTRING (-88.08049 24.32681, -81.08370 24.4...</td>\n      <td>2024-10-02 07:37:03+00:00</td>\n      <td>2024-10-02 07:37:03</td>\n    </tr>\n    <tr>\n      <th>284</th>\n      <td>SKYSAT-C9</td>\n      <td>LINESTRING (-87.97592 30.45809, -81.26211 28.7...</td>\n      <td>2024-10-01 20:03:03+00:00</td>\n      <td>2024-10-01 20:03:03</td>\n    </tr>\n    <tr>\n      <th>285</th>\n      <td>SKYSAT-C9</td>\n      <td>LINESTRING (-81.26211 28.73325, -88.81966 25.4...</td>\n      <td>2024-10-02 19:35:03+00:00</td>\n      <td>2024-10-02 19:35:03</td>\n    </tr>\n    <tr>\n      <th>286</th>\n      <td>TANAGER-1</td>\n      <td>LINESTRING (-79.80425 26.37991, -75.14311 25.3...</td>\n      <td>2024-10-02 03:43:03+00:00</td>\n      <td>2024-10-02 03:43:03</td>\n    </tr>\n  </tbody>\n</table>\n<p>287 rows × 4 columns</p>\n</div>"
          },
          "metadata": {}
        }
      ],
      "execution_count": 26
    },
    {
      "cell_type": "markdown",
      "source": "If these line segments are not within the AOI, we can drop them from the dataframe.",
      "metadata": {}
    },
    {
      "cell_type": "code",
      "source": "def is_within_aoi(linestring, florida):\n    return linestring.intersects(florida)",
      "metadata": {
        "trusted": true
      },
      "outputs": [],
      "execution_count": 27
    },
    {
      "cell_type": "code",
      "source": "path_segments['within_aoi'] = path_segments['linestring'].apply(lambda x: is_within_aoi(x, florida))\npath_segments_clipped = path_segments[path_segments['within_aoi']].drop(columns='within_aoi')\n\npath_segments_clipped['length'] = path_segments_clipped['linestring'].apply(lambda x: x.length)\n\n# This is a way to drop segments that are not proper representations of paths, such as errors caused by traversing the International Date Line, or jumps between calculated points when a satellite enters and exits a nighttime area.\npath_segments_clipped = path_segments_clipped[path_segments_clipped[\"length\"] <= 75].drop(columns='length')",
      "metadata": {
        "trusted": true
      },
      "outputs": [],
      "execution_count": 28
    },
    {
      "cell_type": "markdown",
      "source": "As with the single satellite, we can create a color scale that shows the time of the satellite's pass for each line segment. In this example, white is closer to `now` and orange is closer to +48h.",
      "metadata": {}
    },
    {
      "cell_type": "code",
      "source": "# This creates a range from 0-1 to define our colormap.\ntime_norm_planet_swarm = (path_segments_clipped.timestamp - t1) / (t2 - t1)\n\ncolors_planet_swarm = apply_continuous_cmap(time_norm_planet_swarm, Oranges_9, alpha=.5)",
      "metadata": {
        "trusted": true
      },
      "outputs": [],
      "execution_count": 29
    },
    {
      "cell_type": "markdown",
      "source": "We can roughly estimate the width of the ground coverage of a Planet satellite to be 6km (i.e., the width of an image is 6km). To visualize this, we can set `get_width` to be 6km.",
      "metadata": {}
    },
    {
      "cell_type": "code",
      "source": "layer2 = PathLayer.from_geopandas(\n    path_segments_clipped,\n    get_color = colors_planet_swarm,\n    get_width=6000,\n    opacity=1,\n    auto_highlight=True\n)",
      "metadata": {
        "trusted": true
      },
      "outputs": [
        {
          "name": "stderr",
          "text": "/lib/python3.12/site-packages/lonboard/_geoarrow/ops/reproject.py:33: UserWarning: No CRS exists on data. If no data is shown on the map, double check that your CRS is WGS84.\n  warn(\n",
          "output_type": "stream"
        }
      ],
      "execution_count": 30
    },
    {
      "cell_type": "code",
      "source": "m2 = Map(\n    [layer2],\n    basemap_style = basemap.CartoBasemap.DarkMatter,\n    )\nm2",
      "metadata": {
        "trusted": true
      },
      "outputs": [
        {
          "execution_count": 32,
          "output_type": "execute_result",
          "data": {
            "text/plain": "Map(basemap_style=<CartoBasemap.DarkMatter: 'https://basemaps.cartocdn.com/gl/dark-matter-gl-style/style.json'…",
            "application/vnd.jupyter.widget-view+json": {
              "version_major": 2,
              "version_minor": 1,
              "model_id": "6deaec6ac7994c60911ca0d065285b3b"
            }
          },
          "metadata": {}
        }
      ],
      "execution_count": 32
    },
    {
      "cell_type": "markdown",
      "source": "As expected, there are many more passes than by a single satellite. Due to small area of interests for many events, cloud cover, and other variables, a larger constellation lets practitioners then narrow down their search.\n\nThe visualization of these paths give practitioners a good sense of the time an image of an area of interest will be captured. For example, a practitioner would be interested in an AOI of this size, but might be particularly interested in images of Miami. They could zoom in to Miami and see if a path covers or comes close to Miami. If so, and if there isn't excessive cloud cover, an image could be made available or tasked. If multiple paths cover Miami, that indicates a better chance of capturing a valuable image.\n\nOnce a satellite is calculated to have passed over an AOI, the next step could be to analyze the imagery, ideally using the other STAC and COG focused notebooks in this repository. Combining a positioning calculation with automated image loading and processing could be the foundations for a powerful EO-based monitoring and alerting system.",
      "metadata": {}
    }
  ]
}