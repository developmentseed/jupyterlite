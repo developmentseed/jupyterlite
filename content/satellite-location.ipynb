{
  "metadata": {
    "kernelspec": {
      "name": "python",
      "display_name": "Python (Pyodide)",
      "language": "python"
    },
    "language_info": {
      "codemirror_mode": {
        "name": "python",
        "version": 3
      },
      "file_extension": ".py",
      "mimetype": "text/x-python",
      "name": "python",
      "nbconvert_exporter": "python",
      "pygments_lexer": "ipython3",
      "version": "3.8"
    }
  },
  "nbformat_minor": 4,
  "nbformat": 4,
  "cells": [
    {
      "cell_type": "markdown",
      "source": "# Satellite Location Demo",
      "metadata": {}
    },
    {
      "cell_type": "code",
      "source": "import micropip\nawait micropip.install(\"https://ds-wheels.s3.amazonaws.com/sgp4-2.23-cp312-cp312-pyodide_2024_0_wasm32.whl\")\n\nfrom sgp4.api import accelerated\nprint(accelerated)",
      "metadata": {
        "trusted": true
      },
      "outputs": [
        {
          "name": "stdout",
          "text": "True\n",
          "output_type": "stream"
        }
      ],
      "execution_count": 1
    },
    {
      "cell_type": "markdown",
      "source": "Timeliness is an important aspect for countless uses of Earth Observation (EO) data. Humanitarians and emergency response organizations, for example, benefit from imagery immediately before or after an emergency.\n\nKnowing when an image was captured of an area of interested, or when it will be captured next, can help humanitarians emergency response organizations better understand where aid is most needed.\n\nThis notebook demonstrates how the location of EO satellites can be computed in an area of interest. This can be used as a proxy of where images were and will be captured. \n\nThese techniques could be combined with those in other notebooks in this repository, such as loading STAC items and calculating how a disaster impacts people, to create automated analysis for past and future disasters.",
      "metadata": {}
    },
    {
      "cell_type": "markdown",
      "source": "## Load Libraries and Data",
      "metadata": {}
    },
    {
      "cell_type": "markdown",
      "source": "We'll use the [sgp4](https://pypi.org/project/sgp4/) and [skyfield](https://rhodesmill.org/skyfield/) libraries, which help us calculate the position of satellites using complex orbital physics. Shapely will help us with some of the geometry creation and calculations, and Lonboard will be used to visualize the results.",
      "metadata": {}
    },
    {
      "cell_type": "code",
      "source": "import micropip",
      "metadata": {
        "trusted": true
      },
      "outputs": [],
      "execution_count": 2
    },
    {
      "cell_type": "code",
      "source": "deps = [\n    \"https://ds-wheels.s3.amazonaws.com/arro3_core-0.3.0-cp312-cp312-emscripten_3_1_58_wasm32.whl\",\n    \"https://ds-wheels.s3.amazonaws.com/arro3_compute-0.3.0-cp312-cp312-emscripten_3_1_58_wasm32.whl\",\n    \"https://ds-wheels.s3.amazonaws.com/arro3_io-0.3.0-cp312-cp312-emscripten_3_1_58_wasm32.whl\",\n    \"https://ds-wheels.s3.amazonaws.com/geoarrow_rust_core-0.3.0b1-cp38-abi3-emscripten_3_1_58_wasm32.whl\",\n    \"palettable\",\n    \"matplotlib\",\n    \"lonboard==0.10.0b2\"\n]\nawait micropip.install(deps)",
      "metadata": {
        "trusted": true
      },
      "outputs": [],
      "execution_count": 3
    },
    {
      "cell_type": "code",
      "source": "%pip install skyfield",
      "metadata": {
        "trusted": true
      },
      "outputs": [],
      "execution_count": 4
    },
    {
      "cell_type": "code",
      "source": "from skyfield.api import load, wgs84, Timescale\nfrom skyfield.jpllib import SpiceKernel\n\nfrom datetime import datetime, timedelta, timezone\n\nfrom lonboard import viz, Map, ScatterplotLayer, basemap, PathLayer\nfrom lonboard.colormap import apply_continuous_cmap\nfrom palettable.colorbrewer.sequential import Oranges_9\n\nimport geopandas as gpd\nimport pandas as pd\nfrom shapely import Point, LineString, Polygon\n\nimport requests",
      "metadata": {
        "trusted": true
      },
      "outputs": [],
      "execution_count": 54
    },
    {
      "cell_type": "markdown",
      "source": "## Calculating the position of a satellite",
      "metadata": {}
    },
    {
      "cell_type": "markdown",
      "source": "We'll load information about specific satellites from [Celestrak](https://celestrak.org). Due to the complexities of orbital physics, data about satellites needs to be updated frequently is only accurate for about 1 week before and after \"epoch\".\n\nFor this example, we'll calculate the position of Sentinel 2b.",
      "metadata": {}
    },
    {
      "cell_type": "code",
      "source": "sentinel_2b_url = \"https://celestrak.org/NORAD/elements/gp.php?CATNR=42063\"\n\nr = requests.get(sentinel_2b_url)\n\nwith open('out1.txt', 'wb') as output:\n    output.write(r.content)",
      "metadata": {
        "trusted": true
      },
      "outputs": [],
      "execution_count": 88
    },
    {
      "cell_type": "code",
      "source": "sentinel_2b = load.tle_file(\"out1.txt\", reload=True, filename=\"sentinel_2b\")",
      "metadata": {
        "trusted": true
      },
      "outputs": [],
      "execution_count": 89
    },
    {
      "cell_type": "code",
      "source": "# Check if the data loaded properly\n\nsatellite = sentinel_2b[0]\nsatellite",
      "metadata": {
        "trusted": true
      },
      "outputs": [
        {
          "execution_count": 75,
          "output_type": "execute_result",
          "data": {
            "text/plain": "<EarthSatellite SENTINEL-2B catalog #42063 epoch 2024-09-30 20:55:28 UTC>"
          },
          "metadata": {}
        }
      ],
      "execution_count": 75
    },
    {
      "cell_type": "markdown",
      "source": "For sudden-onset emergencies, the time immediately before an after an event are the most critical. We can set a time range of +2 days (48h) from a certain point in time. For the purposes of this notebook, we'll use `now` (the time when the cell is run). These techniques can also be applied in the past, if a before/after analysis is needed.",
      "metadata": {}
    },
    {
      "cell_type": "code",
      "source": "# WIP\n\n# f = open(\"../data/de421.bsp\", \"rb\")\n# ephemeris = f.read()\n\n# eph = SpiceKernel(ephemeris)",
      "metadata": {
        "trusted": true
      },
      "outputs": [],
      "execution_count": 76
    },
    {
      "cell_type": "code",
      "source": "# Calculate the current UTC time (without microseconds), then creating a time range + 48h\n\n# load timescale\nts = load.timescale()\n\n# load \"ephemeris\" (https://rhodesmill.org/skyfield/api.html#planetary-ephemerides), which let's us determine if a satellite is illuminated by the sun (as a proxy of if the ground is lit)\n# eph = open('data/de421.bsp')\n\nnow = datetime.now(timezone.utc).replace(microsecond=0)\nt1 = now\nt2 = now + timedelta(days=2)",
      "metadata": {
        "trusted": true
      },
      "outputs": [],
      "execution_count": 77
    },
    {
      "cell_type": "markdown",
      "source": "To calculate the position of the satellite throughout the time range, we can initiate a timer and then calculate the position at each time step (defined below).",
      "metadata": {}
    },
    {
      "cell_type": "code",
      "source": "# initiate\n\ntimer = t1\n\ndf = pd.DataFrame(columns=['satellite', 'timestamp', 'coordinates', 'lng', 'lat', 'daytime'])\n\nrows = []",
      "metadata": {
        "trusted": true
      },
      "outputs": [],
      "execution_count": 78
    },
    {
      "cell_type": "markdown",
      "source": "The `location_iteration` function lodes the geocentric location, calculates the latitude and longitude, converts them to decimal degrees, and saves them as a point coordinate. It also checks if the satellite is sunlit at the time of calculation, which can be used as an approximation of if it is daytime below.",
      "metadata": {}
    },
    {
      "cell_type": "code",
      "source": "def location_iteration(timer, sat):\n    geocentric = sat.at(Timescale.from_datetime(ts, timer))\n    lat, lon = wgs84.latlon_of(geocentric)\n    longitude = lon.degrees\n    latitude = lat.degrees\n    # daytime = geocentric.is_sunlit(eph)\n    coords = Point(longitude, latitude)\n\n    return timer, longitude, latitude, coords",
      "metadata": {
        "trusted": true
      },
      "outputs": [],
      "execution_count": 79
    },
    {
      "cell_type": "markdown",
      "source": "Then, we can iterate over the time frame. The more frequent the measurements, the slower the calculation takes.",
      "metadata": {}
    },
    {
      "cell_type": "code",
      "source": "while timer <= t2:\n    timer, longitude, latitude, coords = location_iteration(timer, sentinel_2b[0])\n\n    row = pd.DataFrame({'satellite': satellite.name, 'timestamp': timer, 'coordinates': [coords], 'lng': longitude, 'lat': latitude}, index=[0])\n    rows.append(row)    \n\n    timer += timedelta(seconds=15) # ~13 seconds\n\ndf = pd.concat(rows, ignore_index=True)\ndf[\"time_string\"] = df[\"timestamp\"].dt.strftime('%Y-%m-%d %X')",
      "metadata": {
        "trusted": true
      },
      "outputs": [],
      "execution_count": 82
    },
    {
      "cell_type": "markdown",
      "source": "We can then save this as a geodataframe.",
      "metadata": {}
    },
    {
      "cell_type": "code",
      "source": "sentinel_2b_gdf = gpd.GeoDataFrame(df, geometry=\"coordinates\")\nsentinel_2b_gdf",
      "metadata": {
        "trusted": true
      },
      "outputs": [
        {
          "execution_count": 83,
          "output_type": "execute_result",
          "data": {
            "text/plain": "         satellite                 timestamp                  coordinates  \\\n0      SENTINEL-2B 2024-10-01 12:27:18+00:00    POINT (51.36080 81.36181)   \n1      SENTINEL-2B 2024-10-01 12:27:33+00:00    POINT (45.55995 81.17556)   \n2      SENTINEL-2B 2024-10-01 12:27:48+00:00    POINT (40.04518 80.90620)   \n3      SENTINEL-2B 2024-10-01 12:28:03+00:00    POINT (34.88343 80.56085)   \n4      SENTINEL-2B 2024-10-01 12:28:18+00:00    POINT (30.11173 80.14748)   \n...            ...                       ...                          ...   \n11516  SENTINEL-2B 2024-10-03 12:26:18+00:00  POINT (163.52309 -55.47098)   \n11517  SENTINEL-2B 2024-10-03 12:26:33+00:00  POINT (163.05860 -54.61120)   \n11518  SENTINEL-2B 2024-10-03 12:26:48+00:00  POINT (162.61068 -53.74997)   \n11519  SENTINEL-2B 2024-10-03 12:27:03+00:00  POINT (162.17819 -52.88738)   \n11520  SENTINEL-2B 2024-10-03 12:27:18+00:00  POINT (161.76007 -52.02352)   \n\n              lng        lat          time_string  \n0       51.360799  81.361812  2024-10-01 12:27:18  \n1       45.559953  81.175557  2024-10-01 12:27:33  \n2       40.045179  80.906200  2024-10-01 12:27:48  \n3       34.883434  80.560848  2024-10-01 12:28:03  \n4       30.111728  80.147481  2024-10-01 12:28:18  \n...           ...        ...                  ...  \n11516  163.523090 -55.470980  2024-10-03 12:26:18  \n11517  163.058600 -54.611197  2024-10-03 12:26:33  \n11518  162.610683 -53.749970  2024-10-03 12:26:48  \n11519  162.178190 -52.887384  2024-10-03 12:27:03  \n11520  161.760073 -52.023521  2024-10-03 12:27:18  \n\n[11521 rows x 6 columns]",
            "text/html": "<div>\n<style scoped>\n    .dataframe tbody tr th:only-of-type {\n        vertical-align: middle;\n    }\n\n    .dataframe tbody tr th {\n        vertical-align: top;\n    }\n\n    .dataframe thead th {\n        text-align: right;\n    }\n</style>\n<table border=\"1\" class=\"dataframe\">\n  <thead>\n    <tr style=\"text-align: right;\">\n      <th></th>\n      <th>satellite</th>\n      <th>timestamp</th>\n      <th>coordinates</th>\n      <th>lng</th>\n      <th>lat</th>\n      <th>time_string</th>\n    </tr>\n  </thead>\n  <tbody>\n    <tr>\n      <th>0</th>\n      <td>SENTINEL-2B</td>\n      <td>2024-10-01 12:27:18+00:00</td>\n      <td>POINT (51.36080 81.36181)</td>\n      <td>51.360799</td>\n      <td>81.361812</td>\n      <td>2024-10-01 12:27:18</td>\n    </tr>\n    <tr>\n      <th>1</th>\n      <td>SENTINEL-2B</td>\n      <td>2024-10-01 12:27:33+00:00</td>\n      <td>POINT (45.55995 81.17556)</td>\n      <td>45.559953</td>\n      <td>81.175557</td>\n      <td>2024-10-01 12:27:33</td>\n    </tr>\n    <tr>\n      <th>2</th>\n      <td>SENTINEL-2B</td>\n      <td>2024-10-01 12:27:48+00:00</td>\n      <td>POINT (40.04518 80.90620)</td>\n      <td>40.045179</td>\n      <td>80.906200</td>\n      <td>2024-10-01 12:27:48</td>\n    </tr>\n    <tr>\n      <th>3</th>\n      <td>SENTINEL-2B</td>\n      <td>2024-10-01 12:28:03+00:00</td>\n      <td>POINT (34.88343 80.56085)</td>\n      <td>34.883434</td>\n      <td>80.560848</td>\n      <td>2024-10-01 12:28:03</td>\n    </tr>\n    <tr>\n      <th>4</th>\n      <td>SENTINEL-2B</td>\n      <td>2024-10-01 12:28:18+00:00</td>\n      <td>POINT (30.11173 80.14748)</td>\n      <td>30.111728</td>\n      <td>80.147481</td>\n      <td>2024-10-01 12:28:18</td>\n    </tr>\n    <tr>\n      <th>...</th>\n      <td>...</td>\n      <td>...</td>\n      <td>...</td>\n      <td>...</td>\n      <td>...</td>\n      <td>...</td>\n    </tr>\n    <tr>\n      <th>11516</th>\n      <td>SENTINEL-2B</td>\n      <td>2024-10-03 12:26:18+00:00</td>\n      <td>POINT (163.52309 -55.47098)</td>\n      <td>163.523090</td>\n      <td>-55.470980</td>\n      <td>2024-10-03 12:26:18</td>\n    </tr>\n    <tr>\n      <th>11517</th>\n      <td>SENTINEL-2B</td>\n      <td>2024-10-03 12:26:33+00:00</td>\n      <td>POINT (163.05860 -54.61120)</td>\n      <td>163.058600</td>\n      <td>-54.611197</td>\n      <td>2024-10-03 12:26:33</td>\n    </tr>\n    <tr>\n      <th>11518</th>\n      <td>SENTINEL-2B</td>\n      <td>2024-10-03 12:26:48+00:00</td>\n      <td>POINT (162.61068 -53.74997)</td>\n      <td>162.610683</td>\n      <td>-53.749970</td>\n      <td>2024-10-03 12:26:48</td>\n    </tr>\n    <tr>\n      <th>11519</th>\n      <td>SENTINEL-2B</td>\n      <td>2024-10-03 12:27:03+00:00</td>\n      <td>POINT (162.17819 -52.88738)</td>\n      <td>162.178190</td>\n      <td>-52.887384</td>\n      <td>2024-10-03 12:27:03</td>\n    </tr>\n    <tr>\n      <th>11520</th>\n      <td>SENTINEL-2B</td>\n      <td>2024-10-03 12:27:18+00:00</td>\n      <td>POINT (161.76007 -52.02352)</td>\n      <td>161.760073</td>\n      <td>-52.023521</td>\n      <td>2024-10-03 12:27:18</td>\n    </tr>\n  </tbody>\n</table>\n<p>11521 rows × 6 columns</p>\n</div>"
          },
          "metadata": {}
        }
      ],
      "execution_count": 83
    },
    {
      "cell_type": "markdown",
      "source": "Let's refine our area of interest to see when/where satellites pass overhead. As the 2024 hurricane season in the Americas is under way, we can focus on the US state of Florida for our analysis.",
      "metadata": {}
    },
    {
      "cell_type": "code",
      "source": "min_lon = x_min = -89\nmax_lon = x_max = -74\nmin_lat = y_min = 22\nmax_lat = y_max = 32\n\nbbox=[min_lon, max_lon, min_lat, max_lat]\nbbox\n\n# Defining our AOI as a polygon shape\nflorida = Polygon([(x_min, y_min), (x_max, y_min), (x_max, y_max), (x_min, y_max), (x_min,y_min)])",
      "metadata": {
        "trusted": true
      },
      "outputs": [],
      "execution_count": 84
    },
    {
      "cell_type": "code",
      "source": "mask_lon = (sentinel_2b_gdf.lng >= min_lon) & (sentinel_2b_gdf.lng <= max_lon)\nmask_lat = (sentinel_2b_gdf.lat >= min_lat) & (sentinel_2b_gdf.lat <= max_lat)\n\naoi = sentinel_2b_gdf.where(mask_lon & mask_lat).dropna()\n\n#sentinel_2b_daylit = aoi[aoi[\"daytime\"] == True]\n#sentinel_2b_daylit",
      "metadata": {
        "trusted": true
      },
      "outputs": [],
      "execution_count": 85
    },
    {
      "cell_type": "markdown",
      "source": "Next, we can visualize these points on a map. They are color coded using a continuous color scale, with white being `now` and darker purple being further after `now`.",
      "metadata": {}
    },
    {
      "cell_type": "code",
      "source": "# This creates a range from 0-1 to define our colormap.\ntime_norm = (aoi.timestamp - t1) / (t2 - t1)\n\ncolors = apply_continuous_cmap(time_norm, Oranges_9)",
      "metadata": {
        "trusted": true
      },
      "outputs": [],
      "execution_count": 86
    },
    {
      "cell_type": "code",
      "source": "layer = ScatterplotLayer.from_geopandas(\n    aoi,\n    # extensions=[filter_extension],\n    get_fill_color=colors,\n    radius_min_pixels = 3\n    # get_filter_value=filter_values,\n    # filter_range=initial_filter_range,\n)\n\nm = Map(\n    layer,\n    basemap_style = basemap.CartoBasemap.DarkMatter,\n    )\nm",
      "metadata": {
        "trusted": true
      },
      "outputs": [
        {
          "ename": "<class 'NameError'>",
          "evalue": "name 'ArrowDtype' is not defined",
          "traceback": [
            "\u001b[0;31m---------------------------------------------------------------------------\u001b[0m",
            "\u001b[0;31mNameError\u001b[0m                                 Traceback (most recent call last)",
            "Cell \u001b[0;32mIn[87], line 1\u001b[0m\n\u001b[0;32m----> 1\u001b[0m layer \u001b[38;5;241m=\u001b[39m \u001b[43mScatterplotLayer\u001b[49m\u001b[38;5;241;43m.\u001b[39;49m\u001b[43mfrom_geopandas\u001b[49m\u001b[43m(\u001b[49m\n\u001b[1;32m      2\u001b[0m \u001b[43m    \u001b[49m\u001b[43maoi\u001b[49m\u001b[43m,\u001b[49m\n\u001b[1;32m      3\u001b[0m \u001b[43m    \u001b[49m\u001b[38;5;66;43;03m# extensions=[filter_extension],\u001b[39;49;00m\n\u001b[1;32m      4\u001b[0m \u001b[43m    \u001b[49m\u001b[43mget_fill_color\u001b[49m\u001b[38;5;241;43m=\u001b[39;49m\u001b[43mcolors\u001b[49m\u001b[43m,\u001b[49m\n\u001b[1;32m      5\u001b[0m \u001b[43m    \u001b[49m\u001b[43mradius_min_pixels\u001b[49m\u001b[43m \u001b[49m\u001b[38;5;241;43m=\u001b[39;49m\u001b[43m \u001b[49m\u001b[38;5;241;43m3\u001b[39;49m\n\u001b[1;32m      6\u001b[0m \u001b[43m    \u001b[49m\u001b[38;5;66;43;03m# get_filter_value=filter_values,\u001b[39;49;00m\n\u001b[1;32m      7\u001b[0m \u001b[43m    \u001b[49m\u001b[38;5;66;43;03m# filter_range=initial_filter_range,\u001b[39;49;00m\n\u001b[1;32m      8\u001b[0m \u001b[43m)\u001b[49m\n\u001b[1;32m     10\u001b[0m m \u001b[38;5;241m=\u001b[39m Map(\n\u001b[1;32m     11\u001b[0m     layer,\n\u001b[1;32m     12\u001b[0m     basemap_style \u001b[38;5;241m=\u001b[39m basemap\u001b[38;5;241m.\u001b[39mCartoBasemap\u001b[38;5;241m.\u001b[39mDarkMatter,\n\u001b[1;32m     13\u001b[0m     )\n\u001b[1;32m     14\u001b[0m m\n",
            "File \u001b[0;32m/lib/python3.12/site-packages/lonboard/_layer.py:1275\u001b[0m, in \u001b[0;36mScatterplotLayer.from_geopandas\u001b[0;34m(cls, gdf, auto_downcast, **kwargs)\u001b[0m\n\u001b[1;32m   1267\u001b[0m \u001b[38;5;129m@classmethod\u001b[39m\n\u001b[1;32m   1268\u001b[0m \u001b[38;5;28;01mdef\u001b[39;00m \u001b[38;5;21mfrom_geopandas\u001b[39m(\n\u001b[1;32m   1269\u001b[0m     \u001b[38;5;28mcls\u001b[39m,\n\u001b[0;32m   (...)\u001b[0m\n\u001b[1;32m   1273\u001b[0m     \u001b[38;5;241m*\u001b[39m\u001b[38;5;241m*\u001b[39mkwargs: Unpack[ScatterplotLayerKwargs],\n\u001b[1;32m   1274\u001b[0m ) \u001b[38;5;241m-\u001b[39m\u001b[38;5;241m>\u001b[39m Self:\n\u001b[0;32m-> 1275\u001b[0m     \u001b[38;5;28;01mreturn\u001b[39;00m \u001b[38;5;28;43msuper\u001b[39;49m\u001b[43m(\u001b[49m\u001b[43m)\u001b[49m\u001b[38;5;241;43m.\u001b[39;49m\u001b[43mfrom_geopandas\u001b[49m\u001b[43m(\u001b[49m\u001b[43mgdf\u001b[49m\u001b[38;5;241;43m=\u001b[39;49m\u001b[43mgdf\u001b[49m\u001b[43m,\u001b[49m\u001b[43m \u001b[49m\u001b[43mauto_downcast\u001b[49m\u001b[38;5;241;43m=\u001b[39;49m\u001b[43mauto_downcast\u001b[49m\u001b[43m,\u001b[49m\u001b[43m \u001b[49m\u001b[38;5;241;43m*\u001b[39;49m\u001b[38;5;241;43m*\u001b[39;49m\u001b[43mkwargs\u001b[49m\u001b[43m)\u001b[49m\n",
            "File \u001b[0;32m/lib/python3.12/site-packages/lonboard/_layer.py:389\u001b[0m, in \u001b[0;36mBaseArrowLayer.from_geopandas\u001b[0;34m(cls, gdf, auto_downcast, **kwargs)\u001b[0m\n\u001b[1;32m    370\u001b[0m \u001b[38;5;250m\u001b[39m\u001b[38;5;124;03m\"\"\"Construct a Layer from a geopandas GeoDataFrame.\u001b[39;00m\n\u001b[1;32m    371\u001b[0m \n\u001b[1;32m    372\u001b[0m \u001b[38;5;124;03mThe GeoDataFrame will be reprojected to EPSG:4326 if it is not already in that\u001b[39;00m\n\u001b[0;32m   (...)\u001b[0m\n\u001b[1;32m    385\u001b[0m \u001b[38;5;124;03m    A Layer with the initialized data.\u001b[39;00m\n\u001b[1;32m    386\u001b[0m \u001b[38;5;124;03m\"\"\"\u001b[39;00m\n\u001b[1;32m    387\u001b[0m \u001b[38;5;28;01mif\u001b[39;00m auto_downcast:\n\u001b[1;32m    388\u001b[0m     \u001b[38;5;66;03m# Note: we don't deep copy because we don't need to clone geometries\u001b[39;00m\n\u001b[0;32m--> 389\u001b[0m     gdf \u001b[38;5;241m=\u001b[39m \u001b[43m_auto_downcast\u001b[49m\u001b[43m(\u001b[49m\u001b[43mgdf\u001b[49m\u001b[38;5;241;43m.\u001b[39;49m\u001b[43mcopy\u001b[49m\u001b[43m(\u001b[49m\u001b[43m)\u001b[49m\u001b[43m)\u001b[49m  \u001b[38;5;66;03m# type: ignore\u001b[39;00m\n\u001b[1;32m    391\u001b[0m table \u001b[38;5;241m=\u001b[39m geopandas_to_geoarrow(gdf)\n\u001b[1;32m    392\u001b[0m \u001b[38;5;28;01mreturn\u001b[39;00m \u001b[38;5;28mcls\u001b[39m(table\u001b[38;5;241m=\u001b[39mtable, \u001b[38;5;241m*\u001b[39m\u001b[38;5;241m*\u001b[39mkwargs)\n",
            "File \u001b[0;32m/lib/python3.12/site-packages/lonboard/_utils.py:61\u001b[0m, in \u001b[0;36mauto_downcast\u001b[0;34m(df)\u001b[0m\n\u001b[1;32m     54\u001b[0m check_pandas_version()\n\u001b[1;32m     56\u001b[0m \u001b[38;5;66;03m# Convert objects to numeric types where possible.\u001b[39;00m\n\u001b[1;32m     57\u001b[0m \u001b[38;5;66;03m# Note: we have to exclude geometry because\u001b[39;00m\n\u001b[1;32m     58\u001b[0m \u001b[38;5;66;03m# `convert_dtypes(dtype_backend=\"pyarrow\")` fails on the geometory column, but we\u001b[39;00m\n\u001b[1;32m     59\u001b[0m \u001b[38;5;66;03m# also have to manually cast to a non-geo data frame because it'll fail to convert\u001b[39;00m\n\u001b[1;32m     60\u001b[0m \u001b[38;5;66;03m# dtypes on a GeoDataFrame without a geom col\u001b[39;00m\n\u001b[0;32m---> 61\u001b[0m casted_df \u001b[38;5;241m=\u001b[39m \u001b[43mpd\u001b[49m\u001b[38;5;241;43m.\u001b[39;49m\u001b[43mDataFrame\u001b[49m\u001b[43m(\u001b[49m\u001b[43mdf\u001b[49m\u001b[38;5;241;43m.\u001b[39;49m\u001b[43mselect_dtypes\u001b[49m\u001b[43m(\u001b[49m\u001b[43mexclude\u001b[49m\u001b[38;5;241;43m=\u001b[39;49m\u001b[38;5;124;43m\"\u001b[39;49m\u001b[38;5;124;43mgeometry\u001b[39;49m\u001b[38;5;124;43m\"\u001b[39;49m\u001b[43m)\u001b[49m\u001b[43m)\u001b[49m\u001b[38;5;241;43m.\u001b[39;49m\u001b[43mconvert_dtypes\u001b[49m\u001b[43m(\u001b[49m\u001b[43m  \u001b[49m\u001b[38;5;66;43;03m# type: ignore\u001b[39;49;00m\n\u001b[1;32m     62\u001b[0m \u001b[43m    \u001b[49m\u001b[43minfer_objects\u001b[49m\u001b[38;5;241;43m=\u001b[39;49m\u001b[38;5;28;43;01mTrue\u001b[39;49;00m\u001b[43m,\u001b[49m\n\u001b[1;32m     63\u001b[0m \u001b[43m    \u001b[49m\u001b[43mconvert_string\u001b[49m\u001b[38;5;241;43m=\u001b[39;49m\u001b[38;5;28;43;01mTrue\u001b[39;49;00m\u001b[43m,\u001b[49m\n\u001b[1;32m     64\u001b[0m \u001b[43m    \u001b[49m\u001b[43mconvert_integer\u001b[49m\u001b[38;5;241;43m=\u001b[39;49m\u001b[38;5;28;43;01mTrue\u001b[39;49;00m\u001b[43m,\u001b[49m\n\u001b[1;32m     65\u001b[0m \u001b[43m    \u001b[49m\u001b[43mconvert_boolean\u001b[49m\u001b[38;5;241;43m=\u001b[39;49m\u001b[38;5;28;43;01mTrue\u001b[39;49;00m\u001b[43m,\u001b[49m\n\u001b[1;32m     66\u001b[0m \u001b[43m    \u001b[49m\u001b[43mconvert_floating\u001b[49m\u001b[38;5;241;43m=\u001b[39;49m\u001b[38;5;28;43;01mTrue\u001b[39;49;00m\u001b[43m,\u001b[49m\n\u001b[1;32m     67\u001b[0m \u001b[43m    \u001b[49m\u001b[43mdtype_backend\u001b[49m\u001b[38;5;241;43m=\u001b[39;49m\u001b[38;5;124;43m\"\u001b[39;49m\u001b[38;5;124;43mpyarrow\u001b[39;49m\u001b[38;5;124;43m\"\u001b[39;49m\u001b[43m,\u001b[49m\n\u001b[1;32m     68\u001b[0m \u001b[43m\u001b[49m\u001b[43m)\u001b[49m\n\u001b[1;32m     69\u001b[0m df[casted_df\u001b[38;5;241m.\u001b[39mcolumns] \u001b[38;5;241m=\u001b[39m casted_df\n\u001b[1;32m     71\u001b[0m \u001b[38;5;66;03m# Try to convert _all_ integer columns to unsigned integer columns, but use\u001b[39;00m\n\u001b[1;32m     72\u001b[0m \u001b[38;5;66;03m# errors='ignore' to return signed integer data types for columns with negative\u001b[39;00m\n\u001b[1;32m     73\u001b[0m \u001b[38;5;66;03m# integers.\u001b[39;00m\n",
            "File \u001b[0;32m/lib/python3.12/site-packages/pandas/core/generic.py:7025\u001b[0m, in \u001b[0;36mNDFrame.convert_dtypes\u001b[0;34m(self, infer_objects, convert_string, convert_integer, convert_boolean, convert_floating, dtype_backend)\u001b[0m\n\u001b[1;32m   6896\u001b[0m \u001b[38;5;250m\u001b[39m\u001b[38;5;124;03m\"\"\"\u001b[39;00m\n\u001b[1;32m   6897\u001b[0m \u001b[38;5;124;03mConvert columns to the best possible dtypes using dtypes supporting ``pd.NA``.\u001b[39;00m\n\u001b[1;32m   6898\u001b[0m \n\u001b[0;32m   (...)\u001b[0m\n\u001b[1;32m   7022\u001b[0m \u001b[38;5;124;03mdtype: string\u001b[39;00m\n\u001b[1;32m   7023\u001b[0m \u001b[38;5;124;03m\"\"\"\u001b[39;00m\n\u001b[1;32m   7024\u001b[0m check_dtype_backend(dtype_backend)\n\u001b[0;32m-> 7025\u001b[0m new_mgr \u001b[38;5;241m=\u001b[39m \u001b[38;5;28;43mself\u001b[39;49m\u001b[38;5;241;43m.\u001b[39;49m\u001b[43m_mgr\u001b[49m\u001b[38;5;241;43m.\u001b[39;49m\u001b[43mconvert_dtypes\u001b[49m\u001b[43m(\u001b[49m\u001b[43m  \u001b[49m\u001b[38;5;66;43;03m# type: ignore[union-attr]\u001b[39;49;00m\n\u001b[1;32m   7026\u001b[0m \u001b[43m    \u001b[49m\u001b[43minfer_objects\u001b[49m\u001b[38;5;241;43m=\u001b[39;49m\u001b[43minfer_objects\u001b[49m\u001b[43m,\u001b[49m\n\u001b[1;32m   7027\u001b[0m \u001b[43m    \u001b[49m\u001b[43mconvert_string\u001b[49m\u001b[38;5;241;43m=\u001b[39;49m\u001b[43mconvert_string\u001b[49m\u001b[43m,\u001b[49m\n\u001b[1;32m   7028\u001b[0m \u001b[43m    \u001b[49m\u001b[43mconvert_integer\u001b[49m\u001b[38;5;241;43m=\u001b[39;49m\u001b[43mconvert_integer\u001b[49m\u001b[43m,\u001b[49m\n\u001b[1;32m   7029\u001b[0m \u001b[43m    \u001b[49m\u001b[43mconvert_boolean\u001b[49m\u001b[38;5;241;43m=\u001b[39;49m\u001b[43mconvert_boolean\u001b[49m\u001b[43m,\u001b[49m\n\u001b[1;32m   7030\u001b[0m \u001b[43m    \u001b[49m\u001b[43mconvert_floating\u001b[49m\u001b[38;5;241;43m=\u001b[39;49m\u001b[43mconvert_floating\u001b[49m\u001b[43m,\u001b[49m\n\u001b[1;32m   7031\u001b[0m \u001b[43m    \u001b[49m\u001b[43mdtype_backend\u001b[49m\u001b[38;5;241;43m=\u001b[39;49m\u001b[43mdtype_backend\u001b[49m\u001b[43m,\u001b[49m\n\u001b[1;32m   7032\u001b[0m \u001b[43m\u001b[49m\u001b[43m)\u001b[49m\n\u001b[1;32m   7033\u001b[0m res \u001b[38;5;241m=\u001b[39m \u001b[38;5;28mself\u001b[39m\u001b[38;5;241m.\u001b[39m_constructor_from_mgr(new_mgr, axes\u001b[38;5;241m=\u001b[39mnew_mgr\u001b[38;5;241m.\u001b[39maxes)\n\u001b[1;32m   7034\u001b[0m \u001b[38;5;28;01mreturn\u001b[39;00m res\u001b[38;5;241m.\u001b[39m__finalize__(\u001b[38;5;28mself\u001b[39m, method\u001b[38;5;241m=\u001b[39m\u001b[38;5;124m\"\u001b[39m\u001b[38;5;124mconvert_dtypes\u001b[39m\u001b[38;5;124m\"\u001b[39m)\n",
            "File \u001b[0;32m/lib/python3.12/site-packages/pandas/core/internals/managers.py:456\u001b[0m, in \u001b[0;36mBaseBlockManager.convert_dtypes\u001b[0;34m(self, **kwargs)\u001b[0m\n\u001b[1;32m    453\u001b[0m \u001b[38;5;28;01melse\u001b[39;00m:\n\u001b[1;32m    454\u001b[0m     copy \u001b[38;5;241m=\u001b[39m \u001b[38;5;28;01mTrue\u001b[39;00m\n\u001b[0;32m--> 456\u001b[0m \u001b[38;5;28;01mreturn\u001b[39;00m \u001b[38;5;28;43mself\u001b[39;49m\u001b[38;5;241;43m.\u001b[39;49m\u001b[43mapply\u001b[49m\u001b[43m(\u001b[49m\n\u001b[1;32m    457\u001b[0m \u001b[43m    \u001b[49m\u001b[38;5;124;43m\"\u001b[39;49m\u001b[38;5;124;43mconvert_dtypes\u001b[39;49m\u001b[38;5;124;43m\"\u001b[39;49m\u001b[43m,\u001b[49m\u001b[43m \u001b[49m\u001b[43mcopy\u001b[49m\u001b[38;5;241;43m=\u001b[39;49m\u001b[43mcopy\u001b[49m\u001b[43m,\u001b[49m\u001b[43m \u001b[49m\u001b[43musing_cow\u001b[49m\u001b[38;5;241;43m=\u001b[39;49m\u001b[43musing_copy_on_write\u001b[49m\u001b[43m(\u001b[49m\u001b[43m)\u001b[49m\u001b[43m,\u001b[49m\u001b[43m \u001b[49m\u001b[38;5;241;43m*\u001b[39;49m\u001b[38;5;241;43m*\u001b[39;49m\u001b[43mkwargs\u001b[49m\n\u001b[1;32m    458\u001b[0m \u001b[43m\u001b[49m\u001b[43m)\u001b[49m\n",
            "File \u001b[0;32m/lib/python3.12/site-packages/pandas/core/internals/managers.py:364\u001b[0m, in \u001b[0;36mBaseBlockManager.apply\u001b[0;34m(self, f, align_keys, **kwargs)\u001b[0m\n\u001b[1;32m    362\u001b[0m         applied \u001b[38;5;241m=\u001b[39m b\u001b[38;5;241m.\u001b[39mapply(f, \u001b[38;5;241m*\u001b[39m\u001b[38;5;241m*\u001b[39mkwargs)\n\u001b[1;32m    363\u001b[0m     \u001b[38;5;28;01melse\u001b[39;00m:\n\u001b[0;32m--> 364\u001b[0m         applied \u001b[38;5;241m=\u001b[39m \u001b[38;5;28;43mgetattr\u001b[39;49m\u001b[43m(\u001b[49m\u001b[43mb\u001b[49m\u001b[43m,\u001b[49m\u001b[43m \u001b[49m\u001b[43mf\u001b[49m\u001b[43m)\u001b[49m\u001b[43m(\u001b[49m\u001b[38;5;241;43m*\u001b[39;49m\u001b[38;5;241;43m*\u001b[39;49m\u001b[43mkwargs\u001b[49m\u001b[43m)\u001b[49m\n\u001b[1;32m    365\u001b[0m     result_blocks \u001b[38;5;241m=\u001b[39m extend_blocks(applied, result_blocks)\n\u001b[1;32m    367\u001b[0m out \u001b[38;5;241m=\u001b[39m \u001b[38;5;28mtype\u001b[39m(\u001b[38;5;28mself\u001b[39m)\u001b[38;5;241m.\u001b[39mfrom_blocks(result_blocks, \u001b[38;5;28mself\u001b[39m\u001b[38;5;241m.\u001b[39maxes)\n",
            "File \u001b[0;32m/lib/python3.12/site-packages/pandas/core/internals/blocks.py:695\u001b[0m, in \u001b[0;36mBlock.convert_dtypes\u001b[0;34m(self, copy, using_cow, infer_objects, convert_string, convert_integer, convert_boolean, convert_floating, dtype_backend)\u001b[0m\n\u001b[1;32m    691\u001b[0m \u001b[38;5;28;01mfor\u001b[39;00m blk \u001b[38;5;129;01min\u001b[39;00m blks:\n\u001b[1;32m    692\u001b[0m     \u001b[38;5;66;03m# Determine dtype column by column\u001b[39;00m\n\u001b[1;32m    693\u001b[0m     sub_blks \u001b[38;5;241m=\u001b[39m [blk] \u001b[38;5;28;01mif\u001b[39;00m blk\u001b[38;5;241m.\u001b[39mndim \u001b[38;5;241m==\u001b[39m \u001b[38;5;241m1\u001b[39m \u001b[38;5;129;01mor\u001b[39;00m \u001b[38;5;28mself\u001b[39m\u001b[38;5;241m.\u001b[39mshape[\u001b[38;5;241m0\u001b[39m] \u001b[38;5;241m==\u001b[39m \u001b[38;5;241m1\u001b[39m \u001b[38;5;28;01melse\u001b[39;00m blk\u001b[38;5;241m.\u001b[39m_split()\n\u001b[1;32m    694\u001b[0m     dtypes \u001b[38;5;241m=\u001b[39m [\n\u001b[0;32m--> 695\u001b[0m         \u001b[43mconvert_dtypes\u001b[49m\u001b[43m(\u001b[49m\n\u001b[1;32m    696\u001b[0m \u001b[43m            \u001b[49m\u001b[43mb\u001b[49m\u001b[38;5;241;43m.\u001b[39;49m\u001b[43mvalues\u001b[49m\u001b[43m,\u001b[49m\n\u001b[1;32m    697\u001b[0m \u001b[43m            \u001b[49m\u001b[43mconvert_string\u001b[49m\u001b[43m,\u001b[49m\n\u001b[1;32m    698\u001b[0m \u001b[43m            \u001b[49m\u001b[43mconvert_integer\u001b[49m\u001b[43m,\u001b[49m\n\u001b[1;32m    699\u001b[0m \u001b[43m            \u001b[49m\u001b[43mconvert_boolean\u001b[49m\u001b[43m,\u001b[49m\n\u001b[1;32m    700\u001b[0m \u001b[43m            \u001b[49m\u001b[43mconvert_floating\u001b[49m\u001b[43m,\u001b[49m\n\u001b[1;32m    701\u001b[0m \u001b[43m            \u001b[49m\u001b[43minfer_objects\u001b[49m\u001b[43m,\u001b[49m\n\u001b[1;32m    702\u001b[0m \u001b[43m            \u001b[49m\u001b[43mdtype_backend\u001b[49m\u001b[43m,\u001b[49m\n\u001b[1;32m    703\u001b[0m \u001b[43m        \u001b[49m\u001b[43m)\u001b[49m\n\u001b[1;32m    704\u001b[0m         \u001b[38;5;28;01mfor\u001b[39;00m b \u001b[38;5;129;01min\u001b[39;00m sub_blks\n\u001b[1;32m    705\u001b[0m     ]\n\u001b[1;32m    706\u001b[0m     \u001b[38;5;28;01mif\u001b[39;00m \u001b[38;5;28mall\u001b[39m(dtype \u001b[38;5;241m==\u001b[39m \u001b[38;5;28mself\u001b[39m\u001b[38;5;241m.\u001b[39mdtype \u001b[38;5;28;01mfor\u001b[39;00m dtype \u001b[38;5;129;01min\u001b[39;00m dtypes):\n\u001b[1;32m    707\u001b[0m         \u001b[38;5;66;03m# Avoid block splitting if no dtype changes\u001b[39;00m\n\u001b[1;32m    708\u001b[0m         rbs\u001b[38;5;241m.\u001b[39mappend(blk\u001b[38;5;241m.\u001b[39mcopy(deep\u001b[38;5;241m=\u001b[39mcopy))\n",
            "File \u001b[0;32m/lib/python3.12/site-packages/pandas/core/dtypes/cast.py:1145\u001b[0m, in \u001b[0;36mconvert_dtypes\u001b[0;34m(input_array, convert_string, convert_integer, convert_boolean, convert_floating, infer_objects, dtype_backend)\u001b[0m\n\u001b[1;32m   1143\u001b[0m     pa_type \u001b[38;5;241m=\u001b[39m pa\u001b[38;5;241m.\u001b[39mnull()\n\u001b[1;32m   1144\u001b[0m \u001b[38;5;28;01melse\u001b[39;00m:\n\u001b[0;32m-> 1145\u001b[0m     pa_type \u001b[38;5;241m=\u001b[39m \u001b[43mto_pyarrow_type\u001b[49m\u001b[43m(\u001b[49m\u001b[43mbase_dtype\u001b[49m\u001b[43m)\u001b[49m\n\u001b[1;32m   1146\u001b[0m \u001b[38;5;28;01mif\u001b[39;00m pa_type \u001b[38;5;129;01mis\u001b[39;00m \u001b[38;5;129;01mnot\u001b[39;00m \u001b[38;5;28;01mNone\u001b[39;00m:\n\u001b[1;32m   1147\u001b[0m     inferred_dtype \u001b[38;5;241m=\u001b[39m ArrowDtype(pa_type)\n",
            "File \u001b[0;32m/lib/python3.12/site-packages/pandas/core/arrays/arrow/array.py:221\u001b[0m, in \u001b[0;36mto_pyarrow_type\u001b[0;34m(dtype)\u001b[0m\n\u001b[1;32m    215\u001b[0m \u001b[38;5;28;01mdef\u001b[39;00m \u001b[38;5;21mto_pyarrow_type\u001b[39m(\n\u001b[1;32m    216\u001b[0m     dtype: ArrowDtype \u001b[38;5;241m|\u001b[39m pa\u001b[38;5;241m.\u001b[39mDataType \u001b[38;5;241m|\u001b[39m Dtype \u001b[38;5;241m|\u001b[39m \u001b[38;5;28;01mNone\u001b[39;00m,\n\u001b[1;32m    217\u001b[0m ) \u001b[38;5;241m-\u001b[39m\u001b[38;5;241m>\u001b[39m pa\u001b[38;5;241m.\u001b[39mDataType \u001b[38;5;241m|\u001b[39m \u001b[38;5;28;01mNone\u001b[39;00m:\n\u001b[1;32m    218\u001b[0m \u001b[38;5;250m    \u001b[39m\u001b[38;5;124;03m\"\"\"\u001b[39;00m\n\u001b[1;32m    219\u001b[0m \u001b[38;5;124;03m    Convert dtype to a pyarrow type instance.\u001b[39;00m\n\u001b[1;32m    220\u001b[0m \u001b[38;5;124;03m    \"\"\"\u001b[39;00m\n\u001b[0;32m--> 221\u001b[0m     \u001b[38;5;28;01mif\u001b[39;00m \u001b[38;5;28misinstance\u001b[39m(dtype, \u001b[43mArrowDtype\u001b[49m):\n\u001b[1;32m    222\u001b[0m         \u001b[38;5;28;01mreturn\u001b[39;00m dtype\u001b[38;5;241m.\u001b[39mpyarrow_dtype\n\u001b[1;32m    223\u001b[0m     \u001b[38;5;28;01melif\u001b[39;00m \u001b[38;5;28misinstance\u001b[39m(dtype, pa\u001b[38;5;241m.\u001b[39mDataType):\n",
            "\u001b[0;31mNameError\u001b[0m: name 'ArrowDtype' is not defined"
          ],
          "output_type": "error"
        }
      ],
      "execution_count": 87
    },
    {
      "cell_type": "markdown",
      "source": "We can clearly see the passes that Sentinel 2b takes in our area of interest and during our time frame, and during daytime hours.",
      "metadata": {}
    },
    {
      "cell_type": "markdown",
      "source": "---",
      "metadata": {}
    },
    {
      "cell_type": "markdown",
      "source": "## Calculating the position of a satellite constellation",
      "metadata": {}
    },
    {
      "cell_type": "markdown",
      "source": "Usually, humanitarians or emergency response organizations aren't concerned about which satellite captures an image, as long as they have a timely image with the appropriate resolution, (lack of) cloud cover, bands, etc.\n\nThe following example calculates the position of Planet satellites. With their portfolio's high spatial and temporal resolution, they are able to capture high-resolution images immediately before or after an event.",
      "metadata": {}
    },
    {
      "cell_type": "code",
      "source": "planet_url = \"https://celestrak.org/NORAD/elements/gp.php?GROUP=planet&FORMAT=tle\"\n\nr = requests.get(planet_url)\n\nwith open('out2.txt', 'wb') as output:\n    output.write(r.content)",
      "metadata": {
        "trusted": true
      },
      "outputs": [],
      "execution_count": 90
    },
    {
      "cell_type": "code",
      "source": "planet_swarm = load.tle_file(\"out2.txt\", reload=True, filename=\"planet_swarm\")\nplanet_swarm[0]",
      "metadata": {
        "trusted": true
      },
      "outputs": [
        {
          "execution_count": 91,
          "output_type": "execute_result",
          "data": {
            "text/plain": "<EarthSatellite SKYSAT-A catalog #39418 epoch 2024-10-01 03:37:32 UTC>"
          },
          "metadata": {}
        }
      ],
      "execution_count": 91
    },
    {
      "cell_type": "markdown",
      "source": "We then calculate the locations for all Planet satellites during our time frame in set increments.",
      "metadata": {}
    },
    {
      "cell_type": "code",
      "source": "timer = t1\n\nrows = []\n\nwhile timer <= t2:\n    for sat in planet_swarm:\n        timer, longitude, latitude, coords = location_iteration(timer, sat)\n\n        row = pd.DataFrame({'satellite': sat.name, 'timestamp': timer, 'coordinates': [coords], 'lng': longitude, 'lat': latitude}, index=[0])\n        rows.append(row)    \n\n    timer += timedelta(minutes=2) # ~ 3.5 min\n\nplanet_swarm_df = pd.concat(rows, ignore_index=True)\nplanet_swarm_df[\"time_string\"] = planet_swarm_df[\"timestamp\"].dt.strftime('%Y-%m-%d %X')\n",
      "metadata": {
        "trusted": true
      },
      "outputs": [],
      "execution_count": 93
    },
    {
      "cell_type": "code",
      "source": "planet_swarm_gdf = gpd.GeoDataFrame(planet_swarm_df, geometry=\"coordinates\")",
      "metadata": {
        "trusted": true
      },
      "outputs": [],
      "execution_count": 94
    },
    {
      "cell_type": "markdown",
      "source": "Again, we want to look at the satellites in our AOI. Because Planet satellites capture optical images, the following shows the next passes that occur when the satellite is lit (as a proxy of when the ground below is lit).",
      "metadata": {}
    },
    {
      "cell_type": "code",
      "source": "mask_lon = (planet_swarm_gdf.lng >= min_lon) & (planet_swarm_gdf.lng <= max_lon)\nmask_lat = (planet_swarm_gdf.lat >= min_lat) & (planet_swarm_gdf.lat <= max_lat)\n\naoi_planet = planet_swarm_gdf.where(mask_lon & mask_lat).dropna()\n# aoi_planet_day = aoi_planet[aoi_planet.daytime == True]\n# aoi_planet_day[aoi_planet_day[\"timestamp\"] > now]\n\n# planet_day = planet_swarm_gdf[planet_swarm_gdf.daytime == True]\n# planet_day[planet_day[\"timestamp\"] > now]",
      "metadata": {
        "trusted": true
      },
      "outputs": [],
      "execution_count": 96
    },
    {
      "cell_type": "markdown",
      "source": "## Visualize path of satellites",
      "metadata": {}
    },
    {
      "cell_type": "markdown",
      "source": "Instead of visualizing points on a map, a better representation would be a line. We can \"connect the dots\" calculated in the previous step.",
      "metadata": {}
    },
    {
      "cell_type": "code",
      "source": "def create_individual_linestrings(coords, timestamps, time_strings):\n    coords_list = coords.tolist()\n    timestamps_list = timestamps.tolist()\n    time_strings_list = time_strings.tolist()\n    line_segments = [\n        {'linestring': LineString([coords_list[i], coords_list[i + 1]]), 'timestamp': timestamps_list[i], 'time_string': time_strings_list[i]} \n        for i in range(len(coords_list) - 1)\n    ]\n    return line_segments",
      "metadata": {
        "trusted": true
      },
      "outputs": [],
      "execution_count": 97
    },
    {
      "cell_type": "code",
      "source": "new_rows = []\n\nfor satellite, group in aoi_planet.groupby('satellite'):\n    line_segments = create_individual_linestrings(group['coordinates'], group['timestamp'], group['time_string'])\n    for segment in line_segments:\n        new_rows.append({'satellite': satellite, 'linestring': segment['linestring'], 'timestamp': segment['timestamp'], 'time_string': segment['time_string']})\n\npath_segments = gpd.GeoDataFrame(new_rows, geometry='linestring')\npath_segments",
      "metadata": {
        "trusted": true
      },
      "outputs": [
        {
          "execution_count": 98,
          "output_type": "execute_result",
          "data": {
            "text/plain": "        satellite                                         linestring  \\\n0     FLOCK 4BE-1  LINESTRING (-88.38590 29.63284, -74.93469 30.0...   \n1     FLOCK 4BE-1  LINESTRING (-74.93469 30.06657, -83.95139 29.2...   \n2    FLOCK 4BE-10  LINESTRING (-80.70522 22.24144, -82.42559 29.7...   \n3    FLOCK 4BE-10  LINESTRING (-82.42559 29.79405, -77.54475 27.5...   \n4    FLOCK 4BE-11  LINESTRING (-81.31555 22.65074, -83.04370 30.2...   \n..            ...                                                ...   \n286     SKYSAT-C7  LINESTRING (-74.45549 26.70321, -82.54504 29.5...   \n287     SKYSAT-C8  LINESTRING (-80.91899 27.77079, -88.29185 25.2...   \n288     SKYSAT-C8  LINESTRING (-88.29185 25.27733, -81.29526 25.3...   \n289     SKYSAT-C9  LINESTRING (-88.20171 29.50852, -81.48257 27.7...   \n290     TANAGER-1  LINESTRING (-80.02113 27.32426, -75.35736 26.3...   \n\n                    timestamp          time_string  \n0   2024-10-01 16:49:18+00:00  2024-10-01 16:49:18  \n1   2024-10-02 03:21:18+00:00  2024-10-02 03:21:18  \n2   2024-10-02 03:49:18+00:00  2024-10-02 03:49:18  \n3   2024-10-02 03:51:18+00:00  2024-10-02 03:51:18  \n4   2024-10-02 03:51:18+00:00  2024-10-02 03:51:18  \n..                        ...                  ...  \n286 2024-10-02 06:43:18+00:00  2024-10-02 06:43:18  \n287 2024-10-01 19:37:18+00:00  2024-10-01 19:37:18  \n288 2024-10-02 07:37:18+00:00  2024-10-02 07:37:18  \n289 2024-10-01 20:03:18+00:00  2024-10-01 20:03:18  \n290 2024-10-02 03:43:18+00:00  2024-10-02 03:43:18  \n\n[291 rows x 4 columns]",
            "text/html": "<div>\n<style scoped>\n    .dataframe tbody tr th:only-of-type {\n        vertical-align: middle;\n    }\n\n    .dataframe tbody tr th {\n        vertical-align: top;\n    }\n\n    .dataframe thead th {\n        text-align: right;\n    }\n</style>\n<table border=\"1\" class=\"dataframe\">\n  <thead>\n    <tr style=\"text-align: right;\">\n      <th></th>\n      <th>satellite</th>\n      <th>linestring</th>\n      <th>timestamp</th>\n      <th>time_string</th>\n    </tr>\n  </thead>\n  <tbody>\n    <tr>\n      <th>0</th>\n      <td>FLOCK 4BE-1</td>\n      <td>LINESTRING (-88.38590 29.63284, -74.93469 30.0...</td>\n      <td>2024-10-01 16:49:18+00:00</td>\n      <td>2024-10-01 16:49:18</td>\n    </tr>\n    <tr>\n      <th>1</th>\n      <td>FLOCK 4BE-1</td>\n      <td>LINESTRING (-74.93469 30.06657, -83.95139 29.2...</td>\n      <td>2024-10-02 03:21:18+00:00</td>\n      <td>2024-10-02 03:21:18</td>\n    </tr>\n    <tr>\n      <th>2</th>\n      <td>FLOCK 4BE-10</td>\n      <td>LINESTRING (-80.70522 22.24144, -82.42559 29.7...</td>\n      <td>2024-10-02 03:49:18+00:00</td>\n      <td>2024-10-02 03:49:18</td>\n    </tr>\n    <tr>\n      <th>3</th>\n      <td>FLOCK 4BE-10</td>\n      <td>LINESTRING (-82.42559 29.79405, -77.54475 27.5...</td>\n      <td>2024-10-02 03:51:18+00:00</td>\n      <td>2024-10-02 03:51:18</td>\n    </tr>\n    <tr>\n      <th>4</th>\n      <td>FLOCK 4BE-11</td>\n      <td>LINESTRING (-81.31555 22.65074, -83.04370 30.2...</td>\n      <td>2024-10-02 03:51:18+00:00</td>\n      <td>2024-10-02 03:51:18</td>\n    </tr>\n    <tr>\n      <th>...</th>\n      <td>...</td>\n      <td>...</td>\n      <td>...</td>\n      <td>...</td>\n    </tr>\n    <tr>\n      <th>286</th>\n      <td>SKYSAT-C7</td>\n      <td>LINESTRING (-74.45549 26.70321, -82.54504 29.5...</td>\n      <td>2024-10-02 06:43:18+00:00</td>\n      <td>2024-10-02 06:43:18</td>\n    </tr>\n    <tr>\n      <th>287</th>\n      <td>SKYSAT-C8</td>\n      <td>LINESTRING (-80.91899 27.77079, -88.29185 25.2...</td>\n      <td>2024-10-01 19:37:18+00:00</td>\n      <td>2024-10-01 19:37:18</td>\n    </tr>\n    <tr>\n      <th>288</th>\n      <td>SKYSAT-C8</td>\n      <td>LINESTRING (-88.29185 25.27733, -81.29526 25.3...</td>\n      <td>2024-10-02 07:37:18+00:00</td>\n      <td>2024-10-02 07:37:18</td>\n    </tr>\n    <tr>\n      <th>289</th>\n      <td>SKYSAT-C9</td>\n      <td>LINESTRING (-88.20171 29.50852, -81.48257 27.7...</td>\n      <td>2024-10-01 20:03:18+00:00</td>\n      <td>2024-10-01 20:03:18</td>\n    </tr>\n    <tr>\n      <th>290</th>\n      <td>TANAGER-1</td>\n      <td>LINESTRING (-80.02113 27.32426, -75.35736 26.3...</td>\n      <td>2024-10-02 03:43:18+00:00</td>\n      <td>2024-10-02 03:43:18</td>\n    </tr>\n  </tbody>\n</table>\n<p>291 rows × 4 columns</p>\n</div>"
          },
          "metadata": {}
        }
      ],
      "execution_count": 98
    },
    {
      "cell_type": "markdown",
      "source": "If these line segments are not within the AOI, we can drop them from the dataframe.",
      "metadata": {}
    },
    {
      "cell_type": "code",
      "source": "def is_within_aoi(linestring, florida):\n    return linestring.intersects(florida)",
      "metadata": {
        "trusted": true
      },
      "outputs": [],
      "execution_count": 99
    },
    {
      "cell_type": "code",
      "source": "path_segments['within_aoi'] = path_segments['linestring'].apply(lambda x: is_within_aoi(x, florida))\npath_segments_clipped = path_segments[path_segments['within_aoi']].drop(columns='within_aoi')\n\npath_segments_clipped['length'] = path_segments_clipped['linestring'].apply(lambda x: x.length)\n\n# This is a way to drop segments that are not proper representations of paths, such as errors caused by traversing the International Date Line, or jumps between calculated points when a satellite enters and exits a nighttime area.\npath_segments_clipped = path_segments_clipped[path_segments_clipped[\"length\"] <= 75].drop(columns='length')",
      "metadata": {
        "trusted": true
      },
      "outputs": [],
      "execution_count": 100
    },
    {
      "cell_type": "markdown",
      "source": "As with the single satellite, we can create a color scale that shows the time of the satellite's pass for each line segment. In this example, white is closer to `now` and orange is closer to +48h.",
      "metadata": {}
    },
    {
      "cell_type": "code",
      "source": "# This creates a range from 0-1 to define our colormap.\ntime_norm_planet_swarm = (path_segments_clipped.timestamp - t1) / (t2 - t1)\n\ncolors_planet_swarm = apply_continuous_cmap(time_norm_planet_swarm, Oranges_9, alpha=.5)",
      "metadata": {
        "trusted": true
      },
      "outputs": [],
      "execution_count": 101
    },
    {
      "cell_type": "markdown",
      "source": "We can roughly estimate the width of the ground coverage of a Planet satellite to be 6km (i.e., the width of an image is 6km). To visualize this, we can set `get_width` to be 6km.",
      "metadata": {}
    },
    {
      "cell_type": "code",
      "source": "layer2 = PathLayer.from_geopandas(\n    path_segments_clipped,\n    get_color = colors_planet_swarm,\n    get_width=6000,\n    opacity=1,\n    auto_highlight=True\n)",
      "metadata": {
        "trusted": true
      },
      "outputs": [
        {
          "ename": "<class 'NameError'>",
          "evalue": "name 'ArrowDtype' is not defined",
          "traceback": [
            "\u001b[0;31m---------------------------------------------------------------------------\u001b[0m",
            "\u001b[0;31mNameError\u001b[0m                                 Traceback (most recent call last)",
            "Cell \u001b[0;32mIn[102], line 1\u001b[0m\n\u001b[0;32m----> 1\u001b[0m layer2 \u001b[38;5;241m=\u001b[39m \u001b[43mPathLayer\u001b[49m\u001b[38;5;241;43m.\u001b[39;49m\u001b[43mfrom_geopandas\u001b[49m\u001b[43m(\u001b[49m\n\u001b[1;32m      2\u001b[0m \u001b[43m    \u001b[49m\u001b[43mpath_segments_clipped\u001b[49m\u001b[43m,\u001b[49m\n\u001b[1;32m      3\u001b[0m \u001b[43m    \u001b[49m\u001b[43mget_color\u001b[49m\u001b[43m \u001b[49m\u001b[38;5;241;43m=\u001b[39;49m\u001b[43m \u001b[49m\u001b[43mcolors_planet_swarm\u001b[49m\u001b[43m,\u001b[49m\n\u001b[1;32m      4\u001b[0m \u001b[43m    \u001b[49m\u001b[43mget_width\u001b[49m\u001b[38;5;241;43m=\u001b[39;49m\u001b[38;5;241;43m6000\u001b[39;49m\u001b[43m,\u001b[49m\n\u001b[1;32m      5\u001b[0m \u001b[43m    \u001b[49m\u001b[43mopacity\u001b[49m\u001b[38;5;241;43m=\u001b[39;49m\u001b[38;5;241;43m1\u001b[39;49m\u001b[43m,\u001b[49m\n\u001b[1;32m      6\u001b[0m \u001b[43m    \u001b[49m\u001b[43mauto_highlight\u001b[49m\u001b[38;5;241;43m=\u001b[39;49m\u001b[38;5;28;43;01mTrue\u001b[39;49;00m\n\u001b[1;32m      7\u001b[0m \u001b[43m)\u001b[49m\n",
            "File \u001b[0;32m/lib/python3.12/site-packages/lonboard/_layer.py:1517\u001b[0m, in \u001b[0;36mPathLayer.from_geopandas\u001b[0;34m(cls, gdf, auto_downcast, **kwargs)\u001b[0m\n\u001b[1;32m   1509\u001b[0m \u001b[38;5;129m@classmethod\u001b[39m\n\u001b[1;32m   1510\u001b[0m \u001b[38;5;28;01mdef\u001b[39;00m \u001b[38;5;21mfrom_geopandas\u001b[39m(\n\u001b[1;32m   1511\u001b[0m     \u001b[38;5;28mcls\u001b[39m,\n\u001b[0;32m   (...)\u001b[0m\n\u001b[1;32m   1515\u001b[0m     \u001b[38;5;241m*\u001b[39m\u001b[38;5;241m*\u001b[39mkwargs: Unpack[PathLayerKwargs],\n\u001b[1;32m   1516\u001b[0m ) \u001b[38;5;241m-\u001b[39m\u001b[38;5;241m>\u001b[39m Self:\n\u001b[0;32m-> 1517\u001b[0m     \u001b[38;5;28;01mreturn\u001b[39;00m \u001b[38;5;28;43msuper\u001b[39;49m\u001b[43m(\u001b[49m\u001b[43m)\u001b[49m\u001b[38;5;241;43m.\u001b[39;49m\u001b[43mfrom_geopandas\u001b[49m\u001b[43m(\u001b[49m\u001b[43mgdf\u001b[49m\u001b[38;5;241;43m=\u001b[39;49m\u001b[43mgdf\u001b[49m\u001b[43m,\u001b[49m\u001b[43m \u001b[49m\u001b[43mauto_downcast\u001b[49m\u001b[38;5;241;43m=\u001b[39;49m\u001b[43mauto_downcast\u001b[49m\u001b[43m,\u001b[49m\u001b[43m \u001b[49m\u001b[38;5;241;43m*\u001b[39;49m\u001b[38;5;241;43m*\u001b[39;49m\u001b[43mkwargs\u001b[49m\u001b[43m)\u001b[49m\n",
            "File \u001b[0;32m/lib/python3.12/site-packages/lonboard/_layer.py:389\u001b[0m, in \u001b[0;36mBaseArrowLayer.from_geopandas\u001b[0;34m(cls, gdf, auto_downcast, **kwargs)\u001b[0m\n\u001b[1;32m    370\u001b[0m \u001b[38;5;250m\u001b[39m\u001b[38;5;124;03m\"\"\"Construct a Layer from a geopandas GeoDataFrame.\u001b[39;00m\n\u001b[1;32m    371\u001b[0m \n\u001b[1;32m    372\u001b[0m \u001b[38;5;124;03mThe GeoDataFrame will be reprojected to EPSG:4326 if it is not already in that\u001b[39;00m\n\u001b[0;32m   (...)\u001b[0m\n\u001b[1;32m    385\u001b[0m \u001b[38;5;124;03m    A Layer with the initialized data.\u001b[39;00m\n\u001b[1;32m    386\u001b[0m \u001b[38;5;124;03m\"\"\"\u001b[39;00m\n\u001b[1;32m    387\u001b[0m \u001b[38;5;28;01mif\u001b[39;00m auto_downcast:\n\u001b[1;32m    388\u001b[0m     \u001b[38;5;66;03m# Note: we don't deep copy because we don't need to clone geometries\u001b[39;00m\n\u001b[0;32m--> 389\u001b[0m     gdf \u001b[38;5;241m=\u001b[39m \u001b[43m_auto_downcast\u001b[49m\u001b[43m(\u001b[49m\u001b[43mgdf\u001b[49m\u001b[38;5;241;43m.\u001b[39;49m\u001b[43mcopy\u001b[49m\u001b[43m(\u001b[49m\u001b[43m)\u001b[49m\u001b[43m)\u001b[49m  \u001b[38;5;66;03m# type: ignore\u001b[39;00m\n\u001b[1;32m    391\u001b[0m table \u001b[38;5;241m=\u001b[39m geopandas_to_geoarrow(gdf)\n\u001b[1;32m    392\u001b[0m \u001b[38;5;28;01mreturn\u001b[39;00m \u001b[38;5;28mcls\u001b[39m(table\u001b[38;5;241m=\u001b[39mtable, \u001b[38;5;241m*\u001b[39m\u001b[38;5;241m*\u001b[39mkwargs)\n",
            "File \u001b[0;32m/lib/python3.12/site-packages/lonboard/_utils.py:61\u001b[0m, in \u001b[0;36mauto_downcast\u001b[0;34m(df)\u001b[0m\n\u001b[1;32m     54\u001b[0m check_pandas_version()\n\u001b[1;32m     56\u001b[0m \u001b[38;5;66;03m# Convert objects to numeric types where possible.\u001b[39;00m\n\u001b[1;32m     57\u001b[0m \u001b[38;5;66;03m# Note: we have to exclude geometry because\u001b[39;00m\n\u001b[1;32m     58\u001b[0m \u001b[38;5;66;03m# `convert_dtypes(dtype_backend=\"pyarrow\")` fails on the geometory column, but we\u001b[39;00m\n\u001b[1;32m     59\u001b[0m \u001b[38;5;66;03m# also have to manually cast to a non-geo data frame because it'll fail to convert\u001b[39;00m\n\u001b[1;32m     60\u001b[0m \u001b[38;5;66;03m# dtypes on a GeoDataFrame without a geom col\u001b[39;00m\n\u001b[0;32m---> 61\u001b[0m casted_df \u001b[38;5;241m=\u001b[39m \u001b[43mpd\u001b[49m\u001b[38;5;241;43m.\u001b[39;49m\u001b[43mDataFrame\u001b[49m\u001b[43m(\u001b[49m\u001b[43mdf\u001b[49m\u001b[38;5;241;43m.\u001b[39;49m\u001b[43mselect_dtypes\u001b[49m\u001b[43m(\u001b[49m\u001b[43mexclude\u001b[49m\u001b[38;5;241;43m=\u001b[39;49m\u001b[38;5;124;43m\"\u001b[39;49m\u001b[38;5;124;43mgeometry\u001b[39;49m\u001b[38;5;124;43m\"\u001b[39;49m\u001b[43m)\u001b[49m\u001b[43m)\u001b[49m\u001b[38;5;241;43m.\u001b[39;49m\u001b[43mconvert_dtypes\u001b[49m\u001b[43m(\u001b[49m\u001b[43m  \u001b[49m\u001b[38;5;66;43;03m# type: ignore\u001b[39;49;00m\n\u001b[1;32m     62\u001b[0m \u001b[43m    \u001b[49m\u001b[43minfer_objects\u001b[49m\u001b[38;5;241;43m=\u001b[39;49m\u001b[38;5;28;43;01mTrue\u001b[39;49;00m\u001b[43m,\u001b[49m\n\u001b[1;32m     63\u001b[0m \u001b[43m    \u001b[49m\u001b[43mconvert_string\u001b[49m\u001b[38;5;241;43m=\u001b[39;49m\u001b[38;5;28;43;01mTrue\u001b[39;49;00m\u001b[43m,\u001b[49m\n\u001b[1;32m     64\u001b[0m \u001b[43m    \u001b[49m\u001b[43mconvert_integer\u001b[49m\u001b[38;5;241;43m=\u001b[39;49m\u001b[38;5;28;43;01mTrue\u001b[39;49;00m\u001b[43m,\u001b[49m\n\u001b[1;32m     65\u001b[0m \u001b[43m    \u001b[49m\u001b[43mconvert_boolean\u001b[49m\u001b[38;5;241;43m=\u001b[39;49m\u001b[38;5;28;43;01mTrue\u001b[39;49;00m\u001b[43m,\u001b[49m\n\u001b[1;32m     66\u001b[0m \u001b[43m    \u001b[49m\u001b[43mconvert_floating\u001b[49m\u001b[38;5;241;43m=\u001b[39;49m\u001b[38;5;28;43;01mTrue\u001b[39;49;00m\u001b[43m,\u001b[49m\n\u001b[1;32m     67\u001b[0m \u001b[43m    \u001b[49m\u001b[43mdtype_backend\u001b[49m\u001b[38;5;241;43m=\u001b[39;49m\u001b[38;5;124;43m\"\u001b[39;49m\u001b[38;5;124;43mpyarrow\u001b[39;49m\u001b[38;5;124;43m\"\u001b[39;49m\u001b[43m,\u001b[49m\n\u001b[1;32m     68\u001b[0m \u001b[43m\u001b[49m\u001b[43m)\u001b[49m\n\u001b[1;32m     69\u001b[0m df[casted_df\u001b[38;5;241m.\u001b[39mcolumns] \u001b[38;5;241m=\u001b[39m casted_df\n\u001b[1;32m     71\u001b[0m \u001b[38;5;66;03m# Try to convert _all_ integer columns to unsigned integer columns, but use\u001b[39;00m\n\u001b[1;32m     72\u001b[0m \u001b[38;5;66;03m# errors='ignore' to return signed integer data types for columns with negative\u001b[39;00m\n\u001b[1;32m     73\u001b[0m \u001b[38;5;66;03m# integers.\u001b[39;00m\n",
            "File \u001b[0;32m/lib/python3.12/site-packages/pandas/core/generic.py:7025\u001b[0m, in \u001b[0;36mNDFrame.convert_dtypes\u001b[0;34m(self, infer_objects, convert_string, convert_integer, convert_boolean, convert_floating, dtype_backend)\u001b[0m\n\u001b[1;32m   6896\u001b[0m \u001b[38;5;250m\u001b[39m\u001b[38;5;124;03m\"\"\"\u001b[39;00m\n\u001b[1;32m   6897\u001b[0m \u001b[38;5;124;03mConvert columns to the best possible dtypes using dtypes supporting ``pd.NA``.\u001b[39;00m\n\u001b[1;32m   6898\u001b[0m \n\u001b[0;32m   (...)\u001b[0m\n\u001b[1;32m   7022\u001b[0m \u001b[38;5;124;03mdtype: string\u001b[39;00m\n\u001b[1;32m   7023\u001b[0m \u001b[38;5;124;03m\"\"\"\u001b[39;00m\n\u001b[1;32m   7024\u001b[0m check_dtype_backend(dtype_backend)\n\u001b[0;32m-> 7025\u001b[0m new_mgr \u001b[38;5;241m=\u001b[39m \u001b[38;5;28;43mself\u001b[39;49m\u001b[38;5;241;43m.\u001b[39;49m\u001b[43m_mgr\u001b[49m\u001b[38;5;241;43m.\u001b[39;49m\u001b[43mconvert_dtypes\u001b[49m\u001b[43m(\u001b[49m\u001b[43m  \u001b[49m\u001b[38;5;66;43;03m# type: ignore[union-attr]\u001b[39;49;00m\n\u001b[1;32m   7026\u001b[0m \u001b[43m    \u001b[49m\u001b[43minfer_objects\u001b[49m\u001b[38;5;241;43m=\u001b[39;49m\u001b[43minfer_objects\u001b[49m\u001b[43m,\u001b[49m\n\u001b[1;32m   7027\u001b[0m \u001b[43m    \u001b[49m\u001b[43mconvert_string\u001b[49m\u001b[38;5;241;43m=\u001b[39;49m\u001b[43mconvert_string\u001b[49m\u001b[43m,\u001b[49m\n\u001b[1;32m   7028\u001b[0m \u001b[43m    \u001b[49m\u001b[43mconvert_integer\u001b[49m\u001b[38;5;241;43m=\u001b[39;49m\u001b[43mconvert_integer\u001b[49m\u001b[43m,\u001b[49m\n\u001b[1;32m   7029\u001b[0m \u001b[43m    \u001b[49m\u001b[43mconvert_boolean\u001b[49m\u001b[38;5;241;43m=\u001b[39;49m\u001b[43mconvert_boolean\u001b[49m\u001b[43m,\u001b[49m\n\u001b[1;32m   7030\u001b[0m \u001b[43m    \u001b[49m\u001b[43mconvert_floating\u001b[49m\u001b[38;5;241;43m=\u001b[39;49m\u001b[43mconvert_floating\u001b[49m\u001b[43m,\u001b[49m\n\u001b[1;32m   7031\u001b[0m \u001b[43m    \u001b[49m\u001b[43mdtype_backend\u001b[49m\u001b[38;5;241;43m=\u001b[39;49m\u001b[43mdtype_backend\u001b[49m\u001b[43m,\u001b[49m\n\u001b[1;32m   7032\u001b[0m \u001b[43m\u001b[49m\u001b[43m)\u001b[49m\n\u001b[1;32m   7033\u001b[0m res \u001b[38;5;241m=\u001b[39m \u001b[38;5;28mself\u001b[39m\u001b[38;5;241m.\u001b[39m_constructor_from_mgr(new_mgr, axes\u001b[38;5;241m=\u001b[39mnew_mgr\u001b[38;5;241m.\u001b[39maxes)\n\u001b[1;32m   7034\u001b[0m \u001b[38;5;28;01mreturn\u001b[39;00m res\u001b[38;5;241m.\u001b[39m__finalize__(\u001b[38;5;28mself\u001b[39m, method\u001b[38;5;241m=\u001b[39m\u001b[38;5;124m\"\u001b[39m\u001b[38;5;124mconvert_dtypes\u001b[39m\u001b[38;5;124m\"\u001b[39m)\n",
            "File \u001b[0;32m/lib/python3.12/site-packages/pandas/core/internals/managers.py:456\u001b[0m, in \u001b[0;36mBaseBlockManager.convert_dtypes\u001b[0;34m(self, **kwargs)\u001b[0m\n\u001b[1;32m    453\u001b[0m \u001b[38;5;28;01melse\u001b[39;00m:\n\u001b[1;32m    454\u001b[0m     copy \u001b[38;5;241m=\u001b[39m \u001b[38;5;28;01mTrue\u001b[39;00m\n\u001b[0;32m--> 456\u001b[0m \u001b[38;5;28;01mreturn\u001b[39;00m \u001b[38;5;28;43mself\u001b[39;49m\u001b[38;5;241;43m.\u001b[39;49m\u001b[43mapply\u001b[49m\u001b[43m(\u001b[49m\n\u001b[1;32m    457\u001b[0m \u001b[43m    \u001b[49m\u001b[38;5;124;43m\"\u001b[39;49m\u001b[38;5;124;43mconvert_dtypes\u001b[39;49m\u001b[38;5;124;43m\"\u001b[39;49m\u001b[43m,\u001b[49m\u001b[43m \u001b[49m\u001b[43mcopy\u001b[49m\u001b[38;5;241;43m=\u001b[39;49m\u001b[43mcopy\u001b[49m\u001b[43m,\u001b[49m\u001b[43m \u001b[49m\u001b[43musing_cow\u001b[49m\u001b[38;5;241;43m=\u001b[39;49m\u001b[43musing_copy_on_write\u001b[49m\u001b[43m(\u001b[49m\u001b[43m)\u001b[49m\u001b[43m,\u001b[49m\u001b[43m \u001b[49m\u001b[38;5;241;43m*\u001b[39;49m\u001b[38;5;241;43m*\u001b[39;49m\u001b[43mkwargs\u001b[49m\n\u001b[1;32m    458\u001b[0m \u001b[43m\u001b[49m\u001b[43m)\u001b[49m\n",
            "File \u001b[0;32m/lib/python3.12/site-packages/pandas/core/internals/managers.py:364\u001b[0m, in \u001b[0;36mBaseBlockManager.apply\u001b[0;34m(self, f, align_keys, **kwargs)\u001b[0m\n\u001b[1;32m    362\u001b[0m         applied \u001b[38;5;241m=\u001b[39m b\u001b[38;5;241m.\u001b[39mapply(f, \u001b[38;5;241m*\u001b[39m\u001b[38;5;241m*\u001b[39mkwargs)\n\u001b[1;32m    363\u001b[0m     \u001b[38;5;28;01melse\u001b[39;00m:\n\u001b[0;32m--> 364\u001b[0m         applied \u001b[38;5;241m=\u001b[39m \u001b[38;5;28;43mgetattr\u001b[39;49m\u001b[43m(\u001b[49m\u001b[43mb\u001b[49m\u001b[43m,\u001b[49m\u001b[43m \u001b[49m\u001b[43mf\u001b[49m\u001b[43m)\u001b[49m\u001b[43m(\u001b[49m\u001b[38;5;241;43m*\u001b[39;49m\u001b[38;5;241;43m*\u001b[39;49m\u001b[43mkwargs\u001b[49m\u001b[43m)\u001b[49m\n\u001b[1;32m    365\u001b[0m     result_blocks \u001b[38;5;241m=\u001b[39m extend_blocks(applied, result_blocks)\n\u001b[1;32m    367\u001b[0m out \u001b[38;5;241m=\u001b[39m \u001b[38;5;28mtype\u001b[39m(\u001b[38;5;28mself\u001b[39m)\u001b[38;5;241m.\u001b[39mfrom_blocks(result_blocks, \u001b[38;5;28mself\u001b[39m\u001b[38;5;241m.\u001b[39maxes)\n",
            "File \u001b[0;32m/lib/python3.12/site-packages/pandas/core/internals/blocks.py:695\u001b[0m, in \u001b[0;36mBlock.convert_dtypes\u001b[0;34m(self, copy, using_cow, infer_objects, convert_string, convert_integer, convert_boolean, convert_floating, dtype_backend)\u001b[0m\n\u001b[1;32m    691\u001b[0m \u001b[38;5;28;01mfor\u001b[39;00m blk \u001b[38;5;129;01min\u001b[39;00m blks:\n\u001b[1;32m    692\u001b[0m     \u001b[38;5;66;03m# Determine dtype column by column\u001b[39;00m\n\u001b[1;32m    693\u001b[0m     sub_blks \u001b[38;5;241m=\u001b[39m [blk] \u001b[38;5;28;01mif\u001b[39;00m blk\u001b[38;5;241m.\u001b[39mndim \u001b[38;5;241m==\u001b[39m \u001b[38;5;241m1\u001b[39m \u001b[38;5;129;01mor\u001b[39;00m \u001b[38;5;28mself\u001b[39m\u001b[38;5;241m.\u001b[39mshape[\u001b[38;5;241m0\u001b[39m] \u001b[38;5;241m==\u001b[39m \u001b[38;5;241m1\u001b[39m \u001b[38;5;28;01melse\u001b[39;00m blk\u001b[38;5;241m.\u001b[39m_split()\n\u001b[1;32m    694\u001b[0m     dtypes \u001b[38;5;241m=\u001b[39m [\n\u001b[0;32m--> 695\u001b[0m         \u001b[43mconvert_dtypes\u001b[49m\u001b[43m(\u001b[49m\n\u001b[1;32m    696\u001b[0m \u001b[43m            \u001b[49m\u001b[43mb\u001b[49m\u001b[38;5;241;43m.\u001b[39;49m\u001b[43mvalues\u001b[49m\u001b[43m,\u001b[49m\n\u001b[1;32m    697\u001b[0m \u001b[43m            \u001b[49m\u001b[43mconvert_string\u001b[49m\u001b[43m,\u001b[49m\n\u001b[1;32m    698\u001b[0m \u001b[43m            \u001b[49m\u001b[43mconvert_integer\u001b[49m\u001b[43m,\u001b[49m\n\u001b[1;32m    699\u001b[0m \u001b[43m            \u001b[49m\u001b[43mconvert_boolean\u001b[49m\u001b[43m,\u001b[49m\n\u001b[1;32m    700\u001b[0m \u001b[43m            \u001b[49m\u001b[43mconvert_floating\u001b[49m\u001b[43m,\u001b[49m\n\u001b[1;32m    701\u001b[0m \u001b[43m            \u001b[49m\u001b[43minfer_objects\u001b[49m\u001b[43m,\u001b[49m\n\u001b[1;32m    702\u001b[0m \u001b[43m            \u001b[49m\u001b[43mdtype_backend\u001b[49m\u001b[43m,\u001b[49m\n\u001b[1;32m    703\u001b[0m \u001b[43m        \u001b[49m\u001b[43m)\u001b[49m\n\u001b[1;32m    704\u001b[0m         \u001b[38;5;28;01mfor\u001b[39;00m b \u001b[38;5;129;01min\u001b[39;00m sub_blks\n\u001b[1;32m    705\u001b[0m     ]\n\u001b[1;32m    706\u001b[0m     \u001b[38;5;28;01mif\u001b[39;00m \u001b[38;5;28mall\u001b[39m(dtype \u001b[38;5;241m==\u001b[39m \u001b[38;5;28mself\u001b[39m\u001b[38;5;241m.\u001b[39mdtype \u001b[38;5;28;01mfor\u001b[39;00m dtype \u001b[38;5;129;01min\u001b[39;00m dtypes):\n\u001b[1;32m    707\u001b[0m         \u001b[38;5;66;03m# Avoid block splitting if no dtype changes\u001b[39;00m\n\u001b[1;32m    708\u001b[0m         rbs\u001b[38;5;241m.\u001b[39mappend(blk\u001b[38;5;241m.\u001b[39mcopy(deep\u001b[38;5;241m=\u001b[39mcopy))\n",
            "File \u001b[0;32m/lib/python3.12/site-packages/pandas/core/dtypes/cast.py:1145\u001b[0m, in \u001b[0;36mconvert_dtypes\u001b[0;34m(input_array, convert_string, convert_integer, convert_boolean, convert_floating, infer_objects, dtype_backend)\u001b[0m\n\u001b[1;32m   1143\u001b[0m     pa_type \u001b[38;5;241m=\u001b[39m pa\u001b[38;5;241m.\u001b[39mnull()\n\u001b[1;32m   1144\u001b[0m \u001b[38;5;28;01melse\u001b[39;00m:\n\u001b[0;32m-> 1145\u001b[0m     pa_type \u001b[38;5;241m=\u001b[39m \u001b[43mto_pyarrow_type\u001b[49m\u001b[43m(\u001b[49m\u001b[43mbase_dtype\u001b[49m\u001b[43m)\u001b[49m\n\u001b[1;32m   1146\u001b[0m \u001b[38;5;28;01mif\u001b[39;00m pa_type \u001b[38;5;129;01mis\u001b[39;00m \u001b[38;5;129;01mnot\u001b[39;00m \u001b[38;5;28;01mNone\u001b[39;00m:\n\u001b[1;32m   1147\u001b[0m     inferred_dtype \u001b[38;5;241m=\u001b[39m ArrowDtype(pa_type)\n",
            "File \u001b[0;32m/lib/python3.12/site-packages/pandas/core/arrays/arrow/array.py:221\u001b[0m, in \u001b[0;36mto_pyarrow_type\u001b[0;34m(dtype)\u001b[0m\n\u001b[1;32m    215\u001b[0m \u001b[38;5;28;01mdef\u001b[39;00m \u001b[38;5;21mto_pyarrow_type\u001b[39m(\n\u001b[1;32m    216\u001b[0m     dtype: ArrowDtype \u001b[38;5;241m|\u001b[39m pa\u001b[38;5;241m.\u001b[39mDataType \u001b[38;5;241m|\u001b[39m Dtype \u001b[38;5;241m|\u001b[39m \u001b[38;5;28;01mNone\u001b[39;00m,\n\u001b[1;32m    217\u001b[0m ) \u001b[38;5;241m-\u001b[39m\u001b[38;5;241m>\u001b[39m pa\u001b[38;5;241m.\u001b[39mDataType \u001b[38;5;241m|\u001b[39m \u001b[38;5;28;01mNone\u001b[39;00m:\n\u001b[1;32m    218\u001b[0m \u001b[38;5;250m    \u001b[39m\u001b[38;5;124;03m\"\"\"\u001b[39;00m\n\u001b[1;32m    219\u001b[0m \u001b[38;5;124;03m    Convert dtype to a pyarrow type instance.\u001b[39;00m\n\u001b[1;32m    220\u001b[0m \u001b[38;5;124;03m    \"\"\"\u001b[39;00m\n\u001b[0;32m--> 221\u001b[0m     \u001b[38;5;28;01mif\u001b[39;00m \u001b[38;5;28misinstance\u001b[39m(dtype, \u001b[43mArrowDtype\u001b[49m):\n\u001b[1;32m    222\u001b[0m         \u001b[38;5;28;01mreturn\u001b[39;00m dtype\u001b[38;5;241m.\u001b[39mpyarrow_dtype\n\u001b[1;32m    223\u001b[0m     \u001b[38;5;28;01melif\u001b[39;00m \u001b[38;5;28misinstance\u001b[39m(dtype, pa\u001b[38;5;241m.\u001b[39mDataType):\n",
            "\u001b[0;31mNameError\u001b[0m: name 'ArrowDtype' is not defined"
          ],
          "output_type": "error"
        }
      ],
      "execution_count": 102
    },
    {
      "cell_type": "code",
      "source": "m2 = Map(\n    [layer2],\n    basemap_style = basemap.CartoBasemap.DarkMatter,\n    )\nm2",
      "metadata": {
        "trusted": true
      },
      "outputs": [
        {
          "ename": "<class 'NameError'>",
          "evalue": "name 'layer2' is not defined",
          "traceback": [
            "\u001b[0;31m---------------------------------------------------------------------------\u001b[0m",
            "\u001b[0;31mNameError\u001b[0m                                 Traceback (most recent call last)",
            "Cell \u001b[0;32mIn[103], line 2\u001b[0m\n\u001b[1;32m      1\u001b[0m m2 \u001b[38;5;241m=\u001b[39m Map(\n\u001b[0;32m----> 2\u001b[0m     [\u001b[43mlayer2\u001b[49m],\n\u001b[1;32m      3\u001b[0m     basemap_style \u001b[38;5;241m=\u001b[39m basemap\u001b[38;5;241m.\u001b[39mCartoBasemap\u001b[38;5;241m.\u001b[39mDarkMatter,\n\u001b[1;32m      4\u001b[0m     )\n\u001b[1;32m      5\u001b[0m m2\n",
            "\u001b[0;31mNameError\u001b[0m: name 'layer2' is not defined"
          ],
          "output_type": "error"
        }
      ],
      "execution_count": 103
    },
    {
      "cell_type": "markdown",
      "source": "As expected, there are many more passes than by a single satellite. Due to small area of interests for many events, cloud cover, and other variables, a larger constellation lets practitioners then narrow down their search.\n\nThe visualization of these paths give practitioners a good sense of the time an image of an area of interest will be captured. For example, a practitioner would be interested in an AOI of this size, but might be particularly interested in images of Miami. They could zoom in to Miami and see if a path covers or comes close to Miami. If so, and if there isn't excessive cloud cover, an image could be made available or tasked. If multiple paths cover Miami, that indicates a better chance of capturing a valuable image.\n\nOnce a satellite is calculated to have passed over an AOI, the next step could be to analyze the imagery, ideally using the other STAC and COG focused notebooks in this repository. Combining a positioning calculation with automated image loading and processing could be the foundations for a powerful EO-based monitoring and alerting system.",
      "metadata": {}
    }
  ]
}